{
 "cells": [
  {
   "cell_type": "markdown",
   "metadata": {},
   "source": [
    "# Image Processing"
   ]
  },
  {
   "cell_type": "markdown",
   "metadata": {},
   "source": [
    "### Downloading Book Cover Images Using Selenium"
   ]
  },
  {
   "cell_type": "code",
   "execution_count": null,
   "metadata": {},
   "outputs": [],
   "source": [
    "import pandas as pd\n",
    "from selenium import webdriver\n",
    "from selenium.webdriver.chrome.service import Service\n",
    "from selenium.webdriver.chrome.options import Options\n",
    "from webdriver_manager.chrome import ChromeDriverManager\n",
    "import os\n",
    "import time\n",
    "\n",
    "# Load dataset from \"processed_data.csv\"\n",
    "file_path = \"processed_data.csv\"  # Ensure this file exists\n",
    "df = pd.read_csv(file_path)\n",
    "\n",
    "# Set up Selenium options\n",
    "chrome_options = Options()\n",
    "chrome_options.add_argument(\"--headless\")  # Run in headless mode\n",
    "chrome_options.add_argument(\"--disable-gpu\")\n",
    "chrome_options.add_argument(\"--no-sandbox\")\n",
    "\n",
    "# Start WebDriver\n",
    "service = Service(ChromeDriverManager().install())\n",
    "driver = webdriver.Chrome(service=service, options=chrome_options)\n",
    "\n",
    "# Directory to save images\n",
    "image_dir = \"book_covers\"\n",
    "os.makedirs(image_dir, exist_ok=True)\n",
    "\n",
    "# Number of images to download\n",
    "num_images = 339  # Adjust as needed\n",
    "\n",
    "# Extract image URLs from the \"Cover Image\" column\n",
    "image_urls = df[\"Cover Image\"].dropna().head(num_images).tolist()\n",
    "\n",
    "# Download images using Selenium and save them directly\n",
    "for idx, url in enumerate(image_urls):\n",
    "    try:\n",
    "        driver.get(url)\n",
    "        time.sleep(3)  # Wait for the page to load\n",
    "        \n",
    "        # Locate the image element\n",
    "        image_element = driver.find_element(\"tag name\", \"img\")\n",
    "\n",
    "        # Save the image via Selenium\n",
    "        image_path = os.path.join(image_dir, f\"book_{idx}.png\")\n",
    "        image_element.screenshot(image_path)\n",
    "\n",
    "    except Exception:\n",
    "        pass  # Ignore errors and continue\n",
    "\n",
    "# Close the browser after completing the task\n",
    "driver.quit()\n"
   ]
  },
  {
   "cell_type": "markdown",
   "metadata": {},
   "source": [
    "We used Selenium to download book cover images from processed_data.csv, bypassing Cloudflare protection and dynamic loading by simulating real browsing. Running Selenium in headless mode, we stored images in book_covers, extracting 313 URLs from the \"Cover Image\" column. For each, we opened the webpage, located the <img> element, and captured a screenshot. Error handling ensured smooth execution. With the covers downloaded, we can now analyze them for classification using color extraction, contrast analysis, or machine learning."
   ]
  },
  {
   "cell_type": "markdown",
   "metadata": {},
   "source": [
    " ### Analyzing Images and Extracting Key Features"
   ]
  },
  {
   "cell_type": "markdown",
   "metadata": {},
   "source": [
    "Now, we will load the downloaded images and extract the following visual features:\n",
    "\n",
    "- Mean Color: To determine the dominant colors in each cover.\n",
    "- Contrast: To measure how clear and vibrant the cover is.\n",
    "- Edge Complexity: To assess the level of detail and design complexity."
   ]
  },
  {
   "cell_type": "code",
   "execution_count": 34,
   "metadata": {},
   "outputs": [],
   "source": [
    "import cv2\n",
    "import numpy as np\n",
    "import pandas as pd\n",
    "import os\n",
    "\n",
    "# Define the directory where book cover images are stored\n",
    "image_dir = \"book_covers\"\n",
    "image_files = [f for f in os.listdir(image_dir) if f.endswith(\".png\")]\n",
    "\n",
    "# Function to extract visual features from images\n",
    "def extract_visual_features(image_path):\n",
    "    img = cv2.imread(image_path)\n",
    "    img = cv2.cvtColor(img, cv2.COLOR_BGR2RGB)\n",
    "\n",
    "    # Compute mean color\n",
    "    mean_color = np.mean(img, axis=(0, 1))\n",
    "\n",
    "    # Convert the image to grayscale for contrast analysis\n",
    "    gray_img = cv2.cvtColor(img, cv2.COLOR_RGB2GRAY)\n",
    "    contrast = np.std(gray_img)\n",
    "\n",
    "    # Use edge detection to measure design complexity\n",
    "    edges = cv2.Canny(gray_img, 100, 200)\n",
    "    edge_complexity = np.mean(edges)\n",
    "\n",
    "    return mean_color, contrast, edge_complexity\n",
    "\n",
    "# Extract features from all images\n",
    "features = []\n",
    "for img_file in image_files:\n",
    "    img_path = os.path.join(image_dir, img_file)\n",
    "    mean_color, contrast, edge_complexity = extract_visual_features(img_path)\n",
    "    features.append((img_file, mean_color, contrast, edge_complexity))\n",
    "\n",
    "# Convert the extracted features into a DataFrame\n",
    "df_features = pd.DataFrame(features, columns=[\"Filename\", \"Mean_Color\", \"Contrast\", \"Edge_Complexity\"])\n",
    "\n",
    "# Save extracted features to a CSV file\n",
    "df_features.to_csv(\"book_cover_features.csv\", index=False)\n",
    "\n",
    "# Load extracted feature data\n",
    "df_features = pd.read_csv(\"book_cover_features.csv\")\n"
   ]
  },
  {
   "cell_type": "markdown",
   "metadata": {},
   "source": [
    "### Classifying Covers as \"Interesting\" or \"Not Interesting\""
   ]
  },
  {
   "cell_type": "markdown",
   "metadata": {},
   "source": [
    "After extracting features, we will classify covers as \"Interesting\" if they exceed a threshold in contrast or edge complexity."
   ]
  },
  {
   "cell_type": "code",
   "execution_count": 35,
   "metadata": {},
   "outputs": [],
   "source": [
    "# Calculate thresholds for determining interesting covers\n",
    "contrast_threshold = df_features[\"Contrast\"].median()\n",
    "edge_threshold = df_features[\"Edge_Complexity\"].median()\n",
    "\n",
    "# Adjust the threshold slightly to make classification more practical\n",
    "contrast_threshold *= 0.8\n",
    "edge_threshold *= 0.8\n",
    "\n",
    "# Classify covers based on extracted features\n",
    "df_features[\"Interesting\"] = df_features.apply(\n",
    "    lambda row: 1 if row[\"Contrast\"] > contrast_threshold or row[\"Edge_Complexity\"] > edge_threshold else 0, axis=1\n",
    ")\n",
    "\n",
    "# Save the classified covers to a new CSV file\n",
    "df_features.to_csv(\"book_cover_features_with_classification.csv\", index=False)\n"
   ]
  },
  {
   "cell_type": "markdown",
   "metadata": {},
   "source": [
    "### Merging Classification Results with Original Book Data"
   ]
  },
  {
   "cell_type": "markdown",
   "metadata": {},
   "source": [
    "Finally, we will update processed_data.csv to include the new \"Interesting or Not\" classification."
   ]
  },
  {
   "cell_type": "code",
   "execution_count": null,
   "metadata": {},
   "outputs": [],
   "source": [
    "# Load the original processed data\n",
    "df_processed = pd.read_csv(\"processed_data.csv\")\n",
    "\n",
    "# Extract filenames from the URLs\n",
    "df_processed[\"Filename\"] = df_processed[\"Cover Image\"].apply(lambda x: os.path.basename(x) if isinstance(x, str) else \"\")\n",
    "\n",
    "# Merge the datasets using the filename as the key\n",
    "df_processed = df_processed.merge(df_features[[\"Filename\", \"Interesting\"]], on=\"Filename\", how=\"left\")\n",
    "\n",
    "# Remove the redundant filename column\n",
    "df_processed.drop(columns=[\"Filename\"], inplace=True)\n",
    "\n",
    "# Save the updated dataset\n",
    "df_processed.to_csv(\"processed_data_with_classification.csv\", index=False)\n"
   ]
  }
 ],
 "metadata": {
  "kernelspec": {
   "display_name": "Python 3",
   "language": "python",
   "name": "python3"
  },
  "language_info": {
   "codemirror_mode": {
    "name": "ipython",
    "version": 3
   },
   "file_extension": ".py",
   "mimetype": "text/x-python",
   "name": "python",
   "nbconvert_exporter": "python",
   "pygments_lexer": "ipython3",
   "version": "3.12.4"
  }
 },
 "nbformat": 4,
 "nbformat_minor": 2
}
