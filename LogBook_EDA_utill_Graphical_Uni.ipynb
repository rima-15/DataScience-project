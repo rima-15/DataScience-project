{
 "cells": [
  {
   "cell_type": "markdown",
   "metadata": {},
   "source": [
    "# 1. Project Overview"
   ]
  },
  {
   "cell_type": "markdown",
   "metadata": {},
   "source": [
    "### Books Sales Trend "
   ]
  },
  {
   "cell_type": "markdown",
   "metadata": {},
   "source": [
    "This project aims to study book data, including the number of reviews and the books that is listed as a bestseller, to uncover key trends such as the most in-demand genres and the factors that attract readers and increase a book’s popularity. This analysis is expected to provide valuable insights that can help publishers and authors enhance their marketing strategies and boost the success of their books. \n",
    "\n",
    "#### The analysis will focus on understanding:\n",
    "\n",
    "- How do ratings and the number of reviews vary among bestsellers?\n",
    "- Are certain authors more likely to have their books become bestsellers?\n",
    "- Does the attractiveness of a book's cover influence its likelihood of becoming a bestseller?\n",
    "- What genres are most represented among bestsellers?\n",
    "- What is the relationship between price and bestseller books? , What is the price range of bestseller books?\n",
    "\n",
    "\n",
    "This project is expected to contribute valuable insights to the publishing industry and help stakeholders make data-driven decisions."
   ]
  },
  {
   "cell_type": "markdown",
   "metadata": {},
   "source": [
    "# 2. Data Collecting"
   ]
  },
  {
   "cell_type": "markdown",
   "metadata": {},
   "source": [
    "####  Data Collection Period: [30 Jan 2025] to [2 Feb 2025]\n"
   ]
  },
  {
   "cell_type": "markdown",
   "metadata": {},
   "source": [
    "## Data sources"
   ]
  },
  {
   "cell_type": "markdown",
   "metadata": {},
   "source": [
    "#### We collected our data by web scraping from the following online stores:\n",
    "\n",
    "- **Amazon KSA Online Store:** A global platform with a wide range of books, including international bestsellers.\n",
    "\n",
    "- **Jarir KSA Online Store:** A leading bookstore in Saudi Arabia, offering both Arabic and English books.\n",
    "\n",
    "These sources were chosen because they represent a diverse range of books, have a large and diverse audience, and provide relatively complete data. By focusing on bestseller lists, we aim to study the factors that contribute to a book’s success in these markets."
   ]
  },
  {
   "cell_type": "markdown",
   "metadata": {},
   "source": [
    "## Data Description"
   ]
  },
  {
   "cell_type": "markdown",
   "metadata": {},
   "source": [
    "To study the factors influencing bestseller books, we identified key attributes that are likely to have a significant impact on a book’s popularity. After reviewing related studies, research papers, and articles, we referenced the following sources to guide our attribute selection [1][2][3].\n",
    "\n",
    "#### Based on these references, we selected the following attributes for our dataset:\n",
    "\n",
    "- **Title:** The name of the book.\n",
    "\n",
    "- **Price:** The retail price of the book.\n",
    "\n",
    "- **Rating:** The average customer rating (e.g., out of 5 stars).\n",
    "\n",
    "- **Num Of Reviews:** The total number of customer reviews.\n",
    "\n",
    "- **Author:** The name of the author(s).\n",
    "\n",
    "- **Book Type:** The format of the book (e.g., paperback, hardcover, eBook).\n",
    "\n",
    "- **Genre:** The category or genre of the book (e.g., fiction, non-fiction, self-help).\n",
    "\n",
    "- **Cover Image:** The image of the book cover (for visual analysis or reference).\n",
    "\n",
    "These attributes were chosen because they are commonly associated with a book’s success and can help answer key questions."
   ]
  },
  {
   "cell_type": "markdown",
   "metadata": {},
   "source": [
    "## Challenges in Data Collection"
   ]
  },
  {
   "cell_type": "markdown",
   "metadata": {},
   "source": [
    " Data collection comes with various challenges that can hinder efficiency and accuracy. In our process, which involves web scraping, we faced several key difficulties:\n",
    "1. **Time-Consuming Process:**\n",
    "Data collection, especially when using web scraping techniques, requires significant time due to the complexity of extracting and processing data from multiple sources.\n",
    "\n",
    "3. **Unclear HTML Structure:**\n",
    "Some essential elements like <div> and <span> do not have clear or consistent class names, making it difficult to identify and extract the required data efficiently.\n",
    "\n",
    "5. **Dynamic Content with JavaScript:**\n",
    "Certain websites load content dynamically using JavaScript, which means that the data may not be visible in the initial HTML source code. This requires additional tools or techniques to handle dynamic content effectively.\n",
    "\n",
    "6. **Request Limits and Access Restrictions:**\n",
    "Some data sources impose strict limits on the number of requests that can be made within a specific timeframe, while others require special access permissions or API keys.\n",
    "\n",
    "7. **Inconsistent Data Availability:**\n",
    "Some information is available in certain sources but missing in others, leading to incomplete datasets and making it challenging to ensure data consistency and reliability.\n"
   ]
  },
  {
   "cell_type": "markdown",
   "metadata": {},
   "source": [
    "## Actions Taken"
   ]
  },
  {
   "cell_type": "markdown",
   "metadata": {},
   "source": [
    "1.  **Small-Scale Testing Before Full Collection:** We tested the scraping code on a small dataset to ensure accuracy. Once confirmed, we scaled up to collect the full dataset, avoiding repetitive work and saving time. \n",
    "\n",
    "2. **Relied on HTML Attributes and Structure:**\n",
    "To handle unclear or inconsistent class names, we used element IDs or the DOM structure. For elements in arrays with the same class, we relied on their positional consistency to extract data.\n",
    "\n",
    "3. **Used Selenium for Dynamic Content:**\n",
    "For JavaScript-loaded content, we implemented Selenium to interact with pages like a browser, ensuring dynamic content was fully loaded before scraping. \n",
    "\n",
    "4. **Added Time Delays Between Requests:**\n",
    "To avoid being blocked, we introduced time delays between requests to simulate natural user behavior, reducing the risk of triggering rate limits. \n",
    "\n",
    "5. **Leveraged Ready-Made Scraping Tools:**\n",
    "Tools like Instant Data Scraper helped us gather initial data efficiently. We collected links to individual pages and accessed them separately to minimize request limits. \n",
    "\n",
    "6. **Combined Data from Multiple Sources:**\n",
    "To address missing or inconsistent data, we merged datasets from different sources, ensuring a more comprehensive and reliable final dataset. \n",
    "\n",
    "7. **Conducted Manual Reviews and Validation:**\n",
    "We manually reviewed samples of scraped data to identify and correct errors, ensuring high data quality and refining our scripts for better accuracy."
   ]
  },
  {
   "cell_type": "markdown",
   "metadata": {},
   "source": [
    "## Web Scraping\n"
   ]
  },
  {
   "cell_type": "markdown",
   "metadata": {
    "jp-MarkdownHeadingCollapsed": true
   },
   "source": [
    "#### Web Scraping Tools used:\n",
    "- Web scraper - free web scraping : https://chromewebstore.google.com/detail/web-scraper-free-web-scra/jnhgnonknehpejjnehehllkliplmbmhn?hl=en <br>\n",
    "<b>Used when faced server blocking, in Amazon store <b>\n",
    "- Instant Data Scraper - free web scraping  : https://chromewebstore.google.com/detail/instant-data-scraper/ofaokhiedipichpaobibbnahnkdoiiah <br>\n",
    "<b>Used to extract bestseller books URLs from Jarir <b>\n",
    "\n",
    "####  Libraries, Modules, and Methods Used in the Web Scraping Script\n",
    "-  <b> Libraries Used:<b>\n",
    "1. time → Standard Python library used to add delays between requests.\n",
    "2. pandas → Handles CSV file operations (reading & saving scraped data).\n",
    "3. requests → Fetches HTML content from web pages.\n",
    "bs4 (BeautifulSoup) → Parses and extracts static HTML elements.\n",
    "4. selenium → Automates browser interactions for scraping dynamically loaded content.\n",
    "- <b> Modules Used (from Selenium): <b>\n",
    "1. selenium.webdriver → Controls the Chrome browser for web scraping.\n",
    "2. selenium.webdriver.common.by → Provides mechanisms to locate elements in the HTML (e.g., by class name, ID).\n",
    "3. selenium.webdriver.support.ui → Contains WebDriverWait for handling dynamically loaded elements.\n",
    "4. selenium.webdriver.support.expected_conditions (imported as EC) → Defines conditions for checking if elements are present before interacting with them.\n",
    " - <b> Methods Used: <b>\n",
    "1. time.sleep(seconds) → Pauses execution to allow page elements to load.\n",
    "2. requests.get(url, headers=HEADERS) → Sends an HTTP request to fetch page content.\n",
    "3. BeautifulSoup(response.text, \"html.parser\") → Parses the HTML response for static content.\n",
    "4. driver.get(url) → Loads a webpage using Selenium.\n",
    "5. WebDriverWait(driver, timeout).until(condition) → Waits for a web element to appear before scraping.\n",
    "6. EC.presence_of_element_located((By.CLASS_NAME, \"tf-rating\")) → Checks if an element is present in the DOM.\n",
    "7. soup.find(tag, class_=\"class-name\") → Finds the first occurrence of an element in the HTML.\n",
    "8. soup.find_all(tag, class_=\"class-name\") → Finds all matching elements.\n"
   ]
  },
  {
   "cell_type": "markdown",
   "metadata": {},
   "source": [
    "### Amazom bestseller books "
   ]
  },
  {
   "cell_type": "markdown",
   "metadata": {},
   "source": [
    "#### We have decided to collect data from Amazon's bestseller Books by applying web scraping for two pages ( each one contain around 50 books )"
   ]
  },
  {
   "cell_type": "code",
   "execution_count": 3,
   "metadata": {},
   "outputs": [],
   "source": [
    "import requests # used to send HTTP requests to web servers\n",
    "from bs4 import BeautifulSoup # parsing HTML and XML documents\n",
    "import pandas as pd # powerful data manipulation and analysis library\n",
    "import numpy as np # used for numerical computations in Python\n"
   ]
  },
  {
   "cell_type": "code",
   "execution_count": 28,
   "metadata": {},
   "outputs": [],
   "source": [
    "no_pages = 2\n",
    "def get_data(pageNo):\n",
    "    headers = {\"User-Agent\":\"Mozilla/5.0 (Windows NT 10.0; Win64; x64; rv:66.0) Gecko/20100101 Firefox/66.0\", \n",
    "               \"Accept-Encoding\":\"gzip, deflate\", \n",
    "               \"Accept\":\"text/html,application/xhtml+xml,application/xml;q=0.9,*/*;q=0.8\", \n",
    "               \"DNT\":\"1\", \"Connection\":\"close\", \n",
    "               \"Upgrade-Insecure-Requests\":\"1\"}\n",
    "\n",
    "    r = requests.get(f'https://www.amazon.sa/-/en/gp/bestsellers/books/ref=zg_bs_pg_1_books?ie=UTF8&pg={pageNo}&language=en&crid=1MSN01VVU9GYY&qid=1711400365&rnid=12463048031&sprefix=engl+book%2Cstripbooks%2C312&ref=sr_pg_{pageNo}', headers=headers)\n",
    "    content = r.content\n",
    "    soup = BeautifulSoup(content, \"html.parser\")\n",
    "\n",
    "    alls = []\n",
    "    for d in soup.findAll('div', attrs={'class':'zg-grid-general-faceout'}): \n",
    "        name = d.find('div', attrs={'class':'_cDEzb_p13n-sc-css-line-clamp-1_1Fn1y'})\n",
    "        price = d.find('span', attrs={'class':'_cDEzb_p13n-sc-price_3mJ9Z'})\n",
    "        rating = d.find('span', attrs={'class':'a-icon-alt'})\n",
    "        users_rated = d.find('span', attrs={'aria-hidden':'true'})\n",
    "        author = d.find('div', attrs={'class':'a-row'})\n",
    "        format_type = d.find('span', attrs={'class':'a-text-normal'})\n",
    "        genre = d.find('div', attrs={'class':'a-row a-size-base a-color-base'})\n",
    "        cover_image = d.find('img', attrs={'class': 'a-dynamic-image p13n-sc-dynamic-image p13n-product-image'})\n",
    "\n",
    "        all1 = []\n",
    "\n",
    "        if name is not None:\n",
    "            all1.append(name.text)\n",
    "        else:\n",
    "            all1.append(\"Null\")\n",
    "\n",
    "        if price is not None:\n",
    "            all1.append(price.text)\n",
    "        else:\n",
    "            all1.append(\"Null\")\n",
    "\n",
    "        if rating is not None:\n",
    "            all1.append(rating.text)\n",
    "        else:\n",
    "            all1.append(\"Null\")\n",
    "\n",
    "        if users_rated is not None:\n",
    "            all1.append(users_rated.text)\n",
    "        else:\n",
    "            all1.append(\"Null\")\n",
    "\n",
    "        if author is not None:\n",
    "            all1.append(author.text)\n",
    "        else:\n",
    "            all1.append(\"Null\")\n",
    "\n",
    "        if format_type is not None:\n",
    "            all1.append(format_type.text)\n",
    "        else:\n",
    "            all1.append(\"Null\")\n",
    "\n",
    "        if genre is not None:\n",
    "            all1.append(genre.text)\n",
    "        else:\n",
    "            all1.append(\"Null\")\n",
    "\n",
    "        if cover_image is not None:\n",
    "            all1.append(cover_image['src'])\n",
    "        else:\n",
    "            all1.append(\"No Image\")\n",
    "\n",
    "        alls.append(all1)\n",
    "    books = soup.findAll('div', attrs={'class': 'zg-grid-general-faceout'})\n",
    "    print(f\"Books found : {len(books)}\")\n",
    "    return alls\n",
    "\n"
   ]
  },
  {
   "cell_type": "code",
   "execution_count": 52,
   "metadata": {},
   "outputs": [
    {
     "name": "stdout",
     "output_type": "stream",
     "text": [
      "Books found : 30\n",
      "Books found : 30\n"
     ]
    }
   ],
   "source": [
    "results = []\n",
    "for i in range(1, no_pages+1):\n",
    "    results.append(get_data(i))\n",
    "flatten = lambda l: [item for sublist in l for item in sublist]\n",
    "df = pd.DataFrame(flatten(results), columns=[\n",
    "    'Title',          \n",
    "    'Price',         \n",
    "    'Rating',          \n",
    "    'Num Of Reviews', \n",
    "    'Author',         \n",
    "    'Book Type',      \n",
    "    'Genre',     \n",
    "    'Cover Image'     \n",
    "])"
   ]
  },
  {
   "cell_type": "markdown",
   "metadata": {},
   "source": [
    "<b>We notice here that only 30 books have been extacted from each page out of 50, could be due to server blocking. that's why we decided to collect other books using an extension for web scraping from google chrome.<b>"
   ]
  },
  {
   "cell_type": "markdown",
   "metadata": {},
   "source": [
    "- Web scraper - free web scraping : https://chromewebstore.google.com/detail/web-scraper-free-web-scra/jnhgnonknehpejjnehehllkliplmbmhn?hl=en"
   ]
  },
  {
   "cell_type": "code",
   "execution_count": 54,
   "metadata": {},
   "outputs": [
    {
     "data": {
      "text/html": [
       "<div>\n",
       "<style scoped>\n",
       "    .dataframe tbody tr th:only-of-type {\n",
       "        vertical-align: middle;\n",
       "    }\n",
       "\n",
       "    .dataframe tbody tr th {\n",
       "        vertical-align: top;\n",
       "    }\n",
       "\n",
       "    .dataframe thead th {\n",
       "        text-align: right;\n",
       "    }\n",
       "</style>\n",
       "<table border=\"1\" class=\"dataframe\">\n",
       "  <thead>\n",
       "    <tr style=\"text-align: right;\">\n",
       "      <th></th>\n",
       "      <th>Title</th>\n",
       "      <th>Price</th>\n",
       "      <th>Rating</th>\n",
       "      <th>Num Of Reviews</th>\n",
       "      <th>Author</th>\n",
       "      <th>Book Type</th>\n",
       "      <th>Genre</th>\n",
       "      <th>Cover Image</th>\n",
       "    </tr>\n",
       "  </thead>\n",
       "  <tbody>\n",
       "    <tr>\n",
       "      <th>0</th>\n",
       "      <td>كتاب التحصيلي علمي 46-47 (2025)</td>\n",
       "      <td>SAR 98.00</td>\n",
       "      <td>4.3 out of 5 stars</td>\n",
       "      <td>10</td>\n",
       "      <td>Nasser bin Abdulaziz Al-Abdulkarim</td>\n",
       "      <td>Paperback</td>\n",
       "      <td>Null</td>\n",
       "      <td>https://images-eu.ssl-images-amazon.com/images...</td>\n",
       "    </tr>\n",
       "    <tr>\n",
       "      <th>1</th>\n",
       "      <td>El Sharq library المعاصر 9 تاسيس كمي 2/1 ورقي ...</td>\n",
       "      <td>SAR 107.58</td>\n",
       "      <td>4.5 out of 5 stars</td>\n",
       "      <td>230</td>\n",
       "      <td>عماد الجزيري</td>\n",
       "      <td>Paperback</td>\n",
       "      <td>Null</td>\n",
       "      <td>https://images-eu.ssl-images-amazon.com/images...</td>\n",
       "    </tr>\n",
       "    <tr>\n",
       "      <th>2</th>\n",
       "      <td>My First Library : Boxset Of 10 Board Books Fo...</td>\n",
       "      <td>SAR 59.00</td>\n",
       "      <td>4.6 out of 5 stars</td>\n",
       "      <td>80,714</td>\n",
       "      <td>Wonder House Books</td>\n",
       "      <td>Board book</td>\n",
       "      <td>Null</td>\n",
       "      <td>https://images-eu.ssl-images-amazon.com/images...</td>\n",
       "    </tr>\n",
       "    <tr>\n",
       "      <th>3</th>\n",
       "      <td>فاتتني صلاة</td>\n",
       "      <td>SAR 26.00</td>\n",
       "      <td>4.7 out of 5 stars</td>\n",
       "      <td>301</td>\n",
       "      <td>اسلام جمال</td>\n",
       "      <td>Unknown Binding</td>\n",
       "      <td>Null</td>\n",
       "      <td>https://images-eu.ssl-images-amazon.com/images...</td>\n",
       "    </tr>\n",
       "    <tr>\n",
       "      <th>4</th>\n",
       "      <td>The Power of your Subconscious Mind</td>\n",
       "      <td>SAR 35.00</td>\n",
       "      <td>4.5 out of 5 stars</td>\n",
       "      <td>14,131</td>\n",
       "      <td>Joseph Murphy</td>\n",
       "      <td>Paperback</td>\n",
       "      <td>Null</td>\n",
       "      <td>https://images-eu.ssl-images-amazon.com/images...</td>\n",
       "    </tr>\n",
       "    <tr>\n",
       "      <th>5</th>\n",
       "      <td>Coloriages mystères Disney Princesses: Colorie...</td>\n",
       "      <td>SAR 109.10</td>\n",
       "      <td>4.7 out of 5 stars</td>\n",
       "      <td>5,880</td>\n",
       "      <td>Jérémy Mariez</td>\n",
       "      <td>Paperback</td>\n",
       "      <td>Null</td>\n",
       "      <td>https://images-eu.ssl-images-amazon.com/images...</td>\n",
       "    </tr>\n",
       "    <tr>\n",
       "      <th>6</th>\n",
       "      <td>101 Unicorn Colouring Book: Fun Activity Colou...</td>\n",
       "      <td>SAR 21.62</td>\n",
       "      <td>4.6 out of 5 stars</td>\n",
       "      <td>2,321</td>\n",
       "      <td>Wonder House Books</td>\n",
       "      <td>Paperback</td>\n",
       "      <td>Null</td>\n",
       "      <td>https://images-eu.ssl-images-amazon.com/images...</td>\n",
       "    </tr>\n",
       "    <tr>\n",
       "      <th>7</th>\n",
       "      <td>White Nights</td>\n",
       "      <td>SAR 19.00</td>\n",
       "      <td>4.6 out of 5 stars</td>\n",
       "      <td>1,583</td>\n",
       "      <td>Fyodor Dostoyevsky</td>\n",
       "      <td>Mass Market Paperback</td>\n",
       "      <td>Null</td>\n",
       "      <td>https://images-eu.ssl-images-amazon.com/images...</td>\n",
       "    </tr>\n",
       "    <tr>\n",
       "      <th>8</th>\n",
       "      <td>Null</td>\n",
       "      <td>SAR 65.00</td>\n",
       "      <td>4.7 out of 5 stars</td>\n",
       "      <td>12,588</td>\n",
       "      <td>4.7 out of 5 stars 12,588</td>\n",
       "      <td>Paperback</td>\n",
       "      <td>Null</td>\n",
       "      <td>https://images-eu.ssl-images-amazon.com/images...</td>\n",
       "    </tr>\n",
       "    <tr>\n",
       "      <th>9</th>\n",
       "      <td>My First 365 Coloring Book: Jumbo Coloring Boo...</td>\n",
       "      <td>SAR 29.00</td>\n",
       "      <td>4.5 out of 5 stars</td>\n",
       "      <td>1,625</td>\n",
       "      <td>Wonder House Books</td>\n",
       "      <td>Paperback</td>\n",
       "      <td>Null</td>\n",
       "      <td>https://images-eu.ssl-images-amazon.com/images...</td>\n",
       "    </tr>\n",
       "  </tbody>\n",
       "</table>\n",
       "</div>"
      ],
      "text/plain": [
       "                                               Title       Price  \\\n",
       "0                    كتاب التحصيلي علمي 46-47 (2025)   SAR 98.00   \n",
       "1  El Sharq library المعاصر 9 تاسيس كمي 2/1 ورقي ...  SAR 107.58   \n",
       "2  My First Library : Boxset Of 10 Board Books Fo...   SAR 59.00   \n",
       "3                                        فاتتني صلاة   SAR 26.00   \n",
       "4                The Power of your Subconscious Mind   SAR 35.00   \n",
       "5  Coloriages mystères Disney Princesses: Colorie...  SAR 109.10   \n",
       "6  101 Unicorn Colouring Book: Fun Activity Colou...   SAR 21.62   \n",
       "7                                       White Nights   SAR 19.00   \n",
       "8                                               Null   SAR 65.00   \n",
       "9  My First 365 Coloring Book: Jumbo Coloring Boo...   SAR 29.00   \n",
       "\n",
       "               Rating Num Of Reviews                              Author  \\\n",
       "0  4.3 out of 5 stars             10  Nasser bin Abdulaziz Al-Abdulkarim   \n",
       "1  4.5 out of 5 stars            230                        عماد الجزيري   \n",
       "2  4.6 out of 5 stars         80,714                  Wonder House Books   \n",
       "3  4.7 out of 5 stars            301                          اسلام جمال   \n",
       "4  4.5 out of 5 stars         14,131                       Joseph Murphy   \n",
       "5  4.7 out of 5 stars          5,880                       Jérémy Mariez   \n",
       "6  4.6 out of 5 stars          2,321                  Wonder House Books   \n",
       "7  4.6 out of 5 stars          1,583                  Fyodor Dostoyevsky   \n",
       "8  4.7 out of 5 stars         12,588           4.7 out of 5 stars 12,588   \n",
       "9  4.5 out of 5 stars          1,625                  Wonder House Books   \n",
       "\n",
       "               Book Type Genre  \\\n",
       "0              Paperback  Null   \n",
       "1              Paperback  Null   \n",
       "2             Board book  Null   \n",
       "3        Unknown Binding  Null   \n",
       "4              Paperback  Null   \n",
       "5              Paperback  Null   \n",
       "6              Paperback  Null   \n",
       "7  Mass Market Paperback  Null   \n",
       "8              Paperback  Null   \n",
       "9              Paperback  Null   \n",
       "\n",
       "                                         Cover Image  \n",
       "0  https://images-eu.ssl-images-amazon.com/images...  \n",
       "1  https://images-eu.ssl-images-amazon.com/images...  \n",
       "2  https://images-eu.ssl-images-amazon.com/images...  \n",
       "3  https://images-eu.ssl-images-amazon.com/images...  \n",
       "4  https://images-eu.ssl-images-amazon.com/images...  \n",
       "5  https://images-eu.ssl-images-amazon.com/images...  \n",
       "6  https://images-eu.ssl-images-amazon.com/images...  \n",
       "7  https://images-eu.ssl-images-amazon.com/images...  \n",
       "8  https://images-eu.ssl-images-amazon.com/images...  \n",
       "9  https://images-eu.ssl-images-amazon.com/images...  "
      ]
     },
     "execution_count": 54,
     "metadata": {},
     "output_type": "execute_result"
    }
   ],
   "source": [
    "# checking how it looks like \n",
    "df.head(10)"
   ]
  },
  {
   "cell_type": "markdown",
   "metadata": {},
   "source": [
    "<b>Note: since the genre column is inside each book's page, we had to collect them manually.<b>"
   ]
  },
  {
   "cell_type": "markdown",
   "metadata": {},
   "source": [
    "*results might be diffrent since we have collected them few days ago and amazon's bestseller books might have changed a bit*"
   ]
  },
  {
   "cell_type": "code",
   "execution_count": null,
   "metadata": {},
   "outputs": [],
   "source": [
    "# to save the data as a csv file\n",
    "df.to_csv(\"amazon_raw_books.csv\", index=False)"
   ]
  },
  {
   "cell_type": "markdown",
   "metadata": {},
   "source": [
    "### Jarir bestseller books "
   ]
  },
  {
   "cell_type": "markdown",
   "metadata": {},
   "source": [
    " * *We extrat Arabic and Engligh bestseller books URLs in Jarir (around 260 book) using **Instant Data Scraper** extention and save it in \"jarir_bestsellers.csv\" file to read it and make loop on it.*\n",
    "*  Also we use **selenium** for javaScript dynamic elements like \"Rating\" and \"Num Of Reviews\".  "
   ]
  },
  {
   "cell_type": "code",
   "execution_count": null,
   "metadata": {},
   "outputs": [],
   "source": [
    "import time\n",
    "import pandas as pd\n",
    "import requests\n",
    "from bs4 import BeautifulSoup\n",
    "from selenium import webdriver\n",
    "from selenium.webdriver.common.by import By\n",
    "from selenium.webdriver.support.ui import WebDriverWait\n",
    "from selenium.webdriver.support import expected_conditions as EC\n",
    "\n",
    "\n",
    "# CSV file containing book URLs\n",
    "df = pd.read_csv(\"jarir_bestsellers.csv\", names=[\"book_link\"])\n",
    "\n",
    "# CSV file containing book URLs\n",
    "INPUT_CSV = \"jarir_bestsellers.csv\"\n",
    "all_books_df = pd.DataFrame()\n",
    "\n",
    "# Headers to mimic a browser request\n",
    "HEADERS = {\n",
    "    \"User-Agent\": \"Mozilla/5.0 (Windows NT 10.0; Win64; x64; rv:122.0) Gecko/20100101 Firefox/122.0\"\n",
    "}\n",
    "\n",
    "# Initialize Selenium WebDriver\n",
    "driver = webdriver.Chrome()\n",
    "\n",
    "def get_book_data(url):\n",
    "    \"\"\"Scrapes book data from Jarir's website.\"\"\"\n",
    "    book_details = {}\n",
    "\n",
    "    # Scrape static content using Requests + BeautifulSoup\n",
    "    response = requests.get(url, headers=HEADERS)\n",
    "    response.encoding = \"utf-8\"  # Force UTF-8 encoding\n",
    "    soup = BeautifulSoup(response.text, \"html.parser\")\n",
    "\n",
    "    # Extract Title\n",
    "    book_details[\"Title\"] = soup.find(\"h2\", class_=\"product-title__title\").text.strip() if soup.find(\"h2\", class_=\"product-title__title\") else \"Null\"\n",
    "\n",
    "    # Extract Price\n",
    "    price_container = soup.find(\"span\", class_=\"price_alignment\")\n",
    "    if price_container:\n",
    "        value = price_container.find_all(\"span\")[-1].text.strip() if price_container.find_all(\"span\") else \"Null\"\n",
    "        book_details[\"Price\"] = value\n",
    "    else:\n",
    "        book_details[\"Price\"] = \"Null\"\n",
    "\n",
    "    # Use Selenium for dynamically loaded elements (Rating & Reviews)\n",
    "    driver.get(url)\n",
    "    time.sleep(3)  # Allow time for JavaScript to load\n",
    "\n",
    "    # Extract Rating\n",
    "    try:\n",
    "        rating_element = WebDriverWait(driver, 10).until(\n",
    "            EC.presence_of_element_located((By.CLASS_NAME, \"tf-rating\"))\n",
    "        )\n",
    "        book_details[\"Rating\"] = rating_element.text.strip()\n",
    "    except:\n",
    "        book_details[\"Rating\"] = \"Null\"\n",
    "\n",
    "    # Extract Number of Reviews\n",
    "    try:\n",
    "        num_reviews_element = WebDriverWait(driver, 10).until(\n",
    "            EC.presence_of_element_located((By.CLASS_NAME, \"tf-count\"))\n",
    "        )\n",
    "        book_details[\"Num Of Reviews\"] = num_reviews_element.text.strip()\n",
    "    except:\n",
    "        book_details[\"Num Of Reviews\"] = \"Null\"\n",
    "\n",
    "    # Extract Author\n",
    "    author_tag = soup.find(\"b\", string=\"Author:\")\n",
    "    book_details[\"Author\"] = author_tag.find_next(\"span\", class_=\"cl-blue\").text.strip() if author_tag else \"Null\"\n",
    "\n",
    "    # Extract Book Type (Format)\n",
    "    format_tag = soup.find(\"b\", string=\"Format:\")\n",
    "    book_details[\"Book Type\"] = format_tag.find_next(\"span\").text.strip() if format_tag else \"Null\"\n",
    "\n",
    "    # Extract Genre (Book Classification)\n",
    "    book_classification = soup.find(\"b\", string=\"Book classification:\")\n",
    "    if book_classification:\n",
    "        genres = [span.text.strip() for span in book_classification.find_next(\"span\").find_all(\"span\", class_=\"cl-blue\") if span.text.strip()]\n",
    "        book_details[\"Genre\"] = \", \".join(genres) if genres else \"Null\"\n",
    "    else:\n",
    "        book_details[\"Genre\"] = \"Null\"\n",
    "\n",
    "    # Extract High-Quality Cover Image\n",
    "    image_tags = soup.find_all(\"img\", class_=\"image image--contain\")\n",
    "    if len(image_tags) > 1:\n",
    "        raw_image_url = image_tags[1][\"src\"]\n",
    "        # Modify the URL to get better quality (replace width=54 with width=350)\n",
    "        book_details[\"Cover Image\"] = raw_image_url.replace(\"width=54\", \"width=350\")\n",
    "    else:\n",
    "        book_details[\"Cover Image\"] = \"No Image\"\n",
    "\n",
    "    return book_details\n",
    "\n",
    "\n",
    "# Read URLs from CSV & Scrape Data\n",
    "i=1\n",
    "df = pd.read_csv(INPUT_CSV, names=[\"book_link\"], encoding=\"utf-8\") \n",
    "for url in df[\"book_link\"].dropna():  # Drop NaN values\n",
    "    print(i, f\"Scraping: {url}\")\n",
    "    book_info = get_book_data(url)\n",
    "    i+=1\n",
    "\n",
    "    # Append the scraped data to the DataFrame\n",
    "    all_books_df = pd.concat([all_books_df, pd.DataFrame([book_info])], ignore_index=True)\n",
    "    time.sleep(3)  # Delay to prevent request blocking\n",
    "\n",
    "# Close Selenium WebDriver\n",
    "driver.quit()\n",
    "\n",
    "# Drop the URL column (not needed in final output)\n",
    "all_books_df.drop(columns=[\"URL\"], inplace=True, errors=\"ignore\")\n",
    "\n"
   ]
  },
  {
   "cell_type": "code",
   "execution_count": null,
   "metadata": {},
   "outputs": [],
   "source": [
    "all_books_df.to_csv(\"jarir_raw_books.csv\", index=False)"
   ]
  },
  {
   "cell_type": "markdown",
   "metadata": {},
   "source": [
    "#### Note: \n",
    "We  found 10 books in Jarir with null \"Rating\" and \"Num Of Reviews\" despite having actual values. These were manually corrected in the CSV file. Other nulls were confirmed to represent zero, as they appeared at the end of the bestseller list. The 10 books, however, were in the first half, surrounded by complete data, justifying manual updates.."
   ]
  },
  {
   "cell_type": "markdown",
   "metadata": {},
   "source": [
    "### Integration Step"
   ]
  },
  {
   "cell_type": "markdown",
   "metadata": {},
   "source": [
    "#### after we conduct Amazon and Jarir bestseller books successfullym we integrate them in one csv file"
   ]
  },
  {
   "cell_type": "code",
   "execution_count": 7,
   "metadata": {},
   "outputs": [],
   "source": [
    "# Load the two datasets\n",
    "df_jarir = pd.read_csv(\"jarir_raw_books.csv\", encoding=\"utf-8\")\n",
    "df_amazon = pd.read_csv(\"amazon_raw_books.csv\", encoding=\"utf-8\")\n",
    "\n",
    "# Merge (concatenate) them\n",
    "df_merged = pd.concat([df_jarir, df_amazon], ignore_index=True)\n",
    "\n",
    "# Save the merged dataset to a new CSV file\n",
    "merged_filename = \"raw_books.csv\"\n",
    "df_merged.to_csv(merged_filename, index=False, encoding=\"utf-8\")"
   ]
  },
  {
   "cell_type": "markdown",
   "metadata": {},
   "source": [
    "# 3. Data Cleaning and Preprocessing (Prior EDA)"
   ]
  },
  {
   "cell_type": "markdown",
   "metadata": {},
   "source": [
    "After examining the data, it is clear that some preprocessing and cleaning are needed to make it easier to use, interpret, process, and analyze.\n",
    "\n",
    "We will apply several preprocessing techniques such as normalization, discretization, and other techniques as needed, which will be detailed below"
   ]
  },
  {
   "cell_type": "code",
   "execution_count": 272,
   "metadata": {},
   "outputs": [],
   "source": [
    "import pandas as pd\n",
    "import re\n",
    "df_jarir = pd.read_csv(\"jarir_raw_books.csv\", encoding=\"utf-8\")\n",
    "df_amazon = pd.read_csv(\"amazon_raw_books.csv\", encoding=\"utf-8\")"
   ]
  },
  {
   "cell_type": "markdown",
   "metadata": {},
   "source": [
    "### Check Missing Values"
   ]
  },
  {
   "cell_type": "markdown",
   "metadata": {},
   "source": [
    "- In our data, some 'Author' values on Jarir dataset are represented as 'n/a', which contain hidden characters. In this code, we want to find these hidden patterns to handle them properly during the preprocessing steps."
   ]
  },
  {
   "cell_type": "code",
   "execution_count": 276,
   "metadata": {},
   "outputs": [
    {
     "data": {
      "text/plain": [
       "\"'\\\\u200en\\\\u200e/\\\\u200ea\\\\u200e'\""
      ]
     },
     "execution_count": 276,
     "metadata": {},
     "output_type": "execute_result"
    }
   ],
   "source": [
    "# Display the content of row 34 only with hidden characters\n",
    "df_jarir.loc[34, 'Author'].__repr__()"
   ]
  },
  {
   "cell_type": "code",
   "execution_count": 278,
   "metadata": {},
   "outputs": [],
   "source": [
    "def clean_hidden_pattern(df):\n",
    "    pattern = '\\u200en\\u200e/\\u200ea\\u200e'\n",
    "    for col in df.columns:\n",
    "        df[col] = df[col].apply(\n",
    "            lambda x: 'Unknown' if isinstance(x, str) and pattern in x else x\n",
    "        )\n",
    "    return df\n",
    "\n",
    "# Apply to both DataFrames\n",
    "df_jarir = clean_hidden_pattern(df_jarir)\n",
    "df_amazon = clean_hidden_pattern(df_amazon)"
   ]
  },
  {
   "cell_type": "code",
   "execution_count": 280,
   "metadata": {},
   "outputs": [
    {
     "name": "stdout",
     "output_type": "stream",
     "text": [
      "\n",
      " Missing values in df_jarir:\n",
      "Title               0\n",
      "Price               0\n",
      "Rating            115\n",
      "Num Of Reviews    115\n",
      "Author             15\n",
      "Book Type           0\n",
      "Genre               0\n",
      "Cover Image         0\n",
      "dtype: int64\n",
      "\n",
      " Missing values in df_amazon:\n",
      "Title             0\n",
      "Price             0\n",
      "Rating            1\n",
      "Num Of Reviews    1\n",
      "Author            1\n",
      "Book Type         0\n",
      "Genre             0\n",
      "Cover Image       0\n",
      "dtype: int64\n"
     ]
    }
   ],
   "source": [
    "def check_missing_values(df, df_name):\n",
    "    # Find rows containing \"Null\", \"Unknown\", or NaN\n",
    "    missing_rows = df[(df == 'Null').any(axis=1) | \n",
    "                      (df == 'Unknown').any(axis=1) | \n",
    "                      (df.isna()).any(axis=1)]\n",
    "    \n",
    "    missing_counts = ((df == 'Null') | (df == 'Unknown')).sum() + df.isna().sum()\n",
    "    \n",
    "    print(f\"\\n Missing values in {df_name}:\")\n",
    "    print(missing_counts)\n",
    "    \n",
    "    return missing_rows \n",
    "\n",
    "# Apply to both DataFrames\n",
    "missing_jarir = check_missing_values(df_jarir, \"df_jarir\")\n",
    "missing_amazon = check_missing_values(df_amazon, \"df_amazon\")"
   ]
  },
  {
   "cell_type": "code",
   "execution_count": 282,
   "metadata": {},
   "outputs": [
    {
     "name": "stdout",
     "output_type": "stream",
     "text": [
      "Rows with 'Null', 'Unknown', or empty (NaN) values in Jarir dataset:\n"
     ]
    },
    {
     "data": {
      "text/html": [
       "<div>\n",
       "<style scoped>\n",
       "    .dataframe tbody tr th:only-of-type {\n",
       "        vertical-align: middle;\n",
       "    }\n",
       "\n",
       "    .dataframe tbody tr th {\n",
       "        vertical-align: top;\n",
       "    }\n",
       "\n",
       "    .dataframe thead th {\n",
       "        text-align: right;\n",
       "    }\n",
       "</style>\n",
       "<table border=\"1\" class=\"dataframe\">\n",
       "  <thead>\n",
       "    <tr style=\"text-align: right;\">\n",
       "      <th></th>\n",
       "      <th>Title</th>\n",
       "      <th>Price</th>\n",
       "      <th>Rating</th>\n",
       "      <th>Num Of Reviews</th>\n",
       "      <th>Author</th>\n",
       "      <th>Book Type</th>\n",
       "      <th>Genre</th>\n",
       "      <th>Cover Image</th>\n",
       "    </tr>\n",
       "  </thead>\n",
       "  <tbody>\n",
       "    <tr>\n",
       "      <th>34</th>\n",
       "      <td>365 قصة عن الاخلاق عبرة في كل يوم تبعدك عن الم...</td>\n",
       "      <td>68</td>\n",
       "      <td>4.7</td>\n",
       "      <td>(3 reviews)</td>\n",
       "      <td>Unknown</td>\n",
       "      <td>غلاف مقوى</td>\n",
       "      <td>Jarir Publications Books,, Audio &amp; Video CD/DV...</td>\n",
       "      <td>https://www.jarir.com/cdn-cgi/image/fit=contai...</td>\n",
       "    </tr>\n",
       "    <tr>\n",
       "      <th>50</th>\n",
       "      <td>حكايات الاحلام السعيدة كنز من حكايات الاطفال</td>\n",
       "      <td>49</td>\n",
       "      <td>5</td>\n",
       "      <td>(2 reviews)</td>\n",
       "      <td>Unknown</td>\n",
       "      <td>غلاف مقوى</td>\n",
       "      <td>Jarir Publications Books,, Children Books,</td>\n",
       "      <td>https://www.jarir.com/cdn-cgi/image/fit=contai...</td>\n",
       "    </tr>\n",
       "    <tr>\n",
       "      <th>89</th>\n",
       "      <td>كنز الاطفال مجموعة من الحكايات الرائعة</td>\n",
       "      <td>49</td>\n",
       "      <td>5</td>\n",
       "      <td>(1 review)</td>\n",
       "      <td>Unknown</td>\n",
       "      <td>غلاف مقوى</td>\n",
       "      <td>Jarir Publications Books,, Children Books,</td>\n",
       "      <td>https://www.jarir.com/cdn-cgi/image/fit=contai...</td>\n",
       "    </tr>\n",
       "    <tr>\n",
       "      <th>90</th>\n",
       "      <td>مكتبة الطفل الاولى الحيوانات</td>\n",
       "      <td>39</td>\n",
       "      <td>5</td>\n",
       "      <td>(1 review)</td>\n",
       "      <td>Unknown</td>\n",
       "      <td>كتاب مقوى</td>\n",
       "      <td>Jarir Publications Books,, Children Books,, Be...</td>\n",
       "      <td>https://www.jarir.com/cdn-cgi/image/fit=contai...</td>\n",
       "    </tr>\n",
       "    <tr>\n",
       "      <th>91</th>\n",
       "      <td>مكتبة الطفل الاولى جسمي</td>\n",
       "      <td>39</td>\n",
       "      <td>5</td>\n",
       "      <td>(1 review)</td>\n",
       "      <td>Unknown</td>\n",
       "      <td>كتاب مقوى</td>\n",
       "      <td>Jarir Publications Books,, Children Books,, Be...</td>\n",
       "      <td>https://www.jarir.com/cdn-cgi/image/fit=contai...</td>\n",
       "    </tr>\n",
       "    <tr>\n",
       "      <th>...</th>\n",
       "      <td>...</td>\n",
       "      <td>...</td>\n",
       "      <td>...</td>\n",
       "      <td>...</td>\n",
       "      <td>...</td>\n",
       "      <td>...</td>\n",
       "      <td>...</td>\n",
       "      <td>...</td>\n",
       "    </tr>\n",
       "    <tr>\n",
       "      <th>255</th>\n",
       "      <td>Emily Wilde's Encyclopaedia of Faeries</td>\n",
       "      <td>49</td>\n",
       "      <td>Null</td>\n",
       "      <td>Null</td>\n",
       "      <td>Heather Fawcett</td>\n",
       "      <td>Paperback</td>\n",
       "      <td>Fiction &amp; Literature,, New Arrivals,, Best Sel...</td>\n",
       "      <td>https://www.jarir.com/cdn-cgi/image/fit=contai...</td>\n",
       "    </tr>\n",
       "    <tr>\n",
       "      <th>256</th>\n",
       "      <td>The Coworker - You See Her Everyday</td>\n",
       "      <td>59</td>\n",
       "      <td>Null</td>\n",
       "      <td>Null</td>\n",
       "      <td>Freida McFadden</td>\n",
       "      <td>Paperback</td>\n",
       "      <td>Fiction &amp; Literature,, Best Sellers,</td>\n",
       "      <td>https://www.jarir.com/cdn-cgi/image/fit=contai...</td>\n",
       "    </tr>\n",
       "    <tr>\n",
       "      <th>257</th>\n",
       "      <td>Psychology of Money - Timeless Lesson on Wealth</td>\n",
       "      <td>79</td>\n",
       "      <td>Null</td>\n",
       "      <td>Null</td>\n",
       "      <td>Morgan Housel</td>\n",
       "      <td>Paperback</td>\n",
       "      <td>Business &amp; Management,, Best Sellers</td>\n",
       "      <td>https://www.jarir.com/cdn-cgi/image/fit=contai...</td>\n",
       "    </tr>\n",
       "    <tr>\n",
       "      <th>259</th>\n",
       "      <td>Rich Dad Poor Dad</td>\n",
       "      <td>49</td>\n",
       "      <td>Null</td>\n",
       "      <td>Null</td>\n",
       "      <td>Robert Kiyosaki</td>\n",
       "      <td>Paperback</td>\n",
       "      <td>Business &amp; Management,, Best Sellers,</td>\n",
       "      <td>https://www.jarir.com/cdn-cgi/image/fit=contai...</td>\n",
       "    </tr>\n",
       "    <tr>\n",
       "      <th>260</th>\n",
       "      <td>The Final Gambit</td>\n",
       "      <td>55</td>\n",
       "      <td>Null</td>\n",
       "      <td>Null</td>\n",
       "      <td>Jennifer Lynn Barnes</td>\n",
       "      <td>Paperback</td>\n",
       "      <td>Best Sellers,, Fiction &amp; Literature</td>\n",
       "      <td>https://www.jarir.com/cdn-cgi/image/fit=contai...</td>\n",
       "    </tr>\n",
       "  </tbody>\n",
       "</table>\n",
       "<p>123 rows × 8 columns</p>\n",
       "</div>"
      ],
      "text/plain": [
       "                                                 Title  Price Rating  \\\n",
       "34   365 قصة عن الاخلاق عبرة في كل يوم تبعدك عن الم...     68    4.7   \n",
       "50        حكايات الاحلام السعيدة كنز من حكايات الاطفال     49      5   \n",
       "89              كنز الاطفال مجموعة من الحكايات الرائعة     49      5   \n",
       "90                        مكتبة الطفل الاولى الحيوانات     39      5   \n",
       "91                             مكتبة الطفل الاولى جسمي     39      5   \n",
       "..                                                 ...    ...    ...   \n",
       "255             Emily Wilde's Encyclopaedia of Faeries     49   Null   \n",
       "256                The Coworker - You See Her Everyday     59   Null   \n",
       "257    Psychology of Money - Timeless Lesson on Wealth     79   Null   \n",
       "259                                  Rich Dad Poor Dad     49   Null   \n",
       "260                                   The Final Gambit     55   Null   \n",
       "\n",
       "    Num Of Reviews                Author  Book Type  \\\n",
       "34     (3 reviews)               Unknown  غلاف مقوى   \n",
       "50     (2 reviews)               Unknown  غلاف مقوى   \n",
       "89      (1 review)               Unknown  غلاف مقوى   \n",
       "90      (1 review)               Unknown  كتاب مقوى   \n",
       "91      (1 review)               Unknown  كتاب مقوى   \n",
       "..             ...                   ...        ...   \n",
       "255           Null       Heather Fawcett  Paperback   \n",
       "256           Null       Freida McFadden  Paperback   \n",
       "257           Null         Morgan Housel  Paperback   \n",
       "259           Null       Robert Kiyosaki  Paperback   \n",
       "260           Null  Jennifer Lynn Barnes  Paperback   \n",
       "\n",
       "                                                 Genre  \\\n",
       "34   Jarir Publications Books,, Audio & Video CD/DV...   \n",
       "50          Jarir Publications Books,, Children Books,   \n",
       "89          Jarir Publications Books,, Children Books,   \n",
       "90   Jarir Publications Books,, Children Books,, Be...   \n",
       "91   Jarir Publications Books,, Children Books,, Be...   \n",
       "..                                                 ...   \n",
       "255  Fiction & Literature,, New Arrivals,, Best Sel...   \n",
       "256               Fiction & Literature,, Best Sellers,   \n",
       "257               Business & Management,, Best Sellers   \n",
       "259              Business & Management,, Best Sellers,   \n",
       "260                Best Sellers,, Fiction & Literature   \n",
       "\n",
       "                                           Cover Image  \n",
       "34   https://www.jarir.com/cdn-cgi/image/fit=contai...  \n",
       "50   https://www.jarir.com/cdn-cgi/image/fit=contai...  \n",
       "89   https://www.jarir.com/cdn-cgi/image/fit=contai...  \n",
       "90   https://www.jarir.com/cdn-cgi/image/fit=contai...  \n",
       "91   https://www.jarir.com/cdn-cgi/image/fit=contai...  \n",
       "..                                                 ...  \n",
       "255  https://www.jarir.com/cdn-cgi/image/fit=contai...  \n",
       "256  https://www.jarir.com/cdn-cgi/image/fit=contai...  \n",
       "257  https://www.jarir.com/cdn-cgi/image/fit=contai...  \n",
       "259  https://www.jarir.com/cdn-cgi/image/fit=contai...  \n",
       "260  https://www.jarir.com/cdn-cgi/image/fit=contai...  \n",
       "\n",
       "[123 rows x 8 columns]"
      ]
     },
     "execution_count": 282,
     "metadata": {},
     "output_type": "execute_result"
    }
   ],
   "source": [
    "print(\"Rows with 'Null', 'Unknown', or empty (NaN) values in Jarir dataset:\")\n",
    "missing_jarir"
   ]
  },
  {
   "cell_type": "code",
   "execution_count": 284,
   "metadata": {},
   "outputs": [
    {
     "name": "stdout",
     "output_type": "stream",
     "text": [
      "Rows with 'Null', 'Unknown', or empty (NaN) values in Amazon dataset:\n"
     ]
    },
    {
     "data": {
      "text/html": [
       "<div>\n",
       "<style scoped>\n",
       "    .dataframe tbody tr th:only-of-type {\n",
       "        vertical-align: middle;\n",
       "    }\n",
       "\n",
       "    .dataframe tbody tr th {\n",
       "        vertical-align: top;\n",
       "    }\n",
       "\n",
       "    .dataframe thead th {\n",
       "        text-align: right;\n",
       "    }\n",
       "</style>\n",
       "<table border=\"1\" class=\"dataframe\">\n",
       "  <thead>\n",
       "    <tr style=\"text-align: right;\">\n",
       "      <th></th>\n",
       "      <th>Title</th>\n",
       "      <th>Price</th>\n",
       "      <th>Rating</th>\n",
       "      <th>Num Of Reviews</th>\n",
       "      <th>Author</th>\n",
       "      <th>Book Type</th>\n",
       "      <th>Genre</th>\n",
       "      <th>Cover Image</th>\n",
       "    </tr>\n",
       "  </thead>\n",
       "  <tbody>\n",
       "    <tr>\n",
       "      <th>7</th>\n",
       "      <td>مذكرات أخصائي نفسي - نورة محمد الكيال</td>\n",
       "      <td>SARآ 80.50</td>\n",
       "      <td>NaN</td>\n",
       "      <td>NaN</td>\n",
       "      <td>نورة محمد الكيال</td>\n",
       "      <td>Paperback</td>\n",
       "      <td>Psychology &amp; Counseling</td>\n",
       "      <td>https://images-eu.ssl-images-amazon.com/images...</td>\n",
       "    </tr>\n",
       "    <tr>\n",
       "      <th>22</th>\n",
       "      <td>The Mountain Is You: Transforming Self-Sabotag...</td>\n",
       "      <td>SARآ 65.00</td>\n",
       "      <td>4.7 out of 5 stars</td>\n",
       "      <td>12,555</td>\n",
       "      <td>NaN</td>\n",
       "      <td>Paperback</td>\n",
       "      <td>Motivational Self-Help</td>\n",
       "      <td>https://images-eu.ssl-images-amazon.com/images...</td>\n",
       "    </tr>\n",
       "  </tbody>\n",
       "</table>\n",
       "</div>"
      ],
      "text/plain": [
       "                                                Title       Price  \\\n",
       "7               مذكرات أخصائي نفسي - نورة محمد الكيال  SARآ 80.50   \n",
       "22  The Mountain Is You: Transforming Self-Sabotag...  SARآ 65.00   \n",
       "\n",
       "                Rating Num Of Reviews             Author  Book Type  \\\n",
       "7                  NaN            NaN   نورة محمد الكيال  Paperback   \n",
       "22  4.7 out of 5 stars         12,555                NaN  Paperback   \n",
       "\n",
       "                      Genre                                        Cover Image  \n",
       "7   Psychology & Counseling  https://images-eu.ssl-images-amazon.com/images...  \n",
       "22   Motivational Self-Help  https://images-eu.ssl-images-amazon.com/images...  "
      ]
     },
     "execution_count": 284,
     "metadata": {},
     "output_type": "execute_result"
    }
   ],
   "source": [
    "print(\"Rows with 'Null', 'Unknown', or empty (NaN) values in Amazon dataset:\")\n",
    "missing_amazon"
   ]
  },
  {
   "cell_type": "markdown",
   "metadata": {},
   "source": [
    "### Handling Missing Values"
   ]
  },
  {
   "cell_type": "code",
   "execution_count": 287,
   "metadata": {},
   "outputs": [
    {
     "name": "stdout",
     "output_type": "stream",
     "text": [
      " df_jarir after cleaning:\n",
      "  Rating Num Of Reviews              Author\n",
      "0      5   (73 reviews)       ‎وليد العنزي‎\n",
      "1    4.5   (37 reviews)     ‎أدم جيه كيرتز‎\n",
      "2    4.7   (29 reviews)      ‎عماد الجزيري‎\n",
      "3      5   (24 reviews)  ‎روبرت تي كيوساكي‎\n",
      "4      5   (20 reviews)         ‎ادهم فادي‎\n",
      " df_amazon after cleaning:\n",
      "               Rating Num Of Reviews                              Author\n",
      "0  4.3 out of 5 stars              8  Nasser bin Abdulaziz Al-Abdulkarim\n",
      "1  4.5 out of 5 stars            218                        عماد الجزيري\n",
      "2  4.7 out of 5 stars          2,603                       Jérémy Mariez\n",
      "3  4.7 out of 5 stars          5,847                       Jérémy Mariez\n",
      "4  4.6 out of 5 stars          1,618                  Wonder House Books\n"
     ]
    }
   ],
   "source": [
    "def clean_dataframe(df, df_name):\n",
    "\n",
    "    df['Rating'] = df['Rating'].replace('Null', float('nan')).fillna(0)\n",
    "    df['Num Of Reviews'] = df['Num Of Reviews'].replace('Null', float('nan')).fillna(0)\n",
    "\n",
    "    df = df.dropna(subset=['Author'])\n",
    "\n",
    "    print(f\" {df_name} after cleaning:\")\n",
    "    print(df[['Rating', 'Num Of Reviews', 'Author']].head())\n",
    "\n",
    "    return df\n",
    "\n",
    "# Apply cleaning function to both dataframes\n",
    "df_jarir = clean_dataframe(df_jarir, \"df_jarir\")\n",
    "df_amazon = clean_dataframe(df_amazon, \"df_amazon\")"
   ]
  },
  {
   "cell_type": "markdown",
   "metadata": {},
   "source": [
    "\n",
    "- In this section, we will handle missing values in three ways:\n",
    "\n",
    "1. **Unknown Authors**: For rows where the author is listed as \"Unknown\", we will leave it as is. This is because it doesn't represent a truly missing value, but rather indicates that the website did not specify the author's name. Therefore, we will retain \"Unknown\" as it appears on the website.\n",
    "\n",
    "2. **Ratings and Reviews**: Some ratings and reviews are represented as null because they have not been rated. We will replace these null values with zero, indicating that no ratings or reviews were provided.\n",
    "\n",
    "3. **Missing Author Names**: For rows where the author name is null (completely missing), we will drop these entries from the dataset, as they lack essential information.\n",
    "\n"
   ]
  },
  {
   "cell_type": "code",
   "execution_count": 290,
   "metadata": {},
   "outputs": [
    {
     "data": {
      "text/html": [
       "<div>\n",
       "<style scoped>\n",
       "    .dataframe tbody tr th:only-of-type {\n",
       "        vertical-align: middle;\n",
       "    }\n",
       "\n",
       "    .dataframe tbody tr th {\n",
       "        vertical-align: top;\n",
       "    }\n",
       "\n",
       "    .dataframe thead th {\n",
       "        text-align: right;\n",
       "    }\n",
       "</style>\n",
       "<table border=\"1\" class=\"dataframe\">\n",
       "  <thead>\n",
       "    <tr style=\"text-align: right;\">\n",
       "      <th></th>\n",
       "      <th>Title</th>\n",
       "      <th>Price</th>\n",
       "      <th>Rating</th>\n",
       "      <th>Num Of Reviews</th>\n",
       "      <th>Author</th>\n",
       "      <th>Book Type</th>\n",
       "      <th>Genre</th>\n",
       "      <th>Cover Image</th>\n",
       "    </tr>\n",
       "  </thead>\n",
       "  <tbody>\n",
       "    <tr>\n",
       "      <th>0</th>\n",
       "      <td>يقولون الاولين</td>\n",
       "      <td>58</td>\n",
       "      <td>5</td>\n",
       "      <td>(73 reviews)</td>\n",
       "      <td>‎وليد العنزي‎</td>\n",
       "      <td>Paperback</td>\n",
       "      <td>Fiction &amp; Literature,, New Arrivals, Best Sell...</td>\n",
       "      <td>https://www.jarir.com/cdn-cgi/image/fit=contai...</td>\n",
       "    </tr>\n",
       "    <tr>\n",
       "      <th>1</th>\n",
       "      <td>صفحة واحدة في المرة رفيق مبدع يومي</td>\n",
       "      <td>59</td>\n",
       "      <td>4.5</td>\n",
       "      <td>(37 reviews)</td>\n",
       "      <td>‎أدم جيه كيرتز‎</td>\n",
       "      <td>Paperback</td>\n",
       "      <td>Jarir Publications Books,, Self Development,, ...</td>\n",
       "      <td>https://www.jarir.com/cdn-cgi/image/fit=contai...</td>\n",
       "    </tr>\n",
       "    <tr>\n",
       "      <th>2</th>\n",
       "      <td>المعاصر 9 تأسيس كمي ورقمي ومحوسب مع بنك المحوس...</td>\n",
       "      <td>120</td>\n",
       "      <td>4.7</td>\n",
       "      <td>(29 reviews)</td>\n",
       "      <td>‎عماد الجزيري‎</td>\n",
       "      <td>Paperback</td>\n",
       "      <td>School Textbooks,, New Arrivals, Best Sellers,</td>\n",
       "      <td>https://www.jarir.com/cdn-cgi/image/fit=contai...</td>\n",
       "    </tr>\n",
       "    <tr>\n",
       "      <th>3</th>\n",
       "      <td>الاب الغني الاب الفقير ما يعلمه الاثرياء ولا ي...</td>\n",
       "      <td>79</td>\n",
       "      <td>5</td>\n",
       "      <td>(24 reviews)</td>\n",
       "      <td>‎روبرت تي كيوساكي‎</td>\n",
       "      <td>Paperback</td>\n",
       "      <td>Jarir Publications Books,, Best Sellers,, Busi...</td>\n",
       "      <td>https://www.jarir.com/cdn-cgi/image/fit=contai...</td>\n",
       "    </tr>\n",
       "    <tr>\n",
       "      <th>4</th>\n",
       "      <td>مصحف القيام مقاس 25×35</td>\n",
       "      <td>89</td>\n",
       "      <td>5</td>\n",
       "      <td>(20 reviews)</td>\n",
       "      <td>‎ادهم فادي‎</td>\n",
       "      <td>غلاف مقوى فني</td>\n",
       "      <td>Islamic &amp; Religion Books,, New Arrivals,, Best...</td>\n",
       "      <td>https://www.jarir.com/cdn-cgi/image/fit=contai...</td>\n",
       "    </tr>\n",
       "    <tr>\n",
       "      <th>...</th>\n",
       "      <td>...</td>\n",
       "      <td>...</td>\n",
       "      <td>...</td>\n",
       "      <td>...</td>\n",
       "      <td>...</td>\n",
       "      <td>...</td>\n",
       "      <td>...</td>\n",
       "      <td>...</td>\n",
       "    </tr>\n",
       "    <tr>\n",
       "      <th>256</th>\n",
       "      <td>The Coworker - You See Her Everyday</td>\n",
       "      <td>59</td>\n",
       "      <td>0</td>\n",
       "      <td>0</td>\n",
       "      <td>Freida McFadden</td>\n",
       "      <td>Paperback</td>\n",
       "      <td>Fiction &amp; Literature,, Best Sellers,</td>\n",
       "      <td>https://www.jarir.com/cdn-cgi/image/fit=contai...</td>\n",
       "    </tr>\n",
       "    <tr>\n",
       "      <th>257</th>\n",
       "      <td>Psychology of Money - Timeless Lesson on Wealth</td>\n",
       "      <td>79</td>\n",
       "      <td>0</td>\n",
       "      <td>0</td>\n",
       "      <td>Morgan Housel</td>\n",
       "      <td>Paperback</td>\n",
       "      <td>Business &amp; Management,, Best Sellers</td>\n",
       "      <td>https://www.jarir.com/cdn-cgi/image/fit=contai...</td>\n",
       "    </tr>\n",
       "    <tr>\n",
       "      <th>258</th>\n",
       "      <td>Dune</td>\n",
       "      <td>59</td>\n",
       "      <td>5</td>\n",
       "      <td>(1 review)</td>\n",
       "      <td>Frank Herbert</td>\n",
       "      <td>Paperback</td>\n",
       "      <td>Fiction &amp; Literature,, Science Fiction,, Best ...</td>\n",
       "      <td>https://www.jarir.com/cdn-cgi/image/fit=contai...</td>\n",
       "    </tr>\n",
       "    <tr>\n",
       "      <th>259</th>\n",
       "      <td>Rich Dad Poor Dad</td>\n",
       "      <td>49</td>\n",
       "      <td>0</td>\n",
       "      <td>0</td>\n",
       "      <td>Robert Kiyosaki</td>\n",
       "      <td>Paperback</td>\n",
       "      <td>Business &amp; Management,, Best Sellers,</td>\n",
       "      <td>https://www.jarir.com/cdn-cgi/image/fit=contai...</td>\n",
       "    </tr>\n",
       "    <tr>\n",
       "      <th>260</th>\n",
       "      <td>The Final Gambit</td>\n",
       "      <td>55</td>\n",
       "      <td>0</td>\n",
       "      <td>0</td>\n",
       "      <td>Jennifer Lynn Barnes</td>\n",
       "      <td>Paperback</td>\n",
       "      <td>Best Sellers,, Fiction &amp; Literature</td>\n",
       "      <td>https://www.jarir.com/cdn-cgi/image/fit=contai...</td>\n",
       "    </tr>\n",
       "  </tbody>\n",
       "</table>\n",
       "<p>261 rows × 8 columns</p>\n",
       "</div>"
      ],
      "text/plain": [
       "                                                 Title  Price Rating  \\\n",
       "0                                       يقولون الاولين     58      5   \n",
       "1                   صفحة واحدة في المرة رفيق مبدع يومي     59    4.5   \n",
       "2    المعاصر 9 تأسيس كمي ورقمي ومحوسب مع بنك المحوس...    120    4.7   \n",
       "3    الاب الغني الاب الفقير ما يعلمه الاثرياء ولا ي...     79      5   \n",
       "4                               مصحف القيام مقاس 25×35     89      5   \n",
       "..                                                 ...    ...    ...   \n",
       "256                The Coworker - You See Her Everyday     59      0   \n",
       "257    Psychology of Money - Timeless Lesson on Wealth     79      0   \n",
       "258                                               Dune     59      5   \n",
       "259                                  Rich Dad Poor Dad     49      0   \n",
       "260                                   The Final Gambit     55      0   \n",
       "\n",
       "    Num Of Reviews                Author      Book Type  \\\n",
       "0     (73 reviews)         ‎وليد العنزي‎      Paperback   \n",
       "1     (37 reviews)       ‎أدم جيه كيرتز‎      Paperback   \n",
       "2     (29 reviews)        ‎عماد الجزيري‎      Paperback   \n",
       "3     (24 reviews)    ‎روبرت تي كيوساكي‎      Paperback   \n",
       "4     (20 reviews)           ‎ادهم فادي‎  غلاف مقوى فني   \n",
       "..             ...                   ...            ...   \n",
       "256              0       Freida McFadden      Paperback   \n",
       "257              0         Morgan Housel      Paperback   \n",
       "258     (1 review)         Frank Herbert      Paperback   \n",
       "259              0       Robert Kiyosaki      Paperback   \n",
       "260              0  Jennifer Lynn Barnes      Paperback   \n",
       "\n",
       "                                                 Genre  \\\n",
       "0    Fiction & Literature,, New Arrivals, Best Sell...   \n",
       "1    Jarir Publications Books,, Self Development,, ...   \n",
       "2       School Textbooks,, New Arrivals, Best Sellers,   \n",
       "3    Jarir Publications Books,, Best Sellers,, Busi...   \n",
       "4    Islamic & Religion Books,, New Arrivals,, Best...   \n",
       "..                                                 ...   \n",
       "256               Fiction & Literature,, Best Sellers,   \n",
       "257               Business & Management,, Best Sellers   \n",
       "258  Fiction & Literature,, Science Fiction,, Best ...   \n",
       "259              Business & Management,, Best Sellers,   \n",
       "260                Best Sellers,, Fiction & Literature   \n",
       "\n",
       "                                           Cover Image  \n",
       "0    https://www.jarir.com/cdn-cgi/image/fit=contai...  \n",
       "1    https://www.jarir.com/cdn-cgi/image/fit=contai...  \n",
       "2    https://www.jarir.com/cdn-cgi/image/fit=contai...  \n",
       "3    https://www.jarir.com/cdn-cgi/image/fit=contai...  \n",
       "4    https://www.jarir.com/cdn-cgi/image/fit=contai...  \n",
       "..                                                 ...  \n",
       "256  https://www.jarir.com/cdn-cgi/image/fit=contai...  \n",
       "257  https://www.jarir.com/cdn-cgi/image/fit=contai...  \n",
       "258  https://www.jarir.com/cdn-cgi/image/fit=contai...  \n",
       "259  https://www.jarir.com/cdn-cgi/image/fit=contai...  \n",
       "260  https://www.jarir.com/cdn-cgi/image/fit=contai...  \n",
       "\n",
       "[261 rows x 8 columns]"
      ]
     },
     "execution_count": 290,
     "metadata": {},
     "output_type": "execute_result"
    }
   ],
   "source": [
    "df_jarir"
   ]
  },
  {
   "cell_type": "markdown",
   "metadata": {},
   "source": [
    "### Handling Duplicate Rows \n",
    "\n"
   ]
  },
  {
   "cell_type": "markdown",
   "metadata": {},
   "source": [
    "In this section, we normalized the 'Title' column by converting the text to lowercase and removing extra spaces to standardize comparisons. Duplicate rows were identified based on the cleaned titles. We found that two books have same title both in jarir, one was **mistitled**, so we correct its title manually while the other are diffrent books but have same title. For Amazon, there were **no duplicates**.\r\n",
    "\r\n"
   ]
  },
  {
   "cell_type": "code",
   "execution_count": 294,
   "metadata": {},
   "outputs": [
    {
     "name": "stdout",
     "output_type": "stream",
     "text": [
      "\u001b[1mdf_jarir Duplicate rows:\u001b[0m\n",
      "                             Title  Price Rating Num Of Reviews  \\\n",
      "16                    مميز بالاصفر     40    4.4   (14 reviews)   \n",
      "59                    مميز بالاصفر     85      5    (2 reviews)   \n",
      "69   الكتاب الكبير للانشطة الرائعة     69      5    (4 reviews)   \n",
      "107  الكتاب الكبير للانشطة الرائعة     49      5     (1 review)   \n",
      "\n",
      "                                           Author  Book Type  \\\n",
      "16   ‎روتشيل بنينتجون ‎/‎ اتش جاكسون براون الابن‎  Paperback   \n",
      "59                                   ‎روبن شارما‎  غلاف مقوى   \n",
      "69                          ‎سلسلة الكتاب الكبير‎  Paperback   \n",
      "107                                       Unknown  غلاف مقوى   \n",
      "\n",
      "                                                 Genre  \\\n",
      "16   Jarir Publications Books,, Best Sellers,, Self...   \n",
      "59   Jarir Publications Books,, Best Sellers,, Self...   \n",
      "69   Jarir Publications Books,, Audio & Video CD/DV...   \n",
      "107  Jarir Publications Books,, Children Books,, Au...   \n",
      "\n",
      "                                           Cover Image  \\\n",
      "16   https://www.jarir.com/cdn-cgi/image/fit=contai...   \n",
      "59   https://www.jarir.com/cdn-cgi/image/fit=contai...   \n",
      "69   https://www.jarir.com/cdn-cgi/image/fit=contai...   \n",
      "107  https://www.jarir.com/cdn-cgi/image/fit=contai...   \n",
      "\n",
      "                       Title Clean  \n",
      "16                    مميز بالاصفر  \n",
      "59                    مميز بالاصفر  \n",
      "69   الكتاب الكبير للانشطة الرائعة  \n",
      "107  الكتاب الكبير للانشطة الرائعة  \n",
      "\u001b[1mdf_amazon Duplicate rows:\u001b[0m\n",
      "Empty DataFrame\n",
      "Columns: [Title, Price, Rating, Num Of Reviews, Author, Book Type, Genre, Cover Image, Title Clean]\n",
      "Index: []\n",
      "\u001b[1m\n",
      "Check Duplicate rows for Updated DataFrame:\u001b[0m\n",
      "\u001b[1mdf_jarir Duplicate rows:\u001b[0m\n",
      "                             Title  Price Rating Num Of Reviews  \\\n",
      "69   الكتاب الكبير للانشطة الرائعة     69      5    (4 reviews)   \n",
      "107  الكتاب الكبير للانشطة الرائعة     49      5     (1 review)   \n",
      "\n",
      "                    Author  Book Type  \\\n",
      "69   ‎سلسلة الكتاب الكبير‎  Paperback   \n",
      "107                Unknown  غلاف مقوى   \n",
      "\n",
      "                                                 Genre  \\\n",
      "69   Jarir Publications Books,, Audio & Video CD/DV...   \n",
      "107  Jarir Publications Books,, Children Books,, Au...   \n",
      "\n",
      "                                           Cover Image  \\\n",
      "69   https://www.jarir.com/cdn-cgi/image/fit=contai...   \n",
      "107  https://www.jarir.com/cdn-cgi/image/fit=contai...   \n",
      "\n",
      "                       Title Clean  \n",
      "69   الكتاب الكبير للانشطة الرائعة  \n",
      "107  الكتاب الكبير للانشطة الرائعة  \n"
     ]
    }
   ],
   "source": [
    "import pandas as pd\n",
    "\n",
    "def duplicate_dataframe(df, df_name):\n",
    "\n",
    "    # Clean and normalize text in the 'Title' column (convert to lowercase and remove extra spaces)\n",
    "    df['Title Clean'] = df['Title'].str.lower().str.strip()\n",
    "\n",
    "    # Identify duplicate rows based on the cleaned 'Title' columns\n",
    "    potential_duplicates = df[df.duplicated(subset=['Title Clean'], keep=False)]\n",
    "    \n",
    "\n",
    "    # Print duplicate rows to verify\n",
    "    print(f\"\\033[1m{df_name} Duplicate rows:\\033[0m\")\n",
    "    # \n",
    "    print(potential_duplicates)\n",
    "    \n",
    "    # Drop the 'Title Clean' column\n",
    "    df.drop(columns='Title Clean', inplace=True)\n",
    "\n",
    "# Apply cleaning function to both dataframes\n",
    "duplicate_dataframe(df_jarir, \"df_jarir\")\n",
    "duplicate_dataframe(df_amazon, \"df_amazon\")\n",
    "\n",
    "# Handle dupilcated row manually \n",
    "df_jarir.at[59, 'Title'] = 'نادي الخامسة 5 صباحا'\n",
    "\n",
    "# Updated DataFrame\n",
    "print(\"\\033[1m\\nCheck Duplicate rows for Updated DataFrame:\\033[0m\")\n",
    "\n",
    "# Check duplicate again\n",
    "duplicate_dataframe(df_jarir, \"df_jarir\")"
   ]
  },
  {
   "cell_type": "markdown",
   "metadata": {},
   "source": [
    "### Cleaning and Formatting Numerical Columns\n"
   ]
  },
  {
   "cell_type": "code",
   "execution_count": 297,
   "metadata": {},
   "outputs": [
    {
     "name": "stdout",
     "output_type": "stream",
     "text": [
      "\n",
      " df_jarir after cleaning:\n",
      "    Price  Rating  Num Of Reviews\n",
      "0   58.0     5.0              73\n",
      "1   59.0     4.5              37\n",
      "2  120.0     4.7              29\n",
      "3   79.0     5.0              24\n",
      "4   89.0     5.0              20\n",
      "\n",
      " df_amazon after cleaning:\n",
      "     Price  Rating  Num Of Reviews\n",
      "0   98.00     4.3               8\n",
      "1  107.58     4.5             218\n",
      "2  109.10     4.7            2603\n",
      "3  109.10     4.7            5847\n",
      "4   29.00     4.6            1618\n"
     ]
    }
   ],
   "source": [
    "def clean_dataframe(df, df_name):\n",
    "\n",
    "    df['Price'] = df['Price'].astype(str).str.extract(r'(\\d+\\.?\\d*)')  # Extract numeric part from Price \n",
    "    df['Rating'] = df['Rating'].astype(str).str.extract(r'(\\d+\\.?\\d*)')  # Extract numeric part from Rating\n",
    "    df['Num Of Reviews'] = df['Num Of Reviews'].astype(str).str.replace(',', '', regex=True)  # remove commas from number\n",
    "    df['Num Of Reviews'] = df['Num Of Reviews'].str.extract(r'(\\d+)')\n",
    "\n",
    "    df['Price'] = df['Price'].astype(float)\n",
    "    df['Rating'] = df['Rating'].astype(float)\n",
    "    df['Num Of Reviews'] = df['Num Of Reviews'].astype(int)\n",
    "\n",
    "    print(f\"\\n {df_name} after cleaning:\\n\", df[['Price', 'Rating', 'Num Of Reviews']].head())\n",
    "    return df\n",
    "\n",
    "# Apply cleaning function to both dataframes\n",
    "df_jarir = clean_dataframe(df_jarir, \"df_jarir\")\n",
    "df_amazon = clean_dataframe(df_amazon, \"df_amazon\")\n"
   ]
  },
  {
   "cell_type": "markdown",
   "metadata": {},
   "source": [
    "- In this section, we clean and standardize three columns: 'Price', 'Rating', and 'Num Of Reviews'. We use regular expressions to extract numeric values from these columns, ensuring only the relevant numbers are retained. After extraction, we convert 'Price' and 'Rating' to the float data type and 'Num Of Reviews' to int, preparing the data for numerical analysis. This process ensures consistency and accuracy, making the dataset suitable for further analysis.\n"
   ]
  },
  {
   "cell_type": "markdown",
   "metadata": {},
   "source": [
    "###  Language Unification\n"
   ]
  },
  {
   "cell_type": "markdown",
   "metadata": {},
   "source": [
    "- In this section, we faced a problem with the 'Author' column values. As you can see in our raw data, the names were mixed with Arabic and English. To standardize the language and make everything in English, we used Argostranslate. Below is the code we used to translate the 'Author' column from Arabic to English"
   ]
  },
  {
   "cell_type": "code",
   "execution_count": 109,
   "metadata": {},
   "outputs": [
    {
     "name": "stdout",
     "output_type": "stream",
     "text": [
      "Requirement already satisfied: argostranslate in c:\\users\\rikhm\\anaconda3\\lib\\site-packages (1.9.6)\n",
      "Requirement already satisfied: ctranslate2<5,>=4.0 in c:\\users\\rikhm\\anaconda3\\lib\\site-packages (from argostranslate) (4.5.0)\n",
      "Requirement already satisfied: stanza==1.1.1 in c:\\users\\rikhm\\anaconda3\\lib\\site-packages (from argostranslate) (1.1.1)\n",
      "Requirement already satisfied: sentencepiece==0.2.0 in c:\\users\\rikhm\\anaconda3\\lib\\site-packages (from argostranslate) (0.2.0)\n",
      "Requirement already satisfied: sacremoses==0.0.53 in c:\\users\\rikhm\\anaconda3\\lib\\site-packages (from argostranslate) (0.0.53)\n",
      "Requirement already satisfied: packaging in c:\\users\\rikhm\\anaconda3\\lib\\site-packages (from argostranslate) (21.3)\n",
      "Requirement already satisfied: click in c:\\users\\rikhm\\anaconda3\\lib\\site-packages (from sacremoses==0.0.53->argostranslate) (8.0.4)\n",
      "Requirement already satisfied: regex in c:\\users\\rikhm\\anaconda3\\lib\\site-packages (from sacremoses==0.0.53->argostranslate) (2022.3.15)\n",
      "Requirement already satisfied: tqdm in c:\\users\\rikhm\\anaconda3\\lib\\site-packages (from sacremoses==0.0.53->argostranslate) (4.64.0)\n",
      "Requirement already satisfied: six in c:\\users\\rikhm\\anaconda3\\lib\\site-packages (from sacremoses==0.0.53->argostranslate) (1.16.0)\n",
      "Requirement already satisfied: joblib in c:\\users\\rikhm\\anaconda3\\lib\\site-packages (from sacremoses==0.0.53->argostranslate) (1.1.0)\n",
      "Requirement already satisfied: protobuf in c:\\users\\rikhm\\anaconda3\\lib\\site-packages (from stanza==1.1.1->argostranslate) (5.29.3)\n",
      "Requirement already satisfied: requests in c:\\users\\rikhm\\anaconda3\\lib\\site-packages (from stanza==1.1.1->argostranslate) (2.27.1)\n",
      "Requirement already satisfied: numpy in c:\\users\\rikhm\\anaconda3\\lib\\site-packages (from stanza==1.1.1->argostranslate) (1.21.5)\n",
      "Requirement already satisfied: torch>=1.3.0 in c:\\users\\rikhm\\anaconda3\\lib\\site-packages (from stanza==1.1.1->argostranslate) (2.6.0)\n",
      "Requirement already satisfied: setuptools in c:\\users\\rikhm\\anaconda3\\lib\\site-packages (from ctranslate2<5,>=4.0->argostranslate) (61.2.0)\n",
      "Requirement already satisfied: pyyaml<7,>=5.3 in c:\\users\\rikhm\\anaconda3\\lib\\site-packages (from ctranslate2<5,>=4.0->argostranslate) (6.0)\n",
      "Requirement already satisfied: fsspec in c:\\users\\rikhm\\anaconda3\\lib\\site-packages (from torch>=1.3.0->stanza==1.1.1->argostranslate) (2025.2.0)\n",
      "Requirement already satisfied: sympy==1.13.1 in c:\\users\\rikhm\\anaconda3\\lib\\site-packages (from torch>=1.3.0->stanza==1.1.1->argostranslate) (1.13.1)\n",
      "Requirement already satisfied: jinja2 in c:\\users\\rikhm\\anaconda3\\lib\\site-packages (from torch>=1.3.0->stanza==1.1.1->argostranslate) (2.11.3)\n",
      "Requirement already satisfied: networkx in c:\\users\\rikhm\\anaconda3\\lib\\site-packages (from torch>=1.3.0->stanza==1.1.1->argostranslate) (2.7.1)\n",
      "Requirement already satisfied: typing-extensions>=4.10.0 in c:\\users\\rikhm\\anaconda3\\lib\\site-packages (from torch>=1.3.0->stanza==1.1.1->argostranslate) (4.10.0)\n",
      "Requirement already satisfied: filelock in c:\\users\\rikhm\\anaconda3\\lib\\site-packages (from torch>=1.3.0->stanza==1.1.1->argostranslate) (3.6.0)\n",
      "Requirement already satisfied: mpmath<1.4,>=1.1.0 in c:\\users\\rikhm\\anaconda3\\lib\\site-packages (from sympy==1.13.1->torch>=1.3.0->stanza==1.1.1->argostranslate) (1.2.1)\n",
      "Requirement already satisfied: colorama in c:\\users\\rikhm\\anaconda3\\lib\\site-packages (from click->sacremoses==0.0.53->argostranslate) (0.4.4)\n",
      "Requirement already satisfied: MarkupSafe>=0.23 in c:\\users\\rikhm\\anaconda3\\lib\\site-packages (from jinja2->torch>=1.3.0->stanza==1.1.1->argostranslate) (2.0.1)\n",
      "Requirement already satisfied: pyparsing!=3.0.5,>=2.0.2 in c:\\users\\rikhm\\anaconda3\\lib\\site-packages (from packaging->argostranslate) (3.0.4)\n",
      "Requirement already satisfied: urllib3<1.27,>=1.21.1 in c:\\users\\rikhm\\anaconda3\\lib\\site-packages (from requests->stanza==1.1.1->argostranslate) (1.26.9)\n",
      "Requirement already satisfied: idna<4,>=2.5 in c:\\users\\rikhm\\anaconda3\\lib\\site-packages (from requests->stanza==1.1.1->argostranslate) (3.3)\n",
      "Requirement already satisfied: charset-normalizer~=2.0.0 in c:\\users\\rikhm\\anaconda3\\lib\\site-packages (from requests->stanza==1.1.1->argostranslate) (2.0.4)\n",
      "Requirement already satisfied: certifi>=2017.4.17 in c:\\users\\rikhm\\anaconda3\\lib\\site-packages (from requests->stanza==1.1.1->argostranslate) (2025.1.31)\n",
      "Note: you may need to restart the kernel to use updated packages.\n"
     ]
    }
   ],
   "source": [
    "pip install argostranslate "
   ]
  },
  {
   "cell_type": "code",
   "execution_count": 302,
   "metadata": {},
   "outputs": [
    {
     "name": "stdout",
     "output_type": "stream",
     "text": [
      "\n",
      "df_jarir after translation:\n",
      "               Author\n",
      "0     Walid Al-Anazi\n",
      "1     Adam J. Kertz.\n",
      "2      Imad Al-Zarri\n",
      "3  Robert T. Kiusaki\n",
      "4            Fatima.\n",
      "\n",
      "df_amazon after translation:\n",
      "                                Author\n",
      "0  Nasser bin Abdulaziz Al-Abdulkarim\n",
      "1                       Imad Al-Zarri\n",
      "2                       Jérémy Mariez\n",
      "3                       Jérémy Mariez\n",
      "4                 Wonder House Book s\n"
     ]
    }
   ],
   "source": [
    "import argostranslate.package\n",
    "import argostranslate.translate\n",
    "\n",
    "from_code = \"ar\"\n",
    "to_code = \"en\"\n",
    "\n",
    "argostranslate.package.update_package_index()\n",
    "available_packages = argostranslate.package.get_available_packages()\n",
    "package_to_install = next(\n",
    "    filter(\n",
    "        lambda x: x.from_code == from_code and x.to_code == to_code, available_packages\n",
    "    )\n",
    ")\n",
    "argostranslate.package.install_from_path(package_to_install.download())\n",
    "\n",
    "df_jarir['Author'] = df_jarir['Author'].apply(lambda x: argostranslate.translate.translate(x, from_code, to_code))\n",
    "df_amazon['Author'] = df_amazon['Author'].apply(lambda x: argostranslate.translate.translate(x, from_code, to_code))\n",
    "\n",
    "print(\"\\ndf_jarir after translation:\\n\", df_jarir[['Author']].head())\n",
    "print(\"\\ndf_amazon after translation:\\n\", df_amazon[['Author']].head())"
   ]
  },
  {
   "cell_type": "code",
   "execution_count": 304,
   "metadata": {},
   "outputs": [
    {
     "data": {
      "text/html": [
       "<div>\n",
       "<style scoped>\n",
       "    .dataframe tbody tr th:only-of-type {\n",
       "        vertical-align: middle;\n",
       "    }\n",
       "\n",
       "    .dataframe tbody tr th {\n",
       "        vertical-align: top;\n",
       "    }\n",
       "\n",
       "    .dataframe thead th {\n",
       "        text-align: right;\n",
       "    }\n",
       "</style>\n",
       "<table border=\"1\" class=\"dataframe\">\n",
       "  <thead>\n",
       "    <tr style=\"text-align: right;\">\n",
       "      <th></th>\n",
       "      <th>Title</th>\n",
       "      <th>Price</th>\n",
       "      <th>Rating</th>\n",
       "      <th>Num Of Reviews</th>\n",
       "      <th>Author</th>\n",
       "      <th>Book Type</th>\n",
       "      <th>Genre</th>\n",
       "      <th>Cover Image</th>\n",
       "    </tr>\n",
       "  </thead>\n",
       "  <tbody>\n",
       "    <tr>\n",
       "      <th>0</th>\n",
       "      <td>يقولون الاولين</td>\n",
       "      <td>58.0</td>\n",
       "      <td>5.0</td>\n",
       "      <td>73</td>\n",
       "      <td>Walid Al-Anazi</td>\n",
       "      <td>Paperback</td>\n",
       "      <td>Fiction &amp; Literature,, New Arrivals, Best Sell...</td>\n",
       "      <td>https://www.jarir.com/cdn-cgi/image/fit=contai...</td>\n",
       "    </tr>\n",
       "    <tr>\n",
       "      <th>1</th>\n",
       "      <td>صفحة واحدة في المرة رفيق مبدع يومي</td>\n",
       "      <td>59.0</td>\n",
       "      <td>4.5</td>\n",
       "      <td>37</td>\n",
       "      <td>Adam J. Kertz.</td>\n",
       "      <td>Paperback</td>\n",
       "      <td>Jarir Publications Books,, Self Development,, ...</td>\n",
       "      <td>https://www.jarir.com/cdn-cgi/image/fit=contai...</td>\n",
       "    </tr>\n",
       "    <tr>\n",
       "      <th>2</th>\n",
       "      <td>المعاصر 9 تأسيس كمي ورقمي ومحوسب مع بنك المحوس...</td>\n",
       "      <td>120.0</td>\n",
       "      <td>4.7</td>\n",
       "      <td>29</td>\n",
       "      <td>Imad Al-Zarri</td>\n",
       "      <td>Paperback</td>\n",
       "      <td>School Textbooks,, New Arrivals, Best Sellers,</td>\n",
       "      <td>https://www.jarir.com/cdn-cgi/image/fit=contai...</td>\n",
       "    </tr>\n",
       "    <tr>\n",
       "      <th>3</th>\n",
       "      <td>الاب الغني الاب الفقير ما يعلمه الاثرياء ولا ي...</td>\n",
       "      <td>79.0</td>\n",
       "      <td>5.0</td>\n",
       "      <td>24</td>\n",
       "      <td>Robert T. Kiusaki</td>\n",
       "      <td>Paperback</td>\n",
       "      <td>Jarir Publications Books,, Best Sellers,, Busi...</td>\n",
       "      <td>https://www.jarir.com/cdn-cgi/image/fit=contai...</td>\n",
       "    </tr>\n",
       "    <tr>\n",
       "      <th>4</th>\n",
       "      <td>مصحف القيام مقاس 25×35</td>\n",
       "      <td>89.0</td>\n",
       "      <td>5.0</td>\n",
       "      <td>20</td>\n",
       "      <td>Fatima.</td>\n",
       "      <td>غلاف مقوى فني</td>\n",
       "      <td>Islamic &amp; Religion Books,, New Arrivals,, Best...</td>\n",
       "      <td>https://www.jarir.com/cdn-cgi/image/fit=contai...</td>\n",
       "    </tr>\n",
       "    <tr>\n",
       "      <th>...</th>\n",
       "      <td>...</td>\n",
       "      <td>...</td>\n",
       "      <td>...</td>\n",
       "      <td>...</td>\n",
       "      <td>...</td>\n",
       "      <td>...</td>\n",
       "      <td>...</td>\n",
       "      <td>...</td>\n",
       "    </tr>\n",
       "    <tr>\n",
       "      <th>256</th>\n",
       "      <td>The Coworker - You See Her Everyday</td>\n",
       "      <td>59.0</td>\n",
       "      <td>0.0</td>\n",
       "      <td>0</td>\n",
       "      <td>Freida McFadden</td>\n",
       "      <td>Paperback</td>\n",
       "      <td>Fiction &amp; Literature,, Best Sellers,</td>\n",
       "      <td>https://www.jarir.com/cdn-cgi/image/fit=contai...</td>\n",
       "    </tr>\n",
       "    <tr>\n",
       "      <th>257</th>\n",
       "      <td>Psychology of Money - Timeless Lesson on Wealth</td>\n",
       "      <td>79.0</td>\n",
       "      <td>0.0</td>\n",
       "      <td>0</td>\n",
       "      <td>Morgan Housel</td>\n",
       "      <td>Paperback</td>\n",
       "      <td>Business &amp; Management,, Best Sellers</td>\n",
       "      <td>https://www.jarir.com/cdn-cgi/image/fit=contai...</td>\n",
       "    </tr>\n",
       "    <tr>\n",
       "      <th>258</th>\n",
       "      <td>Dune</td>\n",
       "      <td>59.0</td>\n",
       "      <td>5.0</td>\n",
       "      <td>1</td>\n",
       "      <td>Frank Herbe r t</td>\n",
       "      <td>Paperback</td>\n",
       "      <td>Fiction &amp; Literature,, Science Fiction,, Best ...</td>\n",
       "      <td>https://www.jarir.com/cdn-cgi/image/fit=contai...</td>\n",
       "    </tr>\n",
       "    <tr>\n",
       "      <th>259</th>\n",
       "      <td>Rich Dad Poor Dad</td>\n",
       "      <td>49.0</td>\n",
       "      <td>0.0</td>\n",
       "      <td>0</td>\n",
       "      <td>Robert Kiyosaki</td>\n",
       "      <td>Paperback</td>\n",
       "      <td>Business &amp; Management,, Best Sellers,</td>\n",
       "      <td>https://www.jarir.com/cdn-cgi/image/fit=contai...</td>\n",
       "    </tr>\n",
       "    <tr>\n",
       "      <th>260</th>\n",
       "      <td>The Final Gambit</td>\n",
       "      <td>55.0</td>\n",
       "      <td>0.0</td>\n",
       "      <td>0</td>\n",
       "      <td>Jennifer Lynn Barne s</td>\n",
       "      <td>Paperback</td>\n",
       "      <td>Best Sellers,, Fiction &amp; Literature</td>\n",
       "      <td>https://www.jarir.com/cdn-cgi/image/fit=contai...</td>\n",
       "    </tr>\n",
       "  </tbody>\n",
       "</table>\n",
       "<p>261 rows × 8 columns</p>\n",
       "</div>"
      ],
      "text/plain": [
       "                                                 Title  Price  Rating  \\\n",
       "0                                       يقولون الاولين   58.0     5.0   \n",
       "1                   صفحة واحدة في المرة رفيق مبدع يومي   59.0     4.5   \n",
       "2    المعاصر 9 تأسيس كمي ورقمي ومحوسب مع بنك المحوس...  120.0     4.7   \n",
       "3    الاب الغني الاب الفقير ما يعلمه الاثرياء ولا ي...   79.0     5.0   \n",
       "4                               مصحف القيام مقاس 25×35   89.0     5.0   \n",
       "..                                                 ...    ...     ...   \n",
       "256                The Coworker - You See Her Everyday   59.0     0.0   \n",
       "257    Psychology of Money - Timeless Lesson on Wealth   79.0     0.0   \n",
       "258                                               Dune   59.0     5.0   \n",
       "259                                  Rich Dad Poor Dad   49.0     0.0   \n",
       "260                                   The Final Gambit   55.0     0.0   \n",
       "\n",
       "     Num Of Reviews                 Author      Book Type  \\\n",
       "0                73         Walid Al-Anazi      Paperback   \n",
       "1                37         Adam J. Kertz.      Paperback   \n",
       "2                29          Imad Al-Zarri      Paperback   \n",
       "3                24      Robert T. Kiusaki      Paperback   \n",
       "4                20                Fatima.  غلاف مقوى فني   \n",
       "..              ...                    ...            ...   \n",
       "256               0        Freida McFadden      Paperback   \n",
       "257               0          Morgan Housel      Paperback   \n",
       "258               1        Frank Herbe r t      Paperback   \n",
       "259               0        Robert Kiyosaki      Paperback   \n",
       "260               0  Jennifer Lynn Barne s      Paperback   \n",
       "\n",
       "                                                 Genre  \\\n",
       "0    Fiction & Literature,, New Arrivals, Best Sell...   \n",
       "1    Jarir Publications Books,, Self Development,, ...   \n",
       "2       School Textbooks,, New Arrivals, Best Sellers,   \n",
       "3    Jarir Publications Books,, Best Sellers,, Busi...   \n",
       "4    Islamic & Religion Books,, New Arrivals,, Best...   \n",
       "..                                                 ...   \n",
       "256               Fiction & Literature,, Best Sellers,   \n",
       "257               Business & Management,, Best Sellers   \n",
       "258  Fiction & Literature,, Science Fiction,, Best ...   \n",
       "259              Business & Management,, Best Sellers,   \n",
       "260                Best Sellers,, Fiction & Literature   \n",
       "\n",
       "                                           Cover Image  \n",
       "0    https://www.jarir.com/cdn-cgi/image/fit=contai...  \n",
       "1    https://www.jarir.com/cdn-cgi/image/fit=contai...  \n",
       "2    https://www.jarir.com/cdn-cgi/image/fit=contai...  \n",
       "3    https://www.jarir.com/cdn-cgi/image/fit=contai...  \n",
       "4    https://www.jarir.com/cdn-cgi/image/fit=contai...  \n",
       "..                                                 ...  \n",
       "256  https://www.jarir.com/cdn-cgi/image/fit=contai...  \n",
       "257  https://www.jarir.com/cdn-cgi/image/fit=contai...  \n",
       "258  https://www.jarir.com/cdn-cgi/image/fit=contai...  \n",
       "259  https://www.jarir.com/cdn-cgi/image/fit=contai...  \n",
       "260  https://www.jarir.com/cdn-cgi/image/fit=contai...  \n",
       "\n",
       "[261 rows x 8 columns]"
      ]
     },
     "execution_count": 304,
     "metadata": {},
     "output_type": "execute_result"
    }
   ],
   "source": [
    "df_jarir"
   ]
  },
  {
   "cell_type": "code",
   "execution_count": 306,
   "metadata": {},
   "outputs": [
    {
     "data": {
      "text/html": [
       "<div>\n",
       "<style scoped>\n",
       "    .dataframe tbody tr th:only-of-type {\n",
       "        vertical-align: middle;\n",
       "    }\n",
       "\n",
       "    .dataframe tbody tr th {\n",
       "        vertical-align: top;\n",
       "    }\n",
       "\n",
       "    .dataframe thead th {\n",
       "        text-align: right;\n",
       "    }\n",
       "</style>\n",
       "<table border=\"1\" class=\"dataframe\">\n",
       "  <thead>\n",
       "    <tr style=\"text-align: right;\">\n",
       "      <th></th>\n",
       "      <th>Title</th>\n",
       "      <th>Price</th>\n",
       "      <th>Rating</th>\n",
       "      <th>Num Of Reviews</th>\n",
       "      <th>Author</th>\n",
       "      <th>Book Type</th>\n",
       "      <th>Genre</th>\n",
       "      <th>Cover Image</th>\n",
       "    </tr>\n",
       "  </thead>\n",
       "  <tbody>\n",
       "    <tr>\n",
       "      <th>0</th>\n",
       "      <td>كتاب التحصيلي علمي 46-47 (2025)</td>\n",
       "      <td>98.00</td>\n",
       "      <td>4.3</td>\n",
       "      <td>8</td>\n",
       "      <td>Nasser bin Abdulaziz Al-Abdulkarim</td>\n",
       "      <td>Paperback</td>\n",
       "      <td>Graduate School Test Guides</td>\n",
       "      <td>https://images-eu.ssl-images-amazon.com/images...</td>\n",
       "    </tr>\n",
       "    <tr>\n",
       "      <th>1</th>\n",
       "      <td>El Sharq library المعاصر 9 تاسيس كمي 2/1 ورقي ...</td>\n",
       "      <td>107.58</td>\n",
       "      <td>4.5</td>\n",
       "      <td>218</td>\n",
       "      <td>Imad Al-Zarri</td>\n",
       "      <td>Paperback</td>\n",
       "      <td>Graduate School Test Guides</td>\n",
       "      <td>https://images-eu.ssl-images-amazon.com/images...</td>\n",
       "    </tr>\n",
       "    <tr>\n",
       "      <th>2</th>\n",
       "      <td>Coloriages mystères Pixar</td>\n",
       "      <td>109.10</td>\n",
       "      <td>4.7</td>\n",
       "      <td>2603</td>\n",
       "      <td>Jérémy Mariez</td>\n",
       "      <td>Paperback</td>\n",
       "      <td>Self-Help</td>\n",
       "      <td>https://images-eu.ssl-images-amazon.com/images...</td>\n",
       "    </tr>\n",
       "    <tr>\n",
       "      <th>3</th>\n",
       "      <td>Coloriages mystères Disney Princesses: Colorie...</td>\n",
       "      <td>109.10</td>\n",
       "      <td>4.7</td>\n",
       "      <td>5847</td>\n",
       "      <td>Jérémy Mariez</td>\n",
       "      <td>Paperback</td>\n",
       "      <td>Sports &amp; Outdoors</td>\n",
       "      <td>https://images-eu.ssl-images-amazon.com/images...</td>\n",
       "    </tr>\n",
       "    <tr>\n",
       "      <th>4</th>\n",
       "      <td>My First 365 Coloring Book: Jumbo Coloring Boo...</td>\n",
       "      <td>29.00</td>\n",
       "      <td>4.6</td>\n",
       "      <td>1618</td>\n",
       "      <td>Wonder House Book s</td>\n",
       "      <td>Paperback</td>\n",
       "      <td>Literature &amp; Fiction for Children</td>\n",
       "      <td>https://images-eu.ssl-images-amazon.com/images...</td>\n",
       "    </tr>\n",
       "    <tr>\n",
       "      <th>...</th>\n",
       "      <td>...</td>\n",
       "      <td>...</td>\n",
       "      <td>...</td>\n",
       "      <td>...</td>\n",
       "      <td>...</td>\n",
       "      <td>...</td>\n",
       "      <td>...</td>\n",
       "      <td>...</td>\n",
       "    </tr>\n",
       "    <tr>\n",
       "      <th>75</th>\n",
       "      <td>Crime and Punishment</td>\n",
       "      <td>49.00</td>\n",
       "      <td>4.6</td>\n",
       "      <td>2724</td>\n",
       "      <td>Fyodor Dostoyevsky</td>\n",
       "      <td>Paperback</td>\n",
       "      <td>Mysteries</td>\n",
       "      <td>https://images-eu.ssl-images-amazon.com/images...</td>\n",
       "    </tr>\n",
       "    <tr>\n",
       "      <th>76</th>\n",
       "      <td>The Ballad of Never After: the stunning sequel...</td>\n",
       "      <td>54.00</td>\n",
       "      <td>4.8</td>\n",
       "      <td>2619</td>\n",
       "      <td>Stephanie Garbe r</td>\n",
       "      <td>Paperback</td>\n",
       "      <td>Romantic Fantasy</td>\n",
       "      <td>https://images-eu.ssl-images-amazon.com/images...</td>\n",
       "    </tr>\n",
       "    <tr>\n",
       "      <th>77</th>\n",
       "      <td>No Longer Human</td>\n",
       "      <td>59.00</td>\n",
       "      <td>4.7</td>\n",
       "      <td>13656</td>\n",
       "      <td>Osamu Dazai</td>\n",
       "      <td>Paperback</td>\n",
       "      <td>Historical Fiction</td>\n",
       "      <td>https://images-eu.ssl-images-amazon.com/images...</td>\n",
       "    </tr>\n",
       "    <tr>\n",
       "      <th>78</th>\n",
       "      <td>The Coming Wave: Technology, Power, and the Tw...</td>\n",
       "      <td>62.00</td>\n",
       "      <td>4.4</td>\n",
       "      <td>884</td>\n",
       "      <td>Mustafa Suleyman</td>\n",
       "      <td>Paperback</td>\n",
       "      <td>Technology</td>\n",
       "      <td>https://images-eu.ssl-images-amazon.com/images...</td>\n",
       "    </tr>\n",
       "    <tr>\n",
       "      <th>79</th>\n",
       "      <td>IKIGAI</td>\n",
       "      <td>67.89</td>\n",
       "      <td>4.6</td>\n",
       "      <td>42127</td>\n",
       "      <td>Héctor García</td>\n",
       "      <td>Hardcover</td>\n",
       "      <td>Self-Help for Anger Management</td>\n",
       "      <td>https://images-eu.ssl-images-amazon.com/images...</td>\n",
       "    </tr>\n",
       "  </tbody>\n",
       "</table>\n",
       "<p>79 rows × 8 columns</p>\n",
       "</div>"
      ],
      "text/plain": [
       "                                                Title   Price  Rating  \\\n",
       "0                     كتاب التحصيلي علمي 46-47 (2025)   98.00     4.3   \n",
       "1   El Sharq library المعاصر 9 تاسيس كمي 2/1 ورقي ...  107.58     4.5   \n",
       "2                           Coloriages mystères Pixar  109.10     4.7   \n",
       "3   Coloriages mystères Disney Princesses: Colorie...  109.10     4.7   \n",
       "4   My First 365 Coloring Book: Jumbo Coloring Boo...   29.00     4.6   \n",
       "..                                                ...     ...     ...   \n",
       "75                               Crime and Punishment   49.00     4.6   \n",
       "76  The Ballad of Never After: the stunning sequel...   54.00     4.8   \n",
       "77                                    No Longer Human   59.00     4.7   \n",
       "78  The Coming Wave: Technology, Power, and the Tw...   62.00     4.4   \n",
       "79                                             IKIGAI   67.89     4.6   \n",
       "\n",
       "    Num Of Reviews                              Author  Book Type  \\\n",
       "0                8  Nasser bin Abdulaziz Al-Abdulkarim  Paperback   \n",
       "1              218                       Imad Al-Zarri  Paperback   \n",
       "2             2603                       Jérémy Mariez  Paperback   \n",
       "3             5847                       Jérémy Mariez  Paperback   \n",
       "4             1618                 Wonder House Book s  Paperback   \n",
       "..             ...                                 ...        ...   \n",
       "75            2724                  Fyodor Dostoyevsky  Paperback   \n",
       "76            2619                   Stephanie Garbe r  Paperback   \n",
       "77           13656                         Osamu Dazai  Paperback   \n",
       "78             884                    Mustafa Suleyman  Paperback   \n",
       "79           42127                       Héctor García  Hardcover   \n",
       "\n",
       "                                Genre  \\\n",
       "0         Graduate School Test Guides   \n",
       "1         Graduate School Test Guides   \n",
       "2                           Self-Help   \n",
       "3                   Sports & Outdoors   \n",
       "4   Literature & Fiction for Children   \n",
       "..                                ...   \n",
       "75                          Mysteries   \n",
       "76                   Romantic Fantasy   \n",
       "77                 Historical Fiction   \n",
       "78                         Technology   \n",
       "79     Self-Help for Anger Management   \n",
       "\n",
       "                                          Cover Image  \n",
       "0   https://images-eu.ssl-images-amazon.com/images...  \n",
       "1   https://images-eu.ssl-images-amazon.com/images...  \n",
       "2   https://images-eu.ssl-images-amazon.com/images...  \n",
       "3   https://images-eu.ssl-images-amazon.com/images...  \n",
       "4   https://images-eu.ssl-images-amazon.com/images...  \n",
       "..                                                ...  \n",
       "75  https://images-eu.ssl-images-amazon.com/images...  \n",
       "76  https://images-eu.ssl-images-amazon.com/images...  \n",
       "77  https://images-eu.ssl-images-amazon.com/images...  \n",
       "78  https://images-eu.ssl-images-amazon.com/images...  \n",
       "79  https://images-eu.ssl-images-amazon.com/images...  \n",
       "\n",
       "[79 rows x 8 columns]"
      ]
     },
     "execution_count": 306,
     "metadata": {},
     "output_type": "execute_result"
    }
   ],
   "source": [
    "df_amazon"
   ]
  },
  {
   "cell_type": "markdown",
   "metadata": {},
   "source": [
    "### Genre Cleaning and Standardization\n"
   ]
  },
  {
   "cell_type": "code",
   "execution_count": 309,
   "metadata": {},
   "outputs": [],
   "source": [
    "def clean_genre_column(df):\n",
    "    df['Genre'] = df['Genre'].str.replace(',,', ',').str.strip()\n",
    "\n",
    "    unnecessary_genres = ['Best Sellers', 'Jarir Publications Books', 'New Arrivals', 'Bargain Books', 'E-Books', 'Audio & Video CD/DVD']\n",
    "    for unwanted in unnecessary_genres:\n",
    "        df['Genre'] = df['Genre'].str.replace(f'{unwanted}, ', '', regex=False)\n",
    "        df['Genre'] = df['Genre'].str.replace(f', {unwanted}', '', regex=False)\n",
    "        df['Genre'] = df['Genre'].str.replace(unwanted, '', regex=False).str.replace(',,', ',').str.strip(', ')\n",
    "\n",
    "    return df\n",
    "\n",
    "df_jarir = clean_genre_column(df_jarir)\n",
    "df_amazon = clean_genre_column(df_amazon)\n",
    "\n",
    "genre_mapping = {\n",
    "    'Fiction & Literature': 'Fiction Genres',\n",
    "    'Literary Fiction': 'Fiction Genres',\n",
    "    'Genre Fiction': 'Fiction Genres',\n",
    "    'Mysteries': 'Mystery & Thriller',\n",
    "    'Historical Mystery': 'Mystery & Thriller',\n",
    "    'Psychological Thrillers': 'Mystery & Thriller',\n",
    "    'Science Fiction': 'Fiction Genres',\n",
    "    'Romantic Fantasy': 'Fiction Genres',\n",
    "    'Psychological Fiction': 'Fiction Genres',\n",
    "    'Comics & Graphic Novels': 'Comics & Humor',\n",
    "    'Manga Comics & Graphic Novels': 'Comics & Humor',\n",
    "    'Humor': 'Comics & Humor',\n",
    "    'Humorous Fiction': 'Comics & Humor',\n",
    "    'Self-Help': 'Self-Help & Personal Development',\n",
    "    'Self Development': 'Self-Help & Personal Development',\n",
    "    'Self-Esteem': 'Self-Help & Personal Development',\n",
    "    'Motivational Self-Help': 'Self-Help & Personal Development',\n",
    "    'Health': 'Health & Fitness',\n",
    "    'Fitness & Dieting': 'Health & Fitness',\n",
    "    'Diets': 'Health & Fitness',\n",
    "    'Business & Management': 'Business & Finance',\n",
    "    'Business Management': 'Business & Finance',\n",
    "    'Finance': 'Business & Finance',\n",
    "    'Forensic Psychology': 'Psychology & Philosophy',\n",
    "    'Psychology & Counseling': 'Psychology & Philosophy',\n",
    "    'Philosophy': 'Psychology & Philosophy',\n",
    "    'Politics & Social Sciences': 'Politics & Social Sciences',\n",
    "    'Graduate School Test Guides': 'Education & Reference',\n",
    "    'School Textbooks': 'Education & Reference',\n",
    "    'Higher & Continuing Education': 'Education & Reference',\n",
    "    'Foreign Language Study & Reference': 'Education & Reference',\n",
    "    'Textbooks and Study Guides': 'Education & Reference',\n",
    "    'Technology': 'Technology & Digital Media',\n",
    "    'Children\\'s Early Learning Books on the Alphabet': 'Children & Young Adults',\n",
    "    'Early Learning for Children': 'Children & Young Adults',\n",
    "    'Explore the World Books for Children': 'Children & Young Adults',\n",
    "    'Children Books': 'Children & Young Adults',\n",
    "    'Education Studies & Teaching': 'Children & Young Adults',\n",
    "    'Children\\'s Books on Country & Farm Life': 'Children & Young Adults',\n",
    "    'Children\\'s Books on Family Life': 'Children & Young Adults',\n",
    "    'Children\\'s Books on Social Skills': 'Children & Young Adults',\n",
    "    'Children\\'s Books on Crafts & Hobbies': 'Children & Young Adults',\n",
    "    'Literature & Fiction for Children': 'Children & Young Adults',\n",
    "    'Fantasy for Young Adults': 'Children & Young Adults',\n",
    "    'Mysteries & Thrillers for Young Adults': 'Children & Young Adults',\n",
    "    'Digital Art': 'Arts, Crafts, & Hobbies',\n",
    "    'Drawing': 'Arts, Crafts, & Hobbies',\n",
    "    'Crafts': 'Arts, Crafts, & Hobbies',\n",
    "    'Crafts & Hobbies': 'Arts, Crafts, & Hobbies',\n",
    "    'Hobbies & Home': 'Arts, Crafts, & Hobbies',\n",
    "    'Sports & Outdoors': 'Arts, Crafts, & Hobbies',\n",
    "    'Islamic & Religion Books': 'Religion & Spirituality',\n",
    "    'Islam': 'Religion & Spirituality',\n",
    "    'History': 'History & Culture',\n",
    "    'History & Geography': 'History & Culture',\n",
    "    'Antiques & Collectibles': 'History & Culture',\n",
    "    'Poetry & Literary Essays': 'Poetry & Essays',\n",
    "    'Poetry Anthologies': 'Poetry & Essays',\n",
    "    'Literary Essays & Correspondence': 'Poetry & Essays',\n",
    "    'Family & Relationships': 'Parenting & Family',\n",
    "    'Parenting & Family': 'Parenting & Family',\n",
    "    'Cooking & Culinary Arts': 'Cookbooks & Food',\n",
    "    'Celebrity & TV Show Cookbooks': 'Cookbooks & Food',\n",
    "    'Baking': 'Cookbooks & Food',\n",
    "}\n",
    "\n",
    "def clean_genre_list(genre_str):\n",
    "    if pd.isna(genre_str):  # Check if the value is NaN or None\n",
    "        return None\n",
    "\n",
    "    genres = [g.strip() for g in genre_str.split(',') if g.strip()]\n",
    "\n",
    "    mapped_genres = set(genre_mapping.get(g, g) for g in genres)\n",
    "\n",
    "    main_categories_priority = ['Fiction Genres', 'Non-Fiction Genres', 'Children & Young Adults', 'Arts, Crafts, & Hobbies',\n",
    "                                'Religion & Spirituality', 'History & Culture', 'Poetry & Essays', 'Parenting & Family', 'Cookbooks & Food']\n",
    "    for category in main_categories_priority:\n",
    "        if category in mapped_genres:\n",
    "            return category\n",
    "    return ', '.join(mapped_genres) if mapped_genres else None\n",
    "\n",
    "df_jarir['Genre'] = df_jarir['Genre'].apply(clean_genre_list)\n",
    "df_amazon['Genre'] = df_amazon['Genre'].apply(clean_genre_list)\n",
    "\n",
    "df_jarir.dropna(subset=['Genre'], inplace=True)\n",
    "df_amazon.dropna(subset=['Genre'], inplace=True)\n",
    "df_jarir.reset_index(drop=True, inplace=True)\n",
    "\n",
    "# Display the cleaned DataFrame\n",
    "#rawBooks_df.to_csv(\"working.csv\", index=False)"
   ]
  },
  {
   "cell_type": "markdown",
   "metadata": {},
   "source": [
    "- In this section, we focused on cleaning and standardizing the `Genre` column to ensure consistency and remove redundant or irrelevant entries. We started by eliminating duplicate commas and unnecessary whitespace. Then, we removed irrelevant values such as \"Best Sellers\" and \"Audio & Video CD/DVD.\" Finally, we applied a mapping to unify similar genres under standardized names, for example, \"Fiction & Literature\" was categorized as \"Fiction Genres.\" This step was crucial to maintain a consistent data structure and improve the quality of analysis based on genre classifications."
   ]
  },
  {
   "cell_type": "markdown",
   "metadata": {},
   "source": [
    "- In addition, we want to mention that we didn’t perform preprocessing on the 'Book Type' column. Although we know it contains different languages and some issues, we decided not to spend time on it for now. If we later determine that it’s necessary, we will apply the proper preprocessing. Otherwise, we will drop the column"
   ]
  },
  {
   "cell_type": "code",
   "execution_count": 313,
   "metadata": {},
   "outputs": [],
   "source": [
    "df_jarir.to_csv(\"Clean_Jarir.csv\", index=False)"
   ]
  },
  {
   "cell_type": "code",
   "execution_count": 315,
   "metadata": {},
   "outputs": [],
   "source": [
    "df_amazon.to_csv(\"Clean_Amazon.csv\", index=False)"
   ]
  },
  {
   "cell_type": "markdown",
   "metadata": {},
   "source": [
    "## Image Processing"
   ]
  },
  {
   "cell_type": "markdown",
   "metadata": {},
   "source": [
    "### Downloading Book Cover Images Using Selenium"
   ]
  },
  {
   "cell_type": "code",
   "execution_count": 172,
   "metadata": {},
   "outputs": [
    {
     "name": "stdout",
     "output_type": "stream",
     "text": [
      "Collecting webdriver-manager\n",
      "  Downloading webdriver_manager-4.0.2-py2.py3-none-any.whl (27 kB)\n",
      "Requirement already satisfied: requests in c:\\users\\rikhm\\anaconda3\\lib\\site-packages (from webdriver-manager) (2.27.1)\n",
      "Collecting python-dotenv\n",
      "  Downloading python_dotenv-1.0.1-py3-none-any.whl (19 kB)\n",
      "Requirement already satisfied: packaging in c:\\users\\rikhm\\anaconda3\\lib\\site-packages (from webdriver-manager) (21.3)\n",
      "Requirement already satisfied: pyparsing!=3.0.5,>=2.0.2 in c:\\users\\rikhm\\anaconda3\\lib\\site-packages (from packaging->webdriver-manager) (3.0.4)\n",
      "Requirement already satisfied: urllib3<1.27,>=1.21.1 in c:\\users\\rikhm\\anaconda3\\lib\\site-packages (from requests->webdriver-manager) (1.26.9)\n",
      "Requirement already satisfied: idna<4,>=2.5 in c:\\users\\rikhm\\anaconda3\\lib\\site-packages (from requests->webdriver-manager) (3.3)\n",
      "Requirement already satisfied: charset-normalizer~=2.0.0 in c:\\users\\rikhm\\anaconda3\\lib\\site-packages (from requests->webdriver-manager) (2.0.4)\n",
      "Requirement already satisfied: certifi>=2017.4.17 in c:\\users\\rikhm\\anaconda3\\lib\\site-packages (from requests->webdriver-manager) (2025.1.31)\n",
      "Installing collected packages: python-dotenv, webdriver-manager\n",
      "Successfully installed python-dotenv-1.0.1 webdriver-manager-4.0.2\n",
      "Note: you may need to restart the kernel to use updated packages.\n"
     ]
    }
   ],
   "source": [
    "pip install webdriver-manager"
   ]
  },
  {
   "cell_type": "code",
   "execution_count": 174,
   "metadata": {},
   "outputs": [
    {
     "name": "stdout",
     "output_type": "stream",
     "text": [
      "Image download process completed.\n"
     ]
    }
   ],
   "source": [
    "import pandas as pd\n",
    "from selenium import webdriver\n",
    "from selenium.webdriver.chrome.service import Service\n",
    "from selenium.webdriver.chrome.options import Options\n",
    "from webdriver_manager.chrome import ChromeDriverManager\n",
    "import os\n",
    "import time\n",
    "\n",
    "\n",
    "jarir_file_path = \"Clean_Jarir.csv\"  # Ensure this file exists\n",
    "amazon_file_path = \"Clean_Amazon.csv\"  # Ensure this file exists\n",
    "\n",
    "df_jarir = pd.read_csv(jarir_file_path)\n",
    "df_amazon = pd.read_csv(amazon_file_path)\n",
    "\n",
    "df = pd.concat([df_jarir, df_amazon], ignore_index=True)\n",
    "\n",
    "# Set up Selenium options\n",
    "chrome_options = Options()\n",
    "chrome_options.add_argument(\"--headless\")  # Run in headless mode\n",
    "chrome_options.add_argument(\"--disable-gpu\")\n",
    "chrome_options.add_argument(\"--no-sandbox\")\n",
    "\n",
    "# Start WebDriver\n",
    "service = Service(ChromeDriverManager().install())\n",
    "driver = webdriver.Chrome(service=service, options=chrome_options)\n",
    "\n",
    "# Directory to save images\n",
    "image_dir = \"book_covers\"\n",
    "os.makedirs(image_dir, exist_ok=True)\n",
    "\n",
    "# Number of images to download\n",
    "num_images = 315  # Adjust as needed\n",
    "\n",
    "# Extract image URLs from the \"Cover Image\" column\n",
    "image_urls = df[\"Cover Image\"].dropna().head(num_images).tolist()\n",
    "\n",
    "# Download images using Selenium and save them directly\n",
    "for idx, url in enumerate(image_urls):\n",
    "    try:\n",
    "        driver.get(url)\n",
    "        time.sleep(3)  # Wait for the page to load\n",
    "        \n",
    "        # Locate the image element\n",
    "        image_element = driver.find_element(\"tag name\", \"img\")\n",
    "\n",
    "        # Save the image via Selenium\n",
    "        image_path = os.path.join(image_dir, f\"book_{idx}.png\")\n",
    "        image_element.screenshot(image_path)\n",
    "\n",
    "    except Exception as e :\n",
    "        print(f\"Error downloading image {idx}: {e}\")  # Print the error message\n",
    "        pass  # Ignore errors and continue\n",
    "\n",
    "# Close the browser after completing the task\n",
    "driver.quit()\n",
    "print(\"Image download process completed.\")"
   ]
  },
  {
   "cell_type": "markdown",
   "metadata": {},
   "source": [
    "We used Selenium to download book cover images from processed_data.csv, bypassing Cloudflare protection and dynamic loading by simulating real browsing. Running Selenium in headless mode, we stored images in book_covers, extracting 313 URLs from the \"Cover Image\" column. For each, we opened the webpage, located the `<img>` element, and captured a screenshot. Error handling ensured smooth execution. With the covers downloaded, we can now analyze them for classification using color extraction, contrast analysis, or machine learning."
   ]
  },
  {
   "cell_type": "markdown",
   "metadata": {},
   "source": [
    " ### Analyzing Images and Extracting Key Features"
   ]
  },
  {
   "cell_type": "markdown",
   "metadata": {},
   "source": [
    "Now, we will load the downloaded images and extract the following visual features [ 4 ] :\n",
    "\n",
    "- Mean Color: To determine the dominant colors in each cover.\n",
    "- Contrast: To measure how clear and vibrant the cover is.\n",
    "- Edge Complexity: To assess the level of detail and design complexity."
   ]
  },
  {
   "cell_type": "code",
   "execution_count": 176,
   "metadata": {},
   "outputs": [],
   "source": [
    "from selenium import webdriver\n",
    "from selenium.webdriver.chrome.service import Service\n",
    "from selenium.webdriver.chrome.options import Options\n",
    "import numpy as np\n",
    "import os\n",
    "import time\n",
    "import cv2\n",
    "\n",
    "# Define the directory where book cover images are stored\n",
    "image_dir = \"book_covers\"\n",
    "image_files = [f for f in os.listdir(image_dir) if f.endswith(\".png\")]\n",
    "\n",
    "# Function to extract visual features from images\n",
    "def extract_visual_features(image_path):\n",
    "    img = cv2.imread(image_path)\n",
    "    img = cv2.cvtColor(img, cv2.COLOR_BGR2RGB)\n",
    "\n",
    "    # Compute mean color\n",
    "    mean_color = np.mean(img, axis=(0, 1))\n",
    "\n",
    "    # Convert the image to grayscale for contrast analysis\n",
    "    gray_img = cv2.cvtColor(img, cv2.COLOR_RGB2GRAY)\n",
    "    contrast = np.std(gray_img)\n",
    "\n",
    "    # Use edge detection to measure design complexity\n",
    "    edges = cv2.Canny(gray_img, 100, 200)\n",
    "    edge_complexity = np.mean(edges)\n",
    "\n",
    "    return mean_color, contrast, edge_complexity\n",
    "\n",
    "# Extract features from all images\n",
    "features = []\n",
    "for img_file in image_files:\n",
    "    img_path = os.path.join(image_dir, img_file)\n",
    "    mean_color, contrast, edge_complexity = extract_visual_features(img_path)\n",
    "    features.append((img_file, mean_color, contrast, edge_complexity))\n",
    "\n",
    "# Convert the extracted features into a DataFrame\n",
    "df_features = pd.DataFrame(features, columns=[\"Filename\", \"Mean_Color\", \"Contrast\", \"Edge_Complexity\"])\n",
    "\n",
    "# Save extracted features to a CSV file\n",
    "df_features.to_csv(\"book_cover_features.csv\", index=False)\n",
    "\n",
    "# Load extracted feature data\n",
    "df_features = pd.read_csv(\"book_cover_features.csv\")"
   ]
  },
  {
   "cell_type": "markdown",
   "metadata": {},
   "source": [
    "### Classifying Covers as \"Interesting\" or \"Not Interesting\""
   ]
  },
  {
   "cell_type": "markdown",
   "metadata": {},
   "source": [
    "After extracting features, we will classify covers as \"Interesting\" if they exceed a threshold in contrast or edge complexity."
   ]
  },
  {
   "cell_type": "code",
   "execution_count": 177,
   "metadata": {},
   "outputs": [],
   "source": [
    "# Calculate thresholds for determining interesting covers\n",
    "contrast_threshold = df_features[\"Contrast\"].median()\n",
    "edge_threshold = df_features[\"Edge_Complexity\"].median()\n",
    "\n",
    "# Adjust the threshold slightly to make classification more practical\n",
    "contrast_threshold *= 0.8\n",
    "edge_threshold *= 0.8\n",
    "\n",
    "# Classify covers based on extracted features\n",
    "df_features[\"Interesting\"] = df_features.apply(\n",
    "    lambda row: 1 if row[\"Contrast\"] > contrast_threshold or row[\"Edge_Complexity\"] > edge_threshold else 0, axis=1\n",
    ")\n",
    "\n",
    "# Save the classified covers to a new CSV file\n",
    "df_features.to_csv(\"book_cover_features_with_classification.csv\", index=False)"
   ]
  },
  {
   "cell_type": "markdown",
   "metadata": {},
   "source": [
    "### Merging Classification Results with Original Book Data"
   ]
  },
  {
   "cell_type": "markdown",
   "metadata": {},
   "source": [
    "Finally, we will update processed_data.csv to include the new \"Interesting or Not\" classification."
   ]
  },
  {
   "cell_type": "code",
   "execution_count": 329,
   "metadata": {},
   "outputs": [],
   "source": [
    "import os\n",
    "jarir_image = pd.read_csv(\"Clean_Jarir.csv\")\n",
    "amazon_image = pd.read_csv(\"Clean_Amazon.csv\")\n",
    "df_features = pd.read_csv(\"book_cover_features_with_classification.csv\")\n",
    "\n",
    "# Standardize 'Book_number' column in df_features\n",
    "df_features[\"Filename\"] = df_features[\"Filename\"].str.extract(r'(\\d+)').astype(int)\n",
    "\n",
    "# Ensure df_processed has Book_number column matching df_features\n",
    "jarir_image[\"Book_number\"] = range(0, len(df_jarir))\n",
    "amazon_image[\"Book_number\"] = range(236, 236 + len(amazon_image))\n",
    "\n",
    "# Merge based on Book_number\n",
    "jarir_image = jarir_image.merge(df_features[[\"Filename\", \"Interesting\"]], left_on=\"Book_number\", right_on=\"Filename\" ,how=\"left\")\n",
    "amazon_image = amazon_image.merge(df_features[[\"Filename\", \"Interesting\"]], left_on=\"Book_number\", right_on=\"Filename\" ,how=\"left\")\n",
    "\n",
    "jarir_image.drop(columns=[\"Filename\", \"Book_number\"], inplace=True)\n",
    "amazon_image.drop(columns=[\"Filename\", \"Book_number\"], inplace=True)\n"
   ]
  },
  {
   "cell_type": "code",
   "execution_count": 331,
   "metadata": {},
   "outputs": [
    {
     "name": "stdout",
     "output_type": "stream",
     "text": [
      "<class 'pandas.core.frame.DataFrame'>\n",
      "RangeIndex: 236 entries, 0 to 235\n",
      "Data columns (total 9 columns):\n",
      " #   Column          Non-Null Count  Dtype  \n",
      "---  ------          --------------  -----  \n",
      " 0   Title           236 non-null    object \n",
      " 1   Price           236 non-null    float64\n",
      " 2   Rating          236 non-null    float64\n",
      " 3   Num Of Reviews  236 non-null    int64  \n",
      " 4   Author          236 non-null    object \n",
      " 5   Book Type       236 non-null    object \n",
      " 6   Genre           236 non-null    object \n",
      " 7   Cover Image     236 non-null    object \n",
      " 8   Interesting     236 non-null    int64  \n",
      "dtypes: float64(2), int64(2), object(5)\n",
      "memory usage: 16.7+ KB\n"
     ]
    }
   ],
   "source": [
    "jarir_image.info()"
   ]
  },
  {
   "cell_type": "code",
   "execution_count": 333,
   "metadata": {},
   "outputs": [
    {
     "name": "stdout",
     "output_type": "stream",
     "text": [
      "<class 'pandas.core.frame.DataFrame'>\n",
      "RangeIndex: 79 entries, 0 to 78\n",
      "Data columns (total 9 columns):\n",
      " #   Column          Non-Null Count  Dtype  \n",
      "---  ------          --------------  -----  \n",
      " 0   Title           79 non-null     object \n",
      " 1   Price           79 non-null     float64\n",
      " 2   Rating          79 non-null     float64\n",
      " 3   Num Of Reviews  79 non-null     int64  \n",
      " 4   Author          79 non-null     object \n",
      " 5   Book Type       79 non-null     object \n",
      " 6   Genre           79 non-null     object \n",
      " 7   Cover Image     79 non-null     object \n",
      " 8   Interesting     79 non-null     int64  \n",
      "dtypes: float64(2), int64(2), object(5)\n",
      "memory usage: 5.7+ KB\n"
     ]
    }
   ],
   "source": [
    "amazon_image.info()"
   ]
  },
  {
   "cell_type": "markdown",
   "metadata": {},
   "source": [
    "## Saving Processed into a csv file"
   ]
  },
  {
   "cell_type": "code",
   "execution_count": 335,
   "metadata": {},
   "outputs": [],
   "source": [
    "#Saving Processed into a csv file\n",
    "jarir_image.to_csv(\"prior_processed_jarir.csv\", index=False)\n",
    "amazon_image.to_csv(\"prior_processed_amazon.csv\", index=False)"
   ]
  },
  {
   "cell_type": "markdown",
   "metadata": {},
   "source": [
    "# 4. Advanced Exploratory Data Analysis ( EDA )"
   ]
  },
  {
   "cell_type": "markdown",
   "metadata": {},
   "source": [
    "After processing and cleaning our data , we have to analyze , summarize and visualize it to understand their main characteristics using EDA.\n",
    "\n",
    "This analysis is based on both primary and secondary data collected through web scraping. Data from Amazon serves as the primary source, while data from Jarir has been used as a secondary source to enrich and enhance the dataset. The inclusion of Jarir data allows for a more comprehensive and balanced analysis, providing additional insights through web scraping techniques.\n",
    "\n",
    "We will visualize and analyze each EDA step separately for the primary and secondary datasets, observe patterns for each individually, and then perform a comparison."
   ]
  },
  {
   "cell_type": "code",
   "execution_count": 627,
   "metadata": {},
   "outputs": [],
   "source": [
    "# reading processed data \n",
    "prior_processed_amazon = pd.read_csv(\"prior_processed_amazon.csv\")\n",
    "prior_processed_jarir = pd.read_csv(\"prior_processed_jarir.csv\")"
   ]
  },
  {
   "cell_type": "markdown",
   "metadata": {},
   "source": [
    "### 1 - Non-graphical , Univariate : statistics"
   ]
  },
  {
   "cell_type": "code",
   "execution_count": 357,
   "metadata": {},
   "outputs": [
    {
     "data": {
      "text/html": [
       "<div>\n",
       "<style scoped>\n",
       "    .dataframe tbody tr th:only-of-type {\n",
       "        vertical-align: middle;\n",
       "    }\n",
       "\n",
       "    .dataframe tbody tr th {\n",
       "        vertical-align: top;\n",
       "    }\n",
       "\n",
       "    .dataframe thead tr th {\n",
       "        text-align: left;\n",
       "    }\n",
       "</style>\n",
       "<table border=\"1\" class=\"dataframe\">\n",
       "  <thead>\n",
       "    <tr>\n",
       "      <th></th>\n",
       "      <th colspan=\"4\" halign=\"left\">Amazon Statistics</th>\n",
       "      <th colspan=\"4\" halign=\"left\">Jarir Statistics</th>\n",
       "    </tr>\n",
       "    <tr>\n",
       "      <th></th>\n",
       "      <th>Price</th>\n",
       "      <th>Rating</th>\n",
       "      <th>Num Of Reviews</th>\n",
       "      <th>Interesting</th>\n",
       "      <th>Price</th>\n",
       "      <th>Rating</th>\n",
       "      <th>Num Of Reviews</th>\n",
       "      <th>Interesting</th>\n",
       "    </tr>\n",
       "  </thead>\n",
       "  <tbody>\n",
       "    <tr>\n",
       "      <th>count</th>\n",
       "      <td>79.000000</td>\n",
       "      <td>79.000000</td>\n",
       "      <td>79.000000</td>\n",
       "      <td>79.000000</td>\n",
       "      <td>236.000000</td>\n",
       "      <td>236.000000</td>\n",
       "      <td>236.000000</td>\n",
       "      <td>236.000000</td>\n",
       "    </tr>\n",
       "    <tr>\n",
       "      <th>mean</th>\n",
       "      <td>63.448734</td>\n",
       "      <td>4.578481</td>\n",
       "      <td>9077.417722</td>\n",
       "      <td>0.848101</td>\n",
       "      <td>41.690678</td>\n",
       "      <td>2.904237</td>\n",
       "      <td>3.250000</td>\n",
       "      <td>0.894068</td>\n",
       "    </tr>\n",
       "    <tr>\n",
       "      <th>std</th>\n",
       "      <td>37.430640</td>\n",
       "      <td>0.540102</td>\n",
       "      <td>16905.904455</td>\n",
       "      <td>0.361216</td>\n",
       "      <td>21.208431</td>\n",
       "      <td>2.385966</td>\n",
       "      <td>8.847707</td>\n",
       "      <td>0.308405</td>\n",
       "    </tr>\n",
       "    <tr>\n",
       "      <th>min</th>\n",
       "      <td>9.000000</td>\n",
       "      <td>0.000000</td>\n",
       "      <td>0.000000</td>\n",
       "      <td>0.000000</td>\n",
       "      <td>2.000000</td>\n",
       "      <td>0.000000</td>\n",
       "      <td>0.000000</td>\n",
       "      <td>0.000000</td>\n",
       "    </tr>\n",
       "    <tr>\n",
       "      <th>25%</th>\n",
       "      <td>35.735000</td>\n",
       "      <td>4.550000</td>\n",
       "      <td>394.000000</td>\n",
       "      <td>1.000000</td>\n",
       "      <td>26.500000</td>\n",
       "      <td>0.000000</td>\n",
       "      <td>0.000000</td>\n",
       "      <td>1.000000</td>\n",
       "    </tr>\n",
       "    <tr>\n",
       "      <th>50%</th>\n",
       "      <td>55.000000</td>\n",
       "      <td>4.600000</td>\n",
       "      <td>2535.000000</td>\n",
       "      <td>1.000000</td>\n",
       "      <td>37.000000</td>\n",
       "      <td>4.600000</td>\n",
       "      <td>1.000000</td>\n",
       "      <td>1.000000</td>\n",
       "    </tr>\n",
       "    <tr>\n",
       "      <th>75%</th>\n",
       "      <td>84.290000</td>\n",
       "      <td>4.700000</td>\n",
       "      <td>9284.500000</td>\n",
       "      <td>1.000000</td>\n",
       "      <td>49.000000</td>\n",
       "      <td>5.000000</td>\n",
       "      <td>2.250000</td>\n",
       "      <td>1.000000</td>\n",
       "    </tr>\n",
       "    <tr>\n",
       "      <th>max</th>\n",
       "      <td>228.470000</td>\n",
       "      <td>4.900000</td>\n",
       "      <td>80641.000000</td>\n",
       "      <td>1.000000</td>\n",
       "      <td>145.000000</td>\n",
       "      <td>5.000000</td>\n",
       "      <td>91.000000</td>\n",
       "      <td>1.000000</td>\n",
       "    </tr>\n",
       "  </tbody>\n",
       "</table>\n",
       "</div>"
      ],
      "text/plain": [
       "      Amazon Statistics                                        \\\n",
       "                  Price     Rating Num Of Reviews Interesting   \n",
       "count         79.000000  79.000000      79.000000   79.000000   \n",
       "mean          63.448734   4.578481    9077.417722    0.848101   \n",
       "std           37.430640   0.540102   16905.904455    0.361216   \n",
       "min            9.000000   0.000000       0.000000    0.000000   \n",
       "25%           35.735000   4.550000     394.000000    1.000000   \n",
       "50%           55.000000   4.600000    2535.000000    1.000000   \n",
       "75%           84.290000   4.700000    9284.500000    1.000000   \n",
       "max          228.470000   4.900000   80641.000000    1.000000   \n",
       "\n",
       "      Jarir Statistics                                         \n",
       "                 Price      Rating Num Of Reviews Interesting  \n",
       "count       236.000000  236.000000     236.000000  236.000000  \n",
       "mean         41.690678    2.904237       3.250000    0.894068  \n",
       "std          21.208431    2.385966       8.847707    0.308405  \n",
       "min           2.000000    0.000000       0.000000    0.000000  \n",
       "25%          26.500000    0.000000       0.000000    1.000000  \n",
       "50%          37.000000    4.600000       1.000000    1.000000  \n",
       "75%          49.000000    5.000000       2.250000    1.000000  \n",
       "max         145.000000    5.000000      91.000000    1.000000  "
      ]
     },
     "execution_count": 357,
     "metadata": {},
     "output_type": "execute_result"
    }
   ],
   "source": [
    "pd.concat([prior_processed_amazon.describe(), prior_processed_jarir.describe()], axis=1, keys=[\"Amazon Statistics\", \"Jarir Statistics\"]) # for numeric attributes "
   ]
  },
  {
   "cell_type": "markdown",
   "metadata": {},
   "source": [
    "To gain a brief overview of the statistical properties of numerical attributes, we can use the `describe()` function, which provides insights such as the mean, minimum, maximum, and quartiles."
   ]
  },
  {
   "cell_type": "code",
   "execution_count": 360,
   "metadata": {},
   "outputs": [
    {
     "data": {
      "text/html": [
       "<div>\n",
       "<style scoped>\n",
       "    .dataframe tbody tr th:only-of-type {\n",
       "        vertical-align: middle;\n",
       "    }\n",
       "\n",
       "    .dataframe tbody tr th {\n",
       "        vertical-align: top;\n",
       "    }\n",
       "\n",
       "    .dataframe thead tr th {\n",
       "        text-align: left;\n",
       "    }\n",
       "</style>\n",
       "<table border=\"1\" class=\"dataframe\">\n",
       "  <thead>\n",
       "    <tr>\n",
       "      <th></th>\n",
       "      <th colspan=\"5\" halign=\"left\">Amazon Non-Numeric</th>\n",
       "      <th colspan=\"5\" halign=\"left\">Jarir Non-Numeric</th>\n",
       "    </tr>\n",
       "    <tr>\n",
       "      <th></th>\n",
       "      <th>Title</th>\n",
       "      <th>Author</th>\n",
       "      <th>Book Type</th>\n",
       "      <th>Genre</th>\n",
       "      <th>Cover Image</th>\n",
       "      <th>Title</th>\n",
       "      <th>Author</th>\n",
       "      <th>Book Type</th>\n",
       "      <th>Genre</th>\n",
       "      <th>Cover Image</th>\n",
       "    </tr>\n",
       "  </thead>\n",
       "  <tbody>\n",
       "    <tr>\n",
       "      <th>count</th>\n",
       "      <td>79</td>\n",
       "      <td>79</td>\n",
       "      <td>79</td>\n",
       "      <td>79</td>\n",
       "      <td>79</td>\n",
       "      <td>236</td>\n",
       "      <td>236</td>\n",
       "      <td>236</td>\n",
       "      <td>236</td>\n",
       "      <td>236</td>\n",
       "    </tr>\n",
       "    <tr>\n",
       "      <th>unique</th>\n",
       "      <td>79</td>\n",
       "      <td>67</td>\n",
       "      <td>5</td>\n",
       "      <td>24</td>\n",
       "      <td>79</td>\n",
       "      <td>235</td>\n",
       "      <td>125</td>\n",
       "      <td>5</td>\n",
       "      <td>10</td>\n",
       "      <td>236</td>\n",
       "    </tr>\n",
       "    <tr>\n",
       "      <th>top</th>\n",
       "      <td>كتاب التحصيلي علمي 46-47 (2025)</td>\n",
       "      <td>Jérémy Mariez</td>\n",
       "      <td>Paperback</td>\n",
       "      <td>Children &amp; Young Adults</td>\n",
       "      <td>https://images-eu.ssl-images-amazon.com/images...</td>\n",
       "      <td>الكتاب الكبير للانشطة الرائعة</td>\n",
       "      <td>Greer's library.</td>\n",
       "      <td>Paperback</td>\n",
       "      <td>Children &amp; Young Adults</td>\n",
       "      <td>https://www.jarir.com/cdn-cgi/image/fit=contai...</td>\n",
       "    </tr>\n",
       "    <tr>\n",
       "      <th>freq</th>\n",
       "      <td>1</td>\n",
       "      <td>5</td>\n",
       "      <td>55</td>\n",
       "      <td>21</td>\n",
       "      <td>1</td>\n",
       "      <td>2</td>\n",
       "      <td>24</td>\n",
       "      <td>104</td>\n",
       "      <td>126</td>\n",
       "      <td>1</td>\n",
       "    </tr>\n",
       "  </tbody>\n",
       "</table>\n",
       "</div>"
      ],
      "text/plain": [
       "                     Amazon Non-Numeric                            \\\n",
       "                                  Title         Author  Book Type   \n",
       "count                                79             79         79   \n",
       "unique                               79             67          5   \n",
       "top     كتاب التحصيلي علمي 46-47 (2025)  Jérémy Mariez  Paperback   \n",
       "freq                                  1              5         55   \n",
       "\n",
       "                                 \\\n",
       "                          Genre   \n",
       "count                        79   \n",
       "unique                       24   \n",
       "top     Children & Young Adults   \n",
       "freq                         21   \n",
       "\n",
       "                                                           \\\n",
       "                                              Cover Image   \n",
       "count                                                  79   \n",
       "unique                                                 79   \n",
       "top     https://images-eu.ssl-images-amazon.com/images...   \n",
       "freq                                                    1   \n",
       "\n",
       "                    Jarir Non-Numeric                               \\\n",
       "                                Title            Author  Book Type   \n",
       "count                             236               236        236   \n",
       "unique                            235               125          5   \n",
       "top     الكتاب الكبير للانشطة الرائعة  Greer's library.  Paperback   \n",
       "freq                                2                24        104   \n",
       "\n",
       "                                 \\\n",
       "                          Genre   \n",
       "count                       236   \n",
       "unique                       10   \n",
       "top     Children & Young Adults   \n",
       "freq                        126   \n",
       "\n",
       "                                                           \n",
       "                                              Cover Image  \n",
       "count                                                 236  \n",
       "unique                                                236  \n",
       "top     https://www.jarir.com/cdn-cgi/image/fit=contai...  \n",
       "freq                                                    1  "
      ]
     },
     "execution_count": 360,
     "metadata": {},
     "output_type": "execute_result"
    }
   ],
   "source": [
    "pd.concat([prior_processed_amazon.describe(exclude=\"number\"), prior_processed_jarir.describe(exclude=\"number\")], axis=1, keys=[\"Amazon Non-Numeric\", \"Jarir Non-Numeric\"])"
   ]
  },
  {
   "cell_type": "markdown",
   "metadata": {},
   "source": [
    "For non-numerical attributes, we can use `describe(exclude=\"number\")` to gain valuable insights. From this, we can derive the following points:\n",
    "\n",
    "- For Amazon, out of 79 books, there are 67 unique `Author`, with `Jérémy Mariez` being the most frequently mentioned, appearing in 5 books. On the other hand, for Jarir, out of 236 books, there are 125 unique `Author`, with `Greer's Library` being the most frequently mentioned, appearing in 24 books .\n",
    "- The dataset includes 24 distinct genres, with 147 books categorized under `Children & Young Adults` genre.\n"
   ]
  },
  {
   "cell_type": "markdown",
   "metadata": {},
   "source": [
    "### 2 - Non-graphical , Multivariate : correlation"
   ]
  },
  {
   "cell_type": "code",
   "execution_count": 372,
   "metadata": {},
   "outputs": [
    {
     "ename": "ValueError",
     "evalue": "could not convert string to float: 'كتاب التحصيلي علمي 46-47 (2025)'",
     "output_type": "error",
     "traceback": [
      "\u001b[1;31m---------------------------------------------------------------------------\u001b[0m",
      "\u001b[1;31mValueError\u001b[0m                                Traceback (most recent call last)",
      "Cell \u001b[1;32mIn[372], line 1\u001b[0m\n\u001b[1;32m----> 1\u001b[0m pd\u001b[38;5;241m.\u001b[39mconcat([prior_processed_amazon\u001b[38;5;241m.\u001b[39mcorr(), prior_processed_jarir\u001b[38;5;241m.\u001b[39mcorr()], axis\u001b[38;5;241m=\u001b[39m\u001b[38;5;241m1\u001b[39m, keys\u001b[38;5;241m=\u001b[39m[\u001b[38;5;124m\"\u001b[39m\u001b[38;5;124mAmazon Correlation\u001b[39m\u001b[38;5;124m\"\u001b[39m, \u001b[38;5;124m\"\u001b[39m\u001b[38;5;124mJarir Correlation\u001b[39m\u001b[38;5;124m\"\u001b[39m])\n",
      "File \u001b[1;32m~\\anaconda3\\Lib\\site-packages\\pandas\\core\\frame.py:11049\u001b[0m, in \u001b[0;36mDataFrame.corr\u001b[1;34m(self, method, min_periods, numeric_only)\u001b[0m\n\u001b[0;32m  11047\u001b[0m cols \u001b[38;5;241m=\u001b[39m data\u001b[38;5;241m.\u001b[39mcolumns\n\u001b[0;32m  11048\u001b[0m idx \u001b[38;5;241m=\u001b[39m cols\u001b[38;5;241m.\u001b[39mcopy()\n\u001b[1;32m> 11049\u001b[0m mat \u001b[38;5;241m=\u001b[39m data\u001b[38;5;241m.\u001b[39mto_numpy(dtype\u001b[38;5;241m=\u001b[39m\u001b[38;5;28mfloat\u001b[39m, na_value\u001b[38;5;241m=\u001b[39mnp\u001b[38;5;241m.\u001b[39mnan, copy\u001b[38;5;241m=\u001b[39m\u001b[38;5;28;01mFalse\u001b[39;00m)\n\u001b[0;32m  11051\u001b[0m \u001b[38;5;28;01mif\u001b[39;00m method \u001b[38;5;241m==\u001b[39m \u001b[38;5;124m\"\u001b[39m\u001b[38;5;124mpearson\u001b[39m\u001b[38;5;124m\"\u001b[39m:\n\u001b[0;32m  11052\u001b[0m     correl \u001b[38;5;241m=\u001b[39m libalgos\u001b[38;5;241m.\u001b[39mnancorr(mat, minp\u001b[38;5;241m=\u001b[39mmin_periods)\n",
      "File \u001b[1;32m~\\anaconda3\\Lib\\site-packages\\pandas\\core\\frame.py:1993\u001b[0m, in \u001b[0;36mDataFrame.to_numpy\u001b[1;34m(self, dtype, copy, na_value)\u001b[0m\n\u001b[0;32m   1991\u001b[0m \u001b[38;5;28;01mif\u001b[39;00m dtype \u001b[38;5;129;01mis\u001b[39;00m \u001b[38;5;129;01mnot\u001b[39;00m \u001b[38;5;28;01mNone\u001b[39;00m:\n\u001b[0;32m   1992\u001b[0m     dtype \u001b[38;5;241m=\u001b[39m np\u001b[38;5;241m.\u001b[39mdtype(dtype)\n\u001b[1;32m-> 1993\u001b[0m result \u001b[38;5;241m=\u001b[39m \u001b[38;5;28mself\u001b[39m\u001b[38;5;241m.\u001b[39m_mgr\u001b[38;5;241m.\u001b[39mas_array(dtype\u001b[38;5;241m=\u001b[39mdtype, copy\u001b[38;5;241m=\u001b[39mcopy, na_value\u001b[38;5;241m=\u001b[39mna_value)\n\u001b[0;32m   1994\u001b[0m \u001b[38;5;28;01mif\u001b[39;00m result\u001b[38;5;241m.\u001b[39mdtype \u001b[38;5;129;01mis\u001b[39;00m \u001b[38;5;129;01mnot\u001b[39;00m dtype:\n\u001b[0;32m   1995\u001b[0m     result \u001b[38;5;241m=\u001b[39m np\u001b[38;5;241m.\u001b[39masarray(result, dtype\u001b[38;5;241m=\u001b[39mdtype)\n",
      "File \u001b[1;32m~\\anaconda3\\Lib\\site-packages\\pandas\\core\\internals\\managers.py:1694\u001b[0m, in \u001b[0;36mBlockManager.as_array\u001b[1;34m(self, dtype, copy, na_value)\u001b[0m\n\u001b[0;32m   1692\u001b[0m         arr\u001b[38;5;241m.\u001b[39mflags\u001b[38;5;241m.\u001b[39mwriteable \u001b[38;5;241m=\u001b[39m \u001b[38;5;28;01mFalse\u001b[39;00m\n\u001b[0;32m   1693\u001b[0m \u001b[38;5;28;01melse\u001b[39;00m:\n\u001b[1;32m-> 1694\u001b[0m     arr \u001b[38;5;241m=\u001b[39m \u001b[38;5;28mself\u001b[39m\u001b[38;5;241m.\u001b[39m_interleave(dtype\u001b[38;5;241m=\u001b[39mdtype, na_value\u001b[38;5;241m=\u001b[39mna_value)\n\u001b[0;32m   1695\u001b[0m     \u001b[38;5;66;03m# The underlying data was copied within _interleave, so no need\u001b[39;00m\n\u001b[0;32m   1696\u001b[0m     \u001b[38;5;66;03m# to further copy if copy=True or setting na_value\u001b[39;00m\n\u001b[0;32m   1698\u001b[0m \u001b[38;5;28;01mif\u001b[39;00m na_value \u001b[38;5;129;01mis\u001b[39;00m lib\u001b[38;5;241m.\u001b[39mno_default:\n",
      "File \u001b[1;32m~\\anaconda3\\Lib\\site-packages\\pandas\\core\\internals\\managers.py:1753\u001b[0m, in \u001b[0;36mBlockManager._interleave\u001b[1;34m(self, dtype, na_value)\u001b[0m\n\u001b[0;32m   1751\u001b[0m     \u001b[38;5;28;01melse\u001b[39;00m:\n\u001b[0;32m   1752\u001b[0m         arr \u001b[38;5;241m=\u001b[39m blk\u001b[38;5;241m.\u001b[39mget_values(dtype)\n\u001b[1;32m-> 1753\u001b[0m     result[rl\u001b[38;5;241m.\u001b[39mindexer] \u001b[38;5;241m=\u001b[39m arr\n\u001b[0;32m   1754\u001b[0m     itemmask[rl\u001b[38;5;241m.\u001b[39mindexer] \u001b[38;5;241m=\u001b[39m \u001b[38;5;241m1\u001b[39m\n\u001b[0;32m   1756\u001b[0m \u001b[38;5;28;01mif\u001b[39;00m \u001b[38;5;129;01mnot\u001b[39;00m itemmask\u001b[38;5;241m.\u001b[39mall():\n",
      "\u001b[1;31mValueError\u001b[0m: could not convert string to float: 'كتاب التحصيلي علمي 46-47 (2025)'"
     ]
    }
   ],
   "source": [
    "pd.concat([prior_processed_amazon.corr(), prior_processed_jarir.corr()], axis=1, keys=[\"Amazon Correlation\", \"Jarir Correlation\"])"
   ]
  },
  {
   "cell_type": "markdown",
   "metadata": {},
   "source": [
    "For now, we can conclude:\n",
    "- Amazon's `Rating` has a weak positive correlation with the `Num Of Reviews` 0.127249 . \n",
    "- Jarir's `Rating` has a stronger positive correlation with the `Num Of Reviews` 0.293149 .\n",
    "- Amazon's price has a weak negative correlation with rating (-0.077213) and a weak positive correlation with the number of reviews (0.060265)\n",
    "- Jarir's price has a weak positive correlation with rating (0.226934) and the number of reviews (0.186971)."
   ]
  },
  {
   "cell_type": "markdown",
   "metadata": {},
   "source": [
    "**Amazon:**\n",
    "\n",
    "- `Rating` has a weak positive correlation with `Num Of Reviews` 0.127 , suggesting that higher-rated products tend to have slightly more reviews.\n",
    "\n",
    "- `Price` has a weak negative correlation with `Rating` -0.077 , indicating that higher-priced items might have slightly lower ratings.\n",
    "\n",
    "- `Price` also has a weak positive correlation with `Num Of Reviews` 0.060 , meaning higher-priced items might have slightly more reviews.\n",
    "\n",
    "**Jarir:**\n",
    "\n",
    "- `Rating` has a stronger positive correlation with `Num Of Reviews` 0.293 , showing that higher-rated products are more likely to have more reviews compared to Amazon.\n",
    "\n",
    "- `Price` has a weak positive correlation with `Rating` 0.227 , suggesting that higher-priced items might have slightly higher ratings.\n",
    "\n",
    "- `Price` also has a weak positive correlation with `Num Of Reviews` 0.187 , meaning higher-priced items might have slightly more reviews."
   ]
  },
  {
   "cell_type": "markdown",
   "metadata": {},
   "source": [
    "### 3 - Graphical , Univariate "
   ]
  },
  {
   "cell_type": "markdown",
   "metadata": {},
   "source": [
    "Since all our attributes in Primary and secondary data are the same and most of them will be used to answer research questions.\n",
    "\n",
    "### Plots used:\n",
    "**Categorical Variables:** \n",
    "- Lollipop Chart → Author\n",
    "  - Lollipop charts provide a clearer comparison than bar charts when displaying ranked data with a limited number of categories.\n",
    "- Bar Plot → Genre\n",
    "  - Bar plots are effective for comparing categorical distributions and highlighting differences in popular genres between Amazon and Jarir.\n",
    "**Numerical Variables:**\n",
    "- Raincloud Plot → Price & Number of Reviews\n",
    "  - Combination of a violin plot (showing distribution), box plot (indicating quartiles), and strip plot (displaying individual data points).\n",
    "  - Chosen because it provides a comprehensive view of price and review count distributions, including density, spread, and outliers.\n",
    "- Distribution Plot (DistPlot) → Rating\n",
    "  - Displays the density distribution of ratings for each dataset.\n",
    "  - Includes a histogram to show frequency along with a smoothed density curve for better interpretation of trends.\n",
    "\n",
    "### Libarary Used:\n",
    "- Matplotlib → Used for basic plotting functionality and figure layout management.\n",
    "- Seaborn → Used for creating enhanced statistical visualizations such as raincloud plots, bar charts, and violin plots.\n",
    "- Plotly → Used for interactive distribution plots to compare rating distributions dynamically.\n",
    "###  **Numerical Attributes**\n",
    "### Raincloud Plot (Price)"
   ]
  },
  {
   "cell_type": "code",
   "execution_count": 654,
   "metadata": {},
   "outputs": [
    {
     "name": "stderr",
     "output_type": "stream",
     "text": [
      "C:\\Users\\Fahad\\AppData\\Local\\Temp\\ipykernel_25004\\295826169.py:15: FutureWarning:\n",
      "\n",
      "\n",
      "\n",
      "Passing `palette` without assigning `hue` is deprecated and will be removed in v0.14.0. Assign the `y` variable to `hue` and set `legend=False` for the same effect.\n",
      "\n",
      "\n"
     ]
    },
    {
     "data": {
      "image/png": "[encoded data removed]",
      "text/plain": [
       "<Figure size 1600x600 with 2 Axes>"
      ]
     },
     "metadata": {},
     "output_type": "display_data"
    }
   ],
   "source": [
    "import matplotlib.pyplot as plt\n",
    "import seaborn as sns\n",
    "\n",
    "\n",
    "# Plot side-by-side \n",
    "fig, axes = plt.subplots(1, 2, figsize=(16, 6), sharey=True)\n",
    "\n",
    "# Raincloud plot for Price\n",
    "sns.violinplot(ax=axes[0], x=prior_processed_amazon['Price'], color='skyblue', inner=None)\n",
    "sns.boxplot(ax=axes[0], x=prior_processed_amazon['Price'], whis=[0, 100], width=0.1)\n",
    "sns.stripplot(ax=axes[0], x=prior_processed_amazon['Price'], color='black', size=4, jitter=0.4,  alpha=0.7)\n",
    "axes[0].set_title('Primary Data (Amazon) - Price Distribution', fontsize=22)\n",
    "\n",
    "sns.violinplot(ax=axes[1], x=prior_processed_jarir['Price'], color='lightcoral', inner=None)\n",
    "sns.boxplot(ax=axes[1], x=prior_processed_jarir['Price'], whis=[0, 100], width=0.1, palette=\"Reds_r\")\n",
    "sns.stripplot(ax=axes[1], x=prior_processed_jarir['Price'], color='black', size=4, jitter=0.4, alpha=0.6)\n",
    "axes[1].set_title('Secondary Data (Jarir) - Price Distribution', fontsize=22)\n",
    "\n",
    "\n",
    "\n",
    "# Adjust layout\n",
    "plt.tight_layout()\n",
    "plt.show()"
   ]
  },
  {
   "cell_type": "markdown",
   "metadata": {},
   "source": [
    "### Primary Data (Amazon) - Price Insights\n",
    "- Prices are widely distributed, ranging from very low to over 250.\n",
    "- The distribution is right-skewed, meaning there are more affordable books and fewer high-priced books.\n",
    "- The boxplot shows a high concentration of books around lower price ranges, but there are outliers in the high-price range. Mostly we will keep it, since it give insight of why it's bestseller.\n",
    "\n",
    "### Secondary Data (Jarir)  - Price Insights\n",
    "- Prices right-skewed but with a lower range (max ~150).\n",
    "- The majority of books are priced below 75, with a significant concentration around lower values.\n",
    "- Fewer extreme high-price outliers.\n",
    "\n",
    "### Comparison of Key Metrics:\n",
    "- Key Difference: Amazon offers a wider range of book prices, including high-end books, while Jarir focuses more on affordability.\n",
    "  \n",
    "### Contextualize Findings\n",
    "**Validation of Primary Data:**\n",
    "- The broad pricing range in Amazon aligns with expectations—Amazon features both budget-friendly books and premium editions.\n",
    "- The presence of more expensive books suggests a higher diversity in book types and publishers on Amazon.\n",
    "\n",
    "**Contradictions & Possible Explanations:**\n",
    "- Jarir’s lower price range could be due to:\n",
    "  - Different pricing strategies (e.g., local market pricing vs. international pricing).\n",
    "  - Smaller book selection, possibly excluding high-end editions.\n",
    "  - Currency exchange effects, making imported books more expensive."
   ]
  },
  {
   "cell_type": "markdown",
   "metadata": {},
   "source": [
    "### Raincloud Plot (Num Of Reviews)"
   ]
  },
  {
   "cell_type": "code",
   "execution_count": 658,
   "metadata": {},
   "outputs": [
    {
     "name": "stderr",
     "output_type": "stream",
     "text": [
      "C:\\Users\\Fahad\\AppData\\Local\\Temp\\ipykernel_25004\\649994377.py:15: FutureWarning:\n",
      "\n",
      "\n",
      "\n",
      "Passing `palette` without assigning `hue` is deprecated and will be removed in v0.14.0. Assign the `y` variable to `hue` and set `legend=False` for the same effect.\n",
      "\n",
      "\n"
     ]
    },
    {
     "data": {
      "image/png": "[encoded data removed]",
      "text/plain": [
       "<Figure size 1600x600 with 2 Axes>"
      ]
     },
     "metadata": {},
     "output_type": "display_data"
    }
   ],
   "source": [
    "# Plot side-by-side \n",
    "fig, axes = plt.subplots(1, 2, figsize=(16, 6), sharey=True)\n",
    "\n",
    "# Raincloud plot for Price\n",
    "sns.violinplot(ax=axes[0], x=prior_processed_amazon['Num Of Reviews'], color='skyblue', inner=None)\n",
    "sns.boxplot(ax=axes[0], x=prior_processed_amazon['Num Of Reviews'], whis=[0, 100], width=0.1)\n",
    "sns.stripplot(ax=axes[0], x=prior_processed_amazon['Num Of Reviews'], color='black', size=4, jitter=0.4,  alpha=0.7)\n",
    "axes[0].set_title('Primary Data (Amazon) - Num Of Reviews Distribution', fontsize=22)\n",
    "\n",
    "sns.violinplot(ax=axes[1], x=prior_processed_jarir['Num Of Reviews'], color='lightcoral', inner=None)\n",
    "sns.boxplot(ax=axes[1], x=prior_processed_jarir['Num Of Reviews'], whis=[0, 100], width=0.1, palette=\"Reds_r\")\n",
    "sns.stripplot(ax=axes[1], x=prior_processed_jarir['Num Of Reviews'], color='black', size=4, jitter=0.4, alpha=0.6)\n",
    "axes[1].set_title('Secondary Data (Jarir) - Num Of Reviews Distribution', fontsize=22)\n",
    "\n",
    "\n",
    "\n",
    "# Adjust layout\n",
    "plt.tight_layout()\n",
    "plt.show()"
   ]
  },
  {
   "cell_type": "markdown",
   "metadata": {},
   "source": [
    "### Primary Data (Amazon) - Num Of Reviews Insights\n",
    "- The number of reviews varies greatly, with some books having close to 100,000 reviews.\n",
    "- Distribution is right-skewed, with most books having a relatively low number of reviews, but a few extremely popular books have a very high count.\n",
    "- The presence of books with massive review counts suggests a highly engaged user base.\n",
    "\n",
    "### Secondary Data (Jarir)  - Num Of Reviews Insights\n",
    "- The number of reviews is significantly lower overall.\n",
    "- Most books have very few reviews, with very few books surpassing 100 reviews.\n",
    "- \n",
    "### Comparison of Key Metrics:\n",
    "- Key Difference: Amazon books receive far more reviews, indicating higher user engagement, while Jarir has minimal user interaction in reviews.\n",
    "\n",
    "### Contextualize Findings\n",
    "\n",
    "**Validation of Primary Data:**\n",
    "\n",
    "- No appropriate validation can be derived from the secondary data. However, the distribution of reviews in the primary dataset (Amazon KSA) aligns with expectations for an online marketplace.\n",
    "  \n",
    "**Contradictions & Possible Explanations:**\n",
    "\n",
    "- Jarir’s low review counts could be due to:\n",
    "    - Lower website traffic and less customer engagement. \n",
    "    - Jarir late entry to E-commerce, so may its customer base was used to buying books in-store rather than leaving reviews online.\n",
    "    - Cultural differences—users in certain regions may be less likely to leave reviews.\n",
    "    - Fewer incentives to review (e.g., Amazon encourages reviews through algorithms and reminders).\n",
    "    - Amazon’s data may have review bias—more popular books get more attention, leading to an overrepresentation of high-review books in the dataset."
   ]
  },
  {
   "cell_type": "markdown",
   "metadata": {},
   "source": [
    "###  Distribution Plot (Rating)"
   ]
  },
  {
   "cell_type": "code",
   "execution_count": 684,
   "metadata": {},
   "outputs": [
    {
     "data": {
      "application/vnd.plotly.v1+json": {
       "config": {
        "plotlyServerURL": "https://plot.ly"
       },
       "data": [
        {
         "histnorm": "probability density",
         "legendgroup": "Primary Data (Amazon)",
         "marker": {
          "color": "#27308a"
         },
         "name": "Primary Data (Amazon)",
         "opacity": 0.7,
         "type": "histogram",
         "x": [
          4.3,
          4.5,
          4.7,
          4.7,
          4.6,
          4.6,
          4.5,
          0,
          4.5,
          4.7,
          4.6,
          4.7,
          4.7,
          4.8,
          4.6,
          4.7,
          4.7,
          4.8,
          4.7,
          4.6,
          4.7,
          4.6,
          4.4,
          4.7,
          4.6,
          4.6,
          4.5,
          4.6,
          4.8,
          4.9,
          4.6,
          4.7,
          4.7,
          4.9,
          4.8,
          4.7,
          4.8,
          4.5,
          4.6,
          4.5,
          4.4,
          4.5,
          4.6,
          4.9,
          4.8,
          4.9,
          4.7,
          4.5,
          4.5,
          4.6,
          4.6,
          4.7,
          4.3,
          4.6,
          4.7,
          4.9,
          4.8,
          4.5,
          4.8,
          4.7,
          4.5,
          4.7,
          4.6,
          4.6,
          4.7,
          4.6,
          4.7,
          4.6,
          4.7,
          4.4,
          4.8,
          4.7,
          4.5,
          4.3,
          4.6,
          4.8,
          4.7,
          4.4,
          4.6
         ],
         "xaxis": "x",
         "xbins": {
          "end": 4.9,
          "size": 0.2,
          "start": 0
         },
         "yaxis": "y"
        },
        {
         "legendgroup": "Primary Data (Amazon)",
         "marker": {
          "color": "#27308a"
         },
         "mode": "lines",
         "name": "Primary Data (Amazon)",
         "showlegend": false,
         "type": "scatter",
         "x": [
          0,
          0.009800000000000001,
          0.019600000000000003,
          0.029400000000000003,
          0.039200000000000006,
          0.049,
          0.058800000000000005,
          0.06860000000000001,
          0.07840000000000001,
          0.0882,
          0.098,
          0.1078,
          0.11760000000000001,
          0.1274,
          0.13720000000000002,
          0.147,
          0.15680000000000002,
          0.16660000000000003,
          0.1764,
          0.1862,
          0.196,
          0.2058,
          0.2156,
          0.22540000000000002,
          0.23520000000000002,
          0.24500000000000002,
          0.2548,
          0.2646,
          0.27440000000000003,
          0.28420000000000006,
          0.294,
          0.3038,
          0.31360000000000005,
          0.3234,
          0.33320000000000005,
          0.343,
          0.3528,
          0.36260000000000003,
          0.3724,
          0.38220000000000004,
          0.392,
          0.4018,
          0.4116,
          0.42140000000000005,
          0.4312,
          0.44100000000000006,
          0.45080000000000003,
          0.4606,
          0.47040000000000004,
          0.48020000000000007,
          0.49000000000000005,
          0.4998,
          0.5096,
          0.5194000000000001,
          0.5292,
          0.539,
          0.5488000000000001,
          0.5586,
          0.5684000000000001,
          0.5782,
          0.588,
          0.5978000000000001,
          0.6076,
          0.6174000000000001,
          0.6272000000000001,
          0.637,
          0.6468,
          0.6566000000000001,
          0.6664000000000001,
          0.6762,
          0.686,
          0.6958000000000001,
          0.7056,
          0.7154,
          0.7252000000000001,
          0.735,
          0.7448,
          0.7546,
          0.7644000000000001,
          0.7742,
          0.784,
          0.7938000000000001,
          0.8036,
          0.8134000000000001,
          0.8232,
          0.8330000000000001,
          0.8428000000000001,
          0.8526,
          0.8624,
          0.8722000000000001,
          0.8820000000000001,
          0.8918,
          0.9016000000000001,
          0.9114000000000001,
          0.9212,
          0.9310000000000002,
          0.9408000000000001,
          0.9506,
          0.9604000000000001,
          0.9702000000000001,
          0.9800000000000001,
          0.9898,
          0.9996,
          1.0094,
          1.0192,
          1.029,
          1.0388000000000002,
          1.0486000000000002,
          1.0584,
          1.0682,
          1.078,
          1.0878,
          1.0976000000000001,
          1.1074000000000002,
          1.1172,
          1.127,
          1.1368000000000003,
          1.1466,
          1.1564,
          1.1662000000000001,
          1.176,
          1.1858000000000002,
          1.1956000000000002,
          1.2054,
          1.2152,
          1.225,
          1.2348000000000001,
          1.2446000000000002,
          1.2544000000000002,
          1.2642,
          1.274,
          1.2838000000000003,
          1.2936,
          1.3034000000000001,
          1.3132000000000001,
          1.323,
          1.3328000000000002,
          1.3426000000000002,
          1.3524,
          1.3622,
          1.372,
          1.3818000000000001,
          1.3916000000000002,
          1.4014000000000002,
          1.4112,
          1.421,
          1.4308,
          1.4406,
          1.4504000000000001,
          1.4602,
          1.47,
          1.4798000000000002,
          1.4896,
          1.4994,
          1.5092,
          1.519,
          1.5288000000000002,
          1.5386000000000002,
          1.5484,
          1.5582,
          1.568,
          1.5778,
          1.5876000000000001,
          1.5974000000000002,
          1.6072,
          1.6170000000000002,
          1.6268000000000002,
          1.6366,
          1.6464,
          1.6562000000000001,
          1.6660000000000001,
          1.6758000000000002,
          1.6856000000000002,
          1.6954,
          1.7052,
          1.7150000000000003,
          1.7248,
          1.7346000000000001,
          1.7444000000000002,
          1.7542,
          1.7640000000000002,
          1.7738000000000003,
          1.7836,
          1.7934,
          1.8032000000000001,
          1.8130000000000002,
          1.8228000000000002,
          1.8326000000000002,
          1.8424,
          1.8522,
          1.8620000000000003,
          1.8718000000000001,
          1.8816000000000002,
          1.8914000000000002,
          1.9012,
          1.9110000000000003,
          1.9208000000000003,
          1.9306,
          1.9404000000000001,
          1.9502000000000002,
          1.9600000000000002,
          1.9698000000000002,
          1.9796,
          1.9894,
          1.9992,
          2.0090000000000003,
          2.0188,
          2.0286,
          2.0384,
          2.0482000000000005,
          2.058,
          2.0678,
          2.0776000000000003,
          2.0874,
          2.0972000000000004,
          2.107,
          2.1168,
          2.1266000000000003,
          2.1364,
          2.1462000000000003,
          2.156,
          2.1658000000000004,
          2.1756,
          2.1854,
          2.1952000000000003,
          2.205,
          2.2148000000000003,
          2.2246000000000006,
          2.2344,
          2.2442,
          2.254,
          2.2638000000000003,
          2.2736000000000005,
          2.2834,
          2.2932,
          2.303,
          2.3128,
          2.3226000000000004,
          2.3324000000000003,
          2.3422,
          2.352,
          2.3618,
          2.3716000000000004,
          2.3814,
          2.3912000000000004,
          2.401,
          2.4108,
          2.4206000000000003,
          2.4304,
          2.4402000000000004,
          2.45,
          2.4598,
          2.4696000000000002,
          2.4794,
          2.4892000000000003,
          2.499,
          2.5088000000000004,
          2.5186,
          2.5284,
          2.5382000000000002,
          2.548,
          2.5578000000000003,
          2.5676000000000005,
          2.5774,
          2.5872,
          2.597,
          2.6068000000000002,
          2.6166000000000005,
          2.6264000000000003,
          2.6362,
          2.646,
          2.6558,
          2.6656000000000004,
          2.6754000000000002,
          2.6852000000000005,
          2.695,
          2.7048,
          2.7146000000000003,
          2.7244,
          2.7342000000000004,
          2.744,
          2.7538,
          2.7636000000000003,
          2.7734,
          2.7832000000000003,
          2.793,
          2.8028000000000004,
          2.8126,
          2.8224,
          2.8322000000000003,
          2.842,
          2.8518000000000003,
          2.8616,
          2.8714,
          2.8812,
          2.891,
          2.9008000000000003,
          2.9106000000000005,
          2.9204,
          2.9302,
          2.94,
          2.9498,
          2.9596000000000005,
          2.9694000000000003,
          2.9792,
          2.989,
          2.9988,
          3.0086000000000004,
          3.0184,
          3.0282000000000004,
          3.038,
          3.0478,
          3.0576000000000003,
          3.0674,
          3.0772000000000004,
          3.087,
          3.0968,
          3.1066000000000003,
          3.1164,
          3.1262000000000003,
          3.136,
          3.1458000000000004,
          3.1556,
          3.1654,
          3.1752000000000002,
          3.1850000000000005,
          3.1948000000000003,
          3.2046000000000006,
          3.2144,
          3.2242,
          3.2340000000000004,
          3.2438000000000002,
          3.2536000000000005,
          3.2634000000000003,
          3.2732,
          3.2830000000000004,
          3.2928,
          3.3026000000000004,
          3.3124000000000002,
          3.3222000000000005,
          3.3320000000000003,
          3.3418,
          3.3516000000000004,
          3.3614,
          3.3712000000000004,
          3.3810000000000007,
          3.3908,
          3.4006000000000003,
          3.4104,
          3.4202000000000004,
          3.4300000000000006,
          3.4398,
          3.4496,
          3.4594,
          3.4692000000000003,
          3.4790000000000005,
          3.4888000000000003,
          3.4986,
          3.5084,
          3.5182,
          3.5280000000000005,
          3.5378000000000003,
          3.5476000000000005,
          3.5574,
          3.5672,
          3.5770000000000004,
          3.5868,
          3.5966000000000005,
          3.6064000000000003,
          3.6162,
          3.6260000000000003,
          3.6358,
          3.6456000000000004,
          3.6554,
          3.6652000000000005,
          3.6750000000000003,
          3.6848,
          3.6946000000000003,
          3.7044,
          3.7142000000000004,
          3.7240000000000006,
          3.7338,
          3.7436000000000003,
          3.7534,
          3.7632000000000003,
          3.7730000000000006,
          3.7828000000000004,
          3.7926,
          3.8024,
          3.8122000000000003,
          3.8220000000000005,
          3.8318000000000003,
          3.8416000000000006,
          3.8514,
          3.8612,
          3.8710000000000004,
          3.8808000000000002,
          3.8906000000000005,
          3.9004000000000003,
          3.9102,
          3.9200000000000004,
          3.9298,
          3.9396000000000004,
          3.9494000000000002,
          3.9592,
          3.9690000000000003,
          3.9788,
          3.9886000000000004,
          3.9984,
          4.0082,
          4.018000000000001,
          4.0278,
          4.0376,
          4.0474,
          4.0572,
          4.067,
          4.0768,
          4.086600000000001,
          4.096400000000001,
          4.1062,
          4.116,
          4.1258,
          4.1356,
          4.1454,
          4.155200000000001,
          4.165,
          4.1748,
          4.1846000000000005,
          4.194400000000001,
          4.204200000000001,
          4.214,
          4.2238,
          4.2336,
          4.2434,
          4.2532000000000005,
          4.263,
          4.2728,
          4.2826,
          4.292400000000001,
          4.302200000000001,
          4.312,
          4.3218000000000005,
          4.331600000000001,
          4.3414,
          4.3512,
          4.361,
          4.3708,
          4.3806,
          4.3904000000000005,
          4.400200000000001,
          4.41,
          4.4198,
          4.429600000000001,
          4.439400000000001,
          4.449200000000001,
          4.459,
          4.4688,
          4.4786,
          4.4884,
          4.498200000000001,
          4.508,
          4.5178,
          4.5276000000000005,
          4.537400000000001,
          4.547200000000001,
          4.557,
          4.5668,
          4.5766,
          4.5864,
          4.5962000000000005,
          4.606,
          4.6158,
          4.6256,
          4.635400000000001,
          4.645200000000001,
          4.655,
          4.6648000000000005,
          4.674600000000001,
          4.6844,
          4.6942,
          4.704,
          4.7138,
          4.7236,
          4.7334000000000005,
          4.743200000000001,
          4.753,
          4.7628,
          4.772600000000001,
          4.782400000000001,
          4.792200000000001,
          4.802,
          4.8118,
          4.8216,
          4.8314,
          4.841200000000001,
          4.851,
          4.8608,
          4.8706000000000005,
          4.880400000000001,
          4.890200000000001
         ],
         "xaxis": "x",
         "y": [
          0.022404351319555448,
          0.02238318486594746,
          0.022319805411290534,
          0.02221457154270123,
          0.02206807714902798,
          0.021881145838354918,
          0.02165482322564554,
          0.021390367191567682,
          0.021089236239463606,
          0.02075307610122501,
          0.020383704764120963,
          0.019983096109076337,
          0.019553362366235123,
          0.019096735605656483,
          0.018615548489534242,
          0.018112214517325222,
          0.017589207996606723,
          0.01704904397041445,
          0.016494258326358834,
          0.015927388304159882,
          0.01535095360661199,
          0.014767438304673967,
          0.014179273710699316,
          0.013588822375134852,
          0.012998363341704108,
          0.012410078774553896,
          0.011826042048483936,
          0.011248207370605206,
          0.010678400978978509,
          0.010118313941349719,
          0.009569496555376932,
          0.009033354331063363,
          0.008511145516758124,
          0.008003980112316284,
          0.007512820297029526,
          0.007038482185913348,
          0.006581638815986913,
          0.006142824254381723,
          0.005722438712497171,
          0.005320754544973573,
          0.004937923008927948,
          0.00457398165760887,
          0.004228862243258558,
          0.003902399006379362,
          0.003594337232622456,
          0.0033043419639660534,
          0.0030320067575334182,
          0.002776862393114173,
          0.002538385438990349,
          0.002316006594825956,
          0.0021091187399568992,
          0.0019170846252255236,
          0.0017392441563629881,
          0.0015749212266679905,
          0.0014234300662147987,
          0.0012840810839168245,
          0.0011561861873628572,
          0.0010390635733399922,
          0.0009320419892874373,
          0.0008344644725354107,
          0.0007456915800375142,
          0.0006651041263851368,
          0.000592105452195657,
          0.0005261232485039909,
          0.00046661096558332896,
          0.0004130488367101152,
          0.00036494454881401227,
          0.000321833592766215,
          0.00028327932631465704,
          0.0002488727824319309,
          0.00021823225516233636,
          0.00019100269400043688,
          0.0001668549364661462,
          0.0001454848069201803,
          0.0001266121078454779,
          0.00010997952785820722,
          9.535148865540905e-05,
          8.251295099982479e-05,
          7.126819772580248e-05,
          6.143960965823934e-05,
          5.286644829909098e-05,
          4.540365717798861e-05,
          3.8920691905111744e-05,
          3.330038722134886e-05,
          2.8437867724430062e-05,
          2.4239507467822026e-05,
          2.0621942285980086e-05,
          1.7511137496267175e-05,
          1.484151256308657e-05,
          1.2555123379915833e-05,
          1.0600902024553003e-05,
          8.933953165118152e-06,
          7.514905731228913e-06,
          6.309318007540355e-06,
          5.287133946269992e-06,
          4.4221882219414595e-06,
          3.691757355874439e-06,
          3.07615411058683e-06,
          2.5583622862369157e-06,
          2.123709033927565e-06,
          1.7595718260636034e-06,
          1.4551172845298761e-06,
          1.201069156409864e-06,
          9.89502838125467e-07,
          8.136639767400793e-07,
          6.67808816881241e-07,
          5.470641090901414e-07,
          4.473045467824315e-07,
          3.650458513625739e-07,
          2.9735177585182936e-07,
          2.4175344462330095e-07,
          1.9617958887332185e-07,
          1.5889637306578206e-07,
          1.2845563586928627e-07,
          1.0365048946183535e-07,
          8.347733314698435e-08,
          6.710344086051399e-08,
          5.383937737024386e-08,
          4.3115584944964865e-08,
          3.446256126162808e-08,
          2.7494120685618745e-08,
          2.1893295210055086e-08,
          1.7400488729888437e-08,
          1.3803549432576076e-08,
          1.092947039713645e-08,
          8.637468494531652e-09,
          6.813226852072735e-09,
          5.364116943879304e-09,
          4.215243237683974e-09,
          3.3061766795262608e-09,
          2.588263518527335e-09,
          2.0224134214128693e-09,
          1.5772858287490503e-09,
          1.227806360768532e-09,
          9.539560605430312e-10,
          7.397856091930919e-10,
          5.726145791055934e-10,
          4.4238249990446575e-10,
          3.4112416898393225e-10,
          2.6254639403594013e-10,
          2.0168734076189532e-10,
          1.5464298954037735e-10,
          1.1834797974775027e-10,
          9.040042569136566e-11,
          6.892219771502725e-11,
          5.244773939763482e-11,
          3.9835791037478004e-11,
          3.019945685252453e-11,
          2.285092755940759e-11,
          1.7257884174480306e-11,
          1.300919073631381e-11,
          9.78795642922915e-12,
          7.350430719974563e-12,
          5.509504785918126e-12,
          4.12184214647964e-12,
          3.077862126244378e-12,
          2.2939607481032947e-12,
          1.7064824185059706e-12,
          1.267058506445745e-12,
          9.390106858531164e-13,
          6.945818250911349e-13,
          5.128086126200038e-13,
          3.7789071480190205e-13,
          2.779432594978851e-13,
          2.0404459096785738e-13,
          1.4951096400084174e-13,
          1.0934527264229083e-13,
          7.98189474960759e-14,
          5.815552715394848e-14,
          4.2291687223976766e-14,
          3.069714894508218e-14,
          2.2239247399904158e-14,
          1.608129970190683e-14,
          1.160649852083391e-14,
          8.361040168383787e-15,
          6.011715424965769e-15,
          4.314351584445183e-15,
          3.0903784588168386e-15,
          2.209463427050302e-15,
          1.5766706428663075e-15,
          1.1229855300787754e-15,
          7.983371775600585e-16,
          5.664708457720195e-16,
          4.0118786395418033e-16,
          2.835939918572568e-16,
          2.0008995172609005e-16,
          1.4090699333263027e-16,
          9.904186998778777e-17,
          6.948389095064681e-17,
          4.865510828135583e-17,
          3.4005704118535194e-17,
          2.3722153675515045e-17,
          1.6517163707461437e-17,
          1.147878301836611e-17,
          7.962239468810112e-18,
          5.512563932003084e-18,
          3.809351603076233e-18,
          2.627407885859487e-18,
          1.8087683973327895e-18,
          1.2428463972411549e-18,
          8.523756064156155e-19,
          5.834769200167224e-19,
          3.9865351227423414e-19,
          2.7186108560976584e-19,
          1.8504557986848429e-19,
          1.257164633467815e-19,
          8.524932058446172e-20,
          5.77009808649876e-20,
          3.8984115132775215e-20,
          2.6293432050537732e-20,
          1.770762159139814e-20,
          1.191382617421813e-20,
          8.017384932342134e-21,
          5.410839658161798e-21,
          3.684097311920276e-21,
          2.563200910213354e-21,
          1.869070971415539e-21,
          1.4903446929010262e-21,
          1.3664190402214911e-21,
          1.4782580398603394e-21,
          1.845648780445607e-21,
          2.530538292166774e-21,
          3.646985885256043e-21,
          5.379248976549052e-21,
          8.010722778072054e-21,
          1.1968043011296112e-20,
          1.788685516413446e-20,
          2.6708852720678166e-20,
          3.982410726719249e-20,
          5.927904288640549e-20,
          8.807947667550946e-20,
          1.3063113263430914e-19,
          1.933786010170846e-19,
          2.857302088197221e-19,
          4.2139400114067864e-19,
          6.203036667324132e-19,
          9.113893145886621e-19,
          1.336555683575771e-18,
          1.9563824492054153e-18,
          2.858275639085601e-18,
          4.168100631722877e-18,
          6.066750294975021e-18,
          8.813694318178761e-18,
          1.278038377296451e-17,
          1.8497539517181902e-17,
          2.672195961142604e-17,
          3.853071158276686e-17,
          5.545366594060624e-17,
          7.965960009414385e-17,
          1.1421699619585548e-16,
          1.6345877033426987e-16,
          2.33491315519858e-16,
          3.3290351621650167e-16,
          4.737522829840903e-16,
          6.729296643551596e-16,
          9.54055412394616e-16,
          1.35009162224594e-15,
          1.90694757239197e-15,
          2.688439623384963e-15,
          3.7831015994267995e-15,
          5.313516927166262e-15,
          7.449080122725094e-15,
          1.0423412091599912e-14,
          1.455807765713031e-14,
          2.0294819687055078e-14,
          2.8239278028888827e-14,
          3.922016333201938e-14,
          5.4369184358832304e-14,
          7.522878513188935e-14,
          1.0389706868390313e-13,
          1.4322234050117013e-13,
          1.9706372128862666e-13,
          2.706395451754956e-13,
          3.7099214925986535e-13,
          5.076066533176438e-13,
          6.932330398222839e-13,
          9.44976060997253e-13,
          1.2857372252707326e-12,
          1.7461186275898892e-12,
          2.366931307912016e-12,
          3.2024932024992627e-12,
          4.3249561855046776e-12,
          5.8299714485851856e-12,
          7.844091635399364e-12,
          1.0534421874914038e-11,
          1.4121176564632362e-11,
          1.8893982446593107e-11,
          2.523300114508079e-11,
          3.363623823026007e-11,
          4.4754776286429535e-11,
          5.943813520011376e-11,
          7.879254706121521e-11,
          1.0425566403795655e-10,
          1.376921300054067e-10,
          1.8151558283984558e-10,
          2.3884406551897057e-10,
          3.1369757277969184e-10,
          4.11248621372472e-10,
          5.381393966541093e-10,
          7.028823054120001e-10,
          9.16364785029726e-10,
          1.192484138384736e-09,
          1.5489441679448596e-09,
          2.0082526918452164e-09,
          2.5989679000810127e-09,
          3.3572522579036575e-09,
          4.328805647557343e-09,
          5.57126508212437e-09,
          7.157177120870692e-09,
          9.177671639304356e-09,
          1.1746992526021666e-08,
          1.500807296260788e-08,
          1.9139381078832806e-08,
          2.4363306979493183e-08,
          3.0956415572117756e-08,
          3.926195260659345e-08,
          4.970506536405157e-08,
          6.281128618985609e-08,
          7.922892844854626e-08,
          9.975616260458299e-08,
          1.2537367735748503e-07,
          1.572839896913944e-07,
          1.9695865120905836e-07,
          2.4619480935424494e-07,
          3.0718282450928354e-07,
          3.8258692119230463e-07,
          4.756411676555864e-07,
          5.902634373547955e-07,
          7.311904125220691e-07,
          9.041371491629225e-07,
          1.1159852391252954e-06,
          1.3750041835208412e-06,
          1.691111237856005e-06,
          2.076175707907802e-06,
          2.544374471732179e-06,
          3.11260638211058e-06,
          3.8009741698138567e-06,
          4.633343525434564e-06,
          5.637990189753902e-06,
          6.848347132442591e-06,
          8.303865248145937e-06,
          1.005100244831067e-05,
          1.2144357575701334e-05,
          1.4647967214032179e-05,
          1.763678520323056e-05,
          2.119836649512168e-05,
          2.5434778886004e-05,
          3.0464768130204406e-05,
          3.642620395793387e-05,
          4.3478836574177146e-05,
          5.180739528210936e-05,
          6.16250629303986e-05,
          7.317736190071296e-05,
          8.674648929806203e-05,
          0.00010265614084679769,
          0.00012127686468962074,
          0.00014303198779285834,
          0.0001684041589316764,
          0.0001979425532137264,
          0.00023227078374573685,
          0.00027209556629877857,
          0.0003182161826262129,
          0.0003715347873737444,
          0.00043306760223261125,
          0.0005039570390636296,
          0.0005854847911002846,
          0.0006790859279645416,
          0.0007863640260411526,
          0.000909107360701412,
          0.0010493061808951032,
          0.0012091710796938715,
          0.0013911524664320196,
          0.0015979611371183709,
          0.0018325899297601583,
          0.0020983364401315936,
          0.002398826761326561,
          0.002738040197161217,
          0.0031203348851482618,
          0.0035504742493766414,
          0.0040336541872301145,
          0.004575530876513407,
          0.005182249071281011,
          0.005860470735553299,
          0.006617403844231513,
          0.0074608311599918915,
          0.008399138773837998,
          0.00944134417545215,
          0.010597123597630001,
          0.011876838357051467,
          0.013291559891592503,
          0.01485309317248595,
          0.016573998148074847,
          0.018467608854869845,
          0.020548049811345195,
          0.022830249290615976,
          0.025329949050077804,
          0.02806371007956975,
          0.031048913914888492,
          0.034303759050914595,
          0.03784725197852814,
          0.041699192362261085,
          0.045880151871699214,
          0.05041144617938901,
          0.05531509964190079,
          0.060613802189234164,
          0.06633085796139486,
          0.07249012525024685,
          0.0791159473301725,
          0.08623307379314064,
          0.09386657204303965,
          0.10204172865101649,
          0.11078394032854796,
          0.12011859433846776,
          0.13007093823643998,
          0.14066593891682433,
          0.1519281310274058,
          0.16388145491742598,
          0.17654908439228817,
          0.18995324466628058,
          0.20411502103093956,
          0.21905415889088678,
          0.23478885596001303,
          0.2513355475579475,
          0.26870868609840043,
          0.28692051601565083,
          0.3059808455316685,
          0.3258968168217997,
          0.34667267628974585,
          0.36830954681015105,
          0.3908052039370529,
          0.4141538582059297,
          0.4383459457735557,
          0.46336792974010726,
          0.4892021145795079,
          0.5158264761637514,
          0.5432145099020842,
          0.5713350995243204,
          0.600152409016118,
          0.6296258001615049,
          0.659709778061666,
          0.6903539668784554,
          0.7215031178947007,
          0.7530971517911262,
          0.7850712368117615,
          0.8173559042263739,
          0.8498772022018062,
          0.882556888865345,
          0.9153126649856802,
          0.94805844631336,
          0.9807046752172348,
          1.0131586708301294,
          1.0453250164815233,
          1.0771059827519147,
          1.1084019840396329,
          1.1391120660912883,
          1.1691344215188546,
          1.1983669299158075,
          1.2267077187978996,
          1.2540557412382918,
          1.280311365746659,
          1.305376973664801,
          1.3291575591212261,
          1.351561326409768,
          1.3725002795362624,
          1.3918907986158313,
          1.4096541978043176,
          1.425717259511967,
          1.4400127397765896,
          1.4524798398665244,
          1.4630646394395577,
          1.4717204869001896,
          1.4784083429707884,
          1.4830970739182652,
          1.4857636913515921,
          1.4863935360210143,
          1.4849804036005334,
          1.4815266110139687,
          1.4760430024640991,
          1.4685488949358718,
          1.4590719635604168,
          1.4476480678383234,
          1.4343210203199668,
          1.4191422999199221,
          1.402170712593702,
          1.3834720026213307,
          1.3631184182166294,
          1.3411882356081821,
          1.3177652461119287,
          1.2929382110326204,
          1.2668002894879367,
          1.2394484444430767,
          1.2109828323730054,
          1.1815061820344632,
          1.15112316783003,
          1.1199397831841462,
          1.0880627192277816,
          1.0555987539076064,
          1.0226541564013714,
          0.9893341114373834,
          0.9557421677886623
         ],
         "yaxis": "y"
        }
       ],
       "layout": {
        "autosize": true,
        "barmode": "overlay",
        "hovermode": "closest",
        "legend": {
         "traceorder": "reversed"
        },
        "template": {
         "data": {
          "bar": [
           {
            "error_x": {
             "color": "#2a3f5f"
            },
            "error_y": {
             "color": "#2a3f5f"
            },
            "marker": {
             "line": {
              "color": "white",
              "width": 0.5
             },
             "pattern": {
              "fillmode": "overlay",
              "size": 10,
              "solidity": 0.2
             }
            },
            "type": "bar"
           }
          ],
          "barpolar": [
           {
            "marker": {
             "line": {
              "color": "white",
              "width": 0.5
             },
             "pattern": {
              "fillmode": "overlay",
              "size": 10,
              "solidity": 0.2
             }
            },
            "type": "barpolar"
           }
          ],
          "carpet": [
           {
            "aaxis": {
             "endlinecolor": "#2a3f5f",
             "gridcolor": "#C8D4E3",
             "linecolor": "#C8D4E3",
             "minorgridcolor": "#C8D4E3",
             "startlinecolor": "#2a3f5f"
            },
            "baxis": {
             "endlinecolor": "#2a3f5f",
             "gridcolor": "#C8D4E3",
             "linecolor": "#C8D4E3",
             "minorgridcolor": "#C8D4E3",
             "startlinecolor": "#2a3f5f"
            },
            "type": "carpet"
           }
          ],
          "choropleth": [
           {
            "colorbar": {
             "outlinewidth": 0,
             "ticks": ""
            },
            "type": "choropleth"
           }
          ],
          "contour": [
           {
            "colorbar": {
             "outlinewidth": 0,
             "ticks": ""
            },
            "colorscale": [
             [
              0,
              "#0d0887"
             ],
             [
              0.1111111111111111,
              "#46039f"
             ],
             [
              0.2222222222222222,
              "#7201a8"
             ],
             [
              0.3333333333333333,
              "#9c179e"
             ],
             [
              0.4444444444444444,
              "#bd3786"
             ],
             [
              0.5555555555555556,
              "#d8576b"
             ],
             [
              0.6666666666666666,
              "#ed7953"
             ],
             [
              0.7777777777777778,
              "#fb9f3a"
             ],
             [
              0.8888888888888888,
              "#fdca26"
             ],
             [
              1,
              "#f0f921"
             ]
            ],
            "type": "contour"
           }
          ],
          "contourcarpet": [
           {
            "colorbar": {
             "outlinewidth": 0,
             "ticks": ""
            },
            "type": "contourcarpet"
           }
          ],
          "heatmap": [
           {
            "colorbar": {
             "outlinewidth": 0,
             "ticks": ""
            },
            "colorscale": [
             [
              0,
              "#0d0887"
             ],
             [
              0.1111111111111111,
              "#46039f"
             ],
             [
              0.2222222222222222,
              "#7201a8"
             ],
             [
              0.3333333333333333,
              "#9c179e"
             ],
             [
              0.4444444444444444,
              "#bd3786"
             ],
             [
              0.5555555555555556,
              "#d8576b"
             ],
             [
              0.6666666666666666,
              "#ed7953"
             ],
             [
              0.7777777777777778,
              "#fb9f3a"
             ],
             [
              0.8888888888888888,
              "#fdca26"
             ],
             [
              1,
              "#f0f921"
             ]
            ],
            "type": "heatmap"
           }
          ],
          "heatmapgl": [
           {
            "colorbar": {
             "outlinewidth": 0,
             "ticks": ""
            },
            "colorscale": [
             [
              0,
              "#0d0887"
             ],
             [
              0.1111111111111111,
              "#46039f"
             ],
             [
              0.2222222222222222,
              "#7201a8"
             ],
             [
              0.3333333333333333,
              "#9c179e"
             ],
             [
              0.4444444444444444,
              "#bd3786"
             ],
             [
              0.5555555555555556,
              "#d8576b"
             ],
             [
              0.6666666666666666,
              "#ed7953"
             ],
             [
              0.7777777777777778,
              "#fb9f3a"
             ],
             [
              0.8888888888888888,
              "#fdca26"
             ],
             [
              1,
              "#f0f921"
             ]
            ],
            "type": "heatmapgl"
           }
          ],
          "histogram": [
           {
            "marker": {
             "pattern": {
              "fillmode": "overlay",
              "size": 10,
              "solidity": 0.2
             }
            },
            "type": "histogram"
           }
          ],
          "histogram2d": [
           {
            "colorbar": {
             "outlinewidth": 0,
             "ticks": ""
            },
            "colorscale": [
             [
              0,
              "#0d0887"
             ],
             [
              0.1111111111111111,
              "#46039f"
             ],
             [
              0.2222222222222222,
              "#7201a8"
             ],
             [
              0.3333333333333333,
              "#9c179e"
             ],
             [
              0.4444444444444444,
              "#bd3786"
             ],
             [
              0.5555555555555556,
              "#d8576b"
             ],
             [
              0.6666666666666666,
              "#ed7953"
             ],
             [
              0.7777777777777778,
              "#fb9f3a"
             ],
             [
              0.8888888888888888,
              "#fdca26"
             ],
             [
              1,
              "#f0f921"
             ]
            ],
            "type": "histogram2d"
           }
          ],
          "histogram2dcontour": [
           {
            "colorbar": {
             "outlinewidth": 0,
             "ticks": ""
            },
            "colorscale": [
             [
              0,
              "#0d0887"
             ],
             [
              0.1111111111111111,
              "#46039f"
             ],
             [
              0.2222222222222222,
              "#7201a8"
             ],
             [
              0.3333333333333333,
              "#9c179e"
             ],
             [
              0.4444444444444444,
              "#bd3786"
             ],
             [
              0.5555555555555556,
              "#d8576b"
             ],
             [
              0.6666666666666666,
              "#ed7953"
             ],
             [
              0.7777777777777778,
              "#fb9f3a"
             ],
             [
              0.8888888888888888,
              "#fdca26"
             ],
             [
              1,
              "#f0f921"
             ]
            ],
            "type": "histogram2dcontour"
           }
          ],
          "mesh3d": [
           {
            "colorbar": {
             "outlinewidth": 0,
             "ticks": ""
            },
            "type": "mesh3d"
           }
          ],
          "parcoords": [
           {
            "line": {
             "colorbar": {
              "outlinewidth": 0,
              "ticks": ""
             }
            },
            "type": "parcoords"
           }
          ],
          "pie": [
           {
            "automargin": true,
            "type": "pie"
           }
          ],
          "scatter": [
           {
            "fillpattern": {
             "fillmode": "overlay",
             "size": 10,
             "solidity": 0.2
            },
            "type": "scatter"
           }
          ],
          "scatter3d": [
           {
            "line": {
             "colorbar": {
              "outlinewidth": 0,
              "ticks": ""
             }
            },
            "marker": {
             "colorbar": {
              "outlinewidth": 0,
              "ticks": ""
             }
            },
            "type": "scatter3d"
           }
          ],
          "scattercarpet": [
           {
            "marker": {
             "colorbar": {
              "outlinewidth": 0,
              "ticks": ""
             }
            },
            "type": "scattercarpet"
           }
          ],
          "scattergeo": [
           {
            "marker": {
             "colorbar": {
              "outlinewidth": 0,
              "ticks": ""
             }
            },
            "type": "scattergeo"
           }
          ],
          "scattergl": [
           {
            "marker": {
             "colorbar": {
              "outlinewidth": 0,
              "ticks": ""
             }
            },
            "type": "scattergl"
           }
          ],
          "scattermapbox": [
           {
            "marker": {
             "colorbar": {
              "outlinewidth": 0,
              "ticks": ""
             }
            },
            "type": "scattermapbox"
           }
          ],
          "scatterpolar": [
           {
            "marker": {
             "colorbar": {
              "outlinewidth": 0,
              "ticks": ""
             }
            },
            "type": "scatterpolar"
           }
          ],
          "scatterpolargl": [
           {
            "marker": {
             "colorbar": {
              "outlinewidth": 0,
              "ticks": ""
             }
            },
            "type": "scatterpolargl"
           }
          ],
          "scatterternary": [
           {
            "marker": {
             "colorbar": {
              "outlinewidth": 0,
              "ticks": ""
             }
            },
            "type": "scatterternary"
           }
          ],
          "surface": [
           {
            "colorbar": {
             "outlinewidth": 0,
             "ticks": ""
            },
            "colorscale": [
             [
              0,
              "#0d0887"
             ],
             [
              0.1111111111111111,
              "#46039f"
             ],
             [
              0.2222222222222222,
              "#7201a8"
             ],
             [
              0.3333333333333333,
              "#9c179e"
             ],
             [
              0.4444444444444444,
              "#bd3786"
             ],
             [
              0.5555555555555556,
              "#d8576b"
             ],
             [
              0.6666666666666666,
              "#ed7953"
             ],
             [
              0.7777777777777778,
              "#fb9f3a"
             ],
             [
              0.8888888888888888,
              "#fdca26"
             ],
             [
              1,
              "#f0f921"
             ]
            ],
            "type": "surface"
           }
          ],
          "table": [
           {
            "cells": {
             "fill": {
              "color": "#EBF0F8"
             },
             "line": {
              "color": "white"
             }
            },
            "header": {
             "fill": {
              "color": "#C8D4E3"
             },
             "line": {
              "color": "white"
             }
            },
            "type": "table"
           }
          ]
         },
         "layout": {
          "annotationdefaults": {
           "arrowcolor": "#2a3f5f",
           "arrowhead": 0,
           "arrowwidth": 1
          },
          "autotypenumbers": "strict",
          "coloraxis": {
           "colorbar": {
            "outlinewidth": 0,
            "ticks": ""
           }
          },
          "colorscale": {
           "diverging": [
            [
             0,
             "#8e0152"
            ],
            [
             0.1,
             "#c51b7d"
            ],
            [
             0.2,
             "#de77ae"
            ],
            [
             0.3,
             "#f1b6da"
            ],
            [
             0.4,
             "#fde0ef"
            ],
            [
             0.5,
             "#f7f7f7"
            ],
            [
             0.6,
             "#e6f5d0"
            ],
            [
             0.7,
             "#b8e186"
            ],
            [
             0.8,
             "#7fbc41"
            ],
            [
             0.9,
             "#4d9221"
            ],
            [
             1,
             "#276419"
            ]
           ],
           "sequential": [
            [
             0,
             "#0d0887"
            ],
            [
             0.1111111111111111,
             "#46039f"
            ],
            [
             0.2222222222222222,
             "#7201a8"
            ],
            [
             0.3333333333333333,
             "#9c179e"
            ],
            [
             0.4444444444444444,
             "#bd3786"
            ],
            [
             0.5555555555555556,
             "#d8576b"
            ],
            [
             0.6666666666666666,
             "#ed7953"
            ],
            [
             0.7777777777777778,
             "#fb9f3a"
            ],
            [
             0.8888888888888888,
             "#fdca26"
            ],
            [
             1,
             "#f0f921"
            ]
           ],
           "sequentialminus": [
            [
             0,
             "#0d0887"
            ],
            [
             0.1111111111111111,
             "#46039f"
            ],
            [
             0.2222222222222222,
             "#7201a8"
            ],
            [
             0.3333333333333333,
             "#9c179e"
            ],
            [
             0.4444444444444444,
             "#bd3786"
            ],
            [
             0.5555555555555556,
             "#d8576b"
            ],
            [
             0.6666666666666666,
             "#ed7953"
            ],
            [
             0.7777777777777778,
             "#fb9f3a"
            ],
            [
             0.8888888888888888,
             "#fdca26"
            ],
            [
             1,
             "#f0f921"
            ]
           ]
          },
          "colorway": [
           "#636efa",
           "#EF553B",
           "#00cc96",
           "#ab63fa",
           "#FFA15A",
           "#19d3f3",
           "#FF6692",
           "#B6E880",
           "#FF97FF",
           "#FECB52"
          ],
          "font": {
           "color": "#2a3f5f"
          },
          "geo": {
           "bgcolor": "white",
           "lakecolor": "white",
           "landcolor": "white",
           "showlakes": true,
           "showland": true,
           "subunitcolor": "#C8D4E3"
          },
          "hoverlabel": {
           "align": "left"
          },
          "hovermode": "closest",
          "mapbox": {
           "style": "light"
          },
          "paper_bgcolor": "white",
          "plot_bgcolor": "white",
          "polar": {
           "angularaxis": {
            "gridcolor": "#EBF0F8",
            "linecolor": "#EBF0F8",
            "ticks": ""
           },
           "bgcolor": "white",
           "radialaxis": {
            "gridcolor": "#EBF0F8",
            "linecolor": "#EBF0F8",
            "ticks": ""
           }
          },
          "scene": {
           "xaxis": {
            "backgroundcolor": "white",
            "gridcolor": "#DFE8F3",
            "gridwidth": 2,
            "linecolor": "#EBF0F8",
            "showbackground": true,
            "ticks": "",
            "zerolinecolor": "#EBF0F8"
           },
           "yaxis": {
            "backgroundcolor": "white",
            "gridcolor": "#DFE8F3",
            "gridwidth": 2,
            "linecolor": "#EBF0F8",
            "showbackground": true,
            "ticks": "",
            "zerolinecolor": "#EBF0F8"
           },
           "zaxis": {
            "backgroundcolor": "white",
            "gridcolor": "#DFE8F3",
            "gridwidth": 2,
            "linecolor": "#EBF0F8",
            "showbackground": true,
            "ticks": "",
            "zerolinecolor": "#EBF0F8"
           }
          },
          "shapedefaults": {
           "line": {
            "color": "#2a3f5f"
           }
          },
          "ternary": {
           "aaxis": {
            "gridcolor": "#DFE8F3",
            "linecolor": "#A2B1C6",
            "ticks": ""
           },
           "baxis": {
            "gridcolor": "#DFE8F3",
            "linecolor": "#A2B1C6",
            "ticks": ""
           },
           "bgcolor": "white",
           "caxis": {
            "gridcolor": "#DFE8F3",
            "linecolor": "#A2B1C6",
            "ticks": ""
           }
          },
          "title": {
           "x": 0.05
          },
          "xaxis": {
           "automargin": true,
           "gridcolor": "#EBF0F8",
           "linecolor": "#EBF0F8",
           "ticks": "",
           "title": {
            "standoff": 15
           },
           "zerolinecolor": "#EBF0F8",
           "zerolinewidth": 2
          },
          "yaxis": {
           "automargin": true,
           "gridcolor": "#EBF0F8",
           "linecolor": "#EBF0F8",
           "ticks": "",
           "title": {
            "standoff": 15
           },
           "zerolinecolor": "#EBF0F8",
           "zerolinewidth": 2
          }
         }
        },
        "title": {
         "text": "Primary Data (Amazon) Rating Distribution"
        },
        "xaxis": {
         "anchor": "y2",
         "autorange": true,
         "domain": [
          0,
          1
         ],
         "range": [
          0,
          5
         ],
         "title": {
          "text": "Rating"
         },
         "type": "linear",
         "zeroline": false
        },
        "yaxis": {
         "anchor": "free",
         "autorange": true,
         "domain": [
          0,
          1
         ],
         "position": 0,
         "range": [
          -0.15471167369901534,
          2.939521800281292
         ],
         "title": {
          "text": "Density"
         },
         "type": "linear"
        }
       }
      },
      "image/png": "[encoded data removed]",
      "text/html": [
       "<div>                            <div id=\"6f97991d-ee49-42b9-b3dd-fabdc4b296fe\" class=\"plotly-graph-div\" style=\"height:525px; width:100%;\"></div>            <script type=\"text/javascript\">                require([\"plotly\"], function(Plotly) {                    window.PLOTLYENV=window.PLOTLYENV || {};                                    if (document.getElementById(\"6f97991d-ee49-42b9-b3dd-fabdc4b296fe\")) {                    Plotly.newPlot(                        \"6f97991d-ee49-42b9-b3dd-fabdc4b296fe\",                        [{\"autobinx\":false,\"histnorm\":\"probability density\",\"legendgroup\":\"Primary Data (Amazon)\",\"marker\":{\"color\":\"#27308a\"},\"name\":\"Primary Data (Amazon)\",\"opacity\":0.7,\"x\":[4.3,4.5,4.7,4.7,4.6,4.6,4.5,0.0,4.5,4.7,4.6,4.7,4.7,4.8,4.6,4.7,4.7,4.8,4.7,4.6,4.7,4.6,4.4,4.7,4.6,4.6,4.5,4.6,4.8,4.9,4.6,4.7,4.7,4.9,4.8,4.7,4.8,4.5,4.6,4.5,4.4,4.5,4.6,4.9,4.8,4.9,4.7,4.5,4.5,4.6,4.6,4.7,4.3,4.6,4.7,4.9,4.8,4.5,4.8,4.7,4.5,4.7,4.6,4.6,4.7,4.6,4.7,4.6,4.7,4.4,4.8,4.7,4.5,4.3,4.6,4.8,4.7,4.4,4.6],\"xaxis\":\"x\",\"xbins\":{\"end\":4.9,\"size\":0.2,\"start\":0.0},\"yaxis\":\"y\",\"type\":\"histogram\"},{\"legendgroup\":\"Primary Data (Amazon)\",\"marker\":{\"color\":\"#27308a\"},\"mode\":\"lines\",\"name\":\"Primary Data (Amazon)\",\"showlegend\":false,\"x\":[0.0,0.009800000000000001,0.019600000000000003,0.029400000000000003,0.039200000000000006,0.049,0.058800000000000005,0.06860000000000001,0.07840000000000001,0.0882,0.098,0.1078,0.11760000000000001,0.1274,0.13720000000000002,0.147,0.15680000000000002,0.16660000000000003,0.1764,0.1862,0.196,0.2058,0.2156,0.22540000000000002,0.23520000000000002,0.24500000000000002,0.2548,0.2646,0.27440000000000003,0.28420000000000006,0.294,0.3038,0.31360000000000005,0.3234,0.33320000000000005,0.343,0.3528,0.36260000000000003,0.3724,0.38220000000000004,0.392,0.4018,0.4116,0.42140000000000005,0.4312,0.44100000000000006,0.45080000000000003,0.4606,0.47040000000000004,0.48020000000000007,0.49000000000000005,0.4998,0.5096,0.5194000000000001,0.5292,0.539,0.5488000000000001,0.5586,0.5684000000000001,0.5782,0.588,0.5978000000000001,0.6076,0.6174000000000001,0.6272000000000001,0.637,0.6468,0.6566000000000001,0.6664000000000001,0.6762,0.686,0.6958000000000001,0.7056,0.7154,0.7252000000000001,0.735,0.7448,0.7546,0.7644000000000001,0.7742,0.784,0.7938000000000001,0.8036,0.8134000000000001,0.8232,0.8330000000000001,0.8428000000000001,0.8526,0.8624,0.8722000000000001,0.8820000000000001,0.8918,0.9016000000000001,0.9114000000000001,0.9212,0.9310000000000002,0.9408000000000001,0.9506,0.9604000000000001,0.9702000000000001,0.9800000000000001,0.9898,0.9996,1.0094,1.0192,1.029,1.0388000000000002,1.0486000000000002,1.0584,1.0682,1.078,1.0878,1.0976000000000001,1.1074000000000002,1.1172,1.127,1.1368000000000003,1.1466,1.1564,1.1662000000000001,1.176,1.1858000000000002,1.1956000000000002,1.2054,1.2152,1.225,1.2348000000000001,1.2446000000000002,1.2544000000000002,1.2642,1.274,1.2838000000000003,1.2936,1.3034000000000001,1.3132000000000001,1.323,1.3328000000000002,1.3426000000000002,1.3524,1.3622,1.372,1.3818000000000001,1.3916000000000002,1.4014000000000002,1.4112,1.421,1.4308,1.4406,1.4504000000000001,1.4602,1.47,1.4798000000000002,1.4896,1.4994,1.5092,1.519,1.5288000000000002,1.5386000000000002,1.5484,1.5582,1.568,1.5778,1.5876000000000001,1.5974000000000002,1.6072,1.6170000000000002,1.6268000000000002,1.6366,1.6464,1.6562000000000001,1.6660000000000001,1.6758000000000002,1.6856000000000002,1.6954,1.7052,1.7150000000000003,1.7248,1.7346000000000001,1.7444000000000002,1.7542,1.7640000000000002,1.7738000000000003,1.7836,1.7934,1.8032000000000001,1.8130000000000002,1.8228000000000002,1.8326000000000002,1.8424,1.8522,1.8620000000000003,1.8718000000000001,1.8816000000000002,1.8914000000000002,1.9012,1.9110000000000003,1.9208000000000003,1.9306,1.9404000000000001,1.9502000000000002,1.9600000000000002,1.9698000000000002,1.9796,1.9894,1.9992,2.0090000000000003,2.0188,2.0286,2.0384,2.0482000000000005,2.058,2.0678,2.0776000000000003,2.0874,2.0972000000000004,2.107,2.1168,2.1266000000000003,2.1364,2.1462000000000003,2.156,2.1658000000000004,2.1756,2.1854,2.1952000000000003,2.205,2.2148000000000003,2.2246000000000006,2.2344,2.2442,2.254,2.2638000000000003,2.2736000000000005,2.2834,2.2932,2.303,2.3128,2.3226000000000004,2.3324000000000003,2.3422,2.352,2.3618,2.3716000000000004,2.3814,2.3912000000000004,2.401,2.4108,2.4206000000000003,2.4304,2.4402000000000004,2.45,2.4598,2.4696000000000002,2.4794,2.4892000000000003,2.499,2.5088000000000004,2.5186,2.5284,2.5382000000000002,2.548,2.5578000000000003,2.5676000000000005,2.5774,2.5872,2.597,2.6068000000000002,2.6166000000000005,2.6264000000000003,2.6362,2.646,2.6558,2.6656000000000004,2.6754000000000002,2.6852000000000005,2.695,2.7048,2.7146000000000003,2.7244,2.7342000000000004,2.744,2.7538,2.7636000000000003,2.7734,2.7832000000000003,2.793,2.8028000000000004,2.8126,2.8224,2.8322000000000003,2.842,2.8518000000000003,2.8616,2.8714,2.8812,2.891,2.9008000000000003,2.9106000000000005,2.9204,2.9302,2.94,2.9498,2.9596000000000005,2.9694000000000003,2.9792,2.989,2.9988,3.0086000000000004,3.0184,3.0282000000000004,3.038,3.0478,3.0576000000000003,3.0674,3.0772000000000004,3.087,3.0968,3.1066000000000003,3.1164,3.1262000000000003,3.136,3.1458000000000004,3.1556,3.1654,3.1752000000000002,3.1850000000000005,3.1948000000000003,3.2046000000000006,3.2144,3.2242,3.2340000000000004,3.2438000000000002,3.2536000000000005,3.2634000000000003,3.2732,3.2830000000000004,3.2928,3.3026000000000004,3.3124000000000002,3.3222000000000005,3.3320000000000003,3.3418,3.3516000000000004,3.3614,3.3712000000000004,3.3810000000000007,3.3908,3.4006000000000003,3.4104,3.4202000000000004,3.4300000000000006,3.4398,3.4496,3.4594,3.4692000000000003,3.4790000000000005,3.4888000000000003,3.4986,3.5084,3.5182,3.5280000000000005,3.5378000000000003,3.5476000000000005,3.5574,3.5672,3.5770000000000004,3.5868,3.5966000000000005,3.6064000000000003,3.6162,3.6260000000000003,3.6358,3.6456000000000004,3.6554,3.6652000000000005,3.6750000000000003,3.6848,3.6946000000000003,3.7044,3.7142000000000004,3.7240000000000006,3.7338,3.7436000000000003,3.7534,3.7632000000000003,3.7730000000000006,3.7828000000000004,3.7926,3.8024,3.8122000000000003,3.8220000000000005,3.8318000000000003,3.8416000000000006,3.8514,3.8612,3.8710000000000004,3.8808000000000002,3.8906000000000005,3.9004000000000003,3.9102,3.9200000000000004,3.9298,3.9396000000000004,3.9494000000000002,3.9592,3.9690000000000003,3.9788,3.9886000000000004,3.9984,4.0082,4.018000000000001,4.0278,4.0376,4.0474,4.0572,4.067,4.0768,4.086600000000001,4.096400000000001,4.1062,4.116,4.1258,4.1356,4.1454,4.155200000000001,4.165,4.1748,4.1846000000000005,4.194400000000001,4.204200000000001,4.214,4.2238,4.2336,4.2434,4.2532000000000005,4.263,4.2728,4.2826,4.292400000000001,4.302200000000001,4.312,4.3218000000000005,4.331600000000001,4.3414,4.3512,4.361,4.3708,4.3806,4.3904000000000005,4.400200000000001,4.41,4.4198,4.429600000000001,4.439400000000001,4.449200000000001,4.459,4.4688,4.4786,4.4884,4.498200000000001,4.508,4.5178,4.5276000000000005,4.537400000000001,4.547200000000001,4.557,4.5668,4.5766,4.5864,4.5962000000000005,4.606,4.6158,4.6256,4.635400000000001,4.645200000000001,4.655,4.6648000000000005,4.674600000000001,4.6844,4.6942,4.704,4.7138,4.7236,4.7334000000000005,4.743200000000001,4.753,4.7628,4.772600000000001,4.782400000000001,4.792200000000001,4.802,4.8118,4.8216,4.8314,4.841200000000001,4.851,4.8608,4.8706000000000005,4.880400000000001,4.890200000000001],\"xaxis\":\"x\",\"y\":[0.022404351319555448,0.02238318486594746,0.022319805411290534,0.02221457154270123,0.02206807714902798,0.021881145838354918,0.02165482322564554,0.021390367191567682,0.021089236239463606,0.02075307610122501,0.020383704764120963,0.019983096109076337,0.019553362366235123,0.019096735605656483,0.018615548489534242,0.018112214517325222,0.017589207996606723,0.01704904397041445,0.016494258326358834,0.015927388304159882,0.01535095360661199,0.014767438304673967,0.014179273710699316,0.013588822375134852,0.012998363341704108,0.012410078774553896,0.011826042048483936,0.011248207370605206,0.010678400978978509,0.010118313941349719,0.009569496555376932,0.009033354331063363,0.008511145516758124,0.008003980112316284,0.007512820297029526,0.007038482185913348,0.006581638815986913,0.006142824254381723,0.005722438712497171,0.005320754544973573,0.004937923008927948,0.00457398165760887,0.004228862243258558,0.003902399006379362,0.003594337232622456,0.0033043419639660534,0.0030320067575334182,0.002776862393114173,0.002538385438990349,0.002316006594825956,0.0021091187399568992,0.0019170846252255236,0.0017392441563629881,0.0015749212266679905,0.0014234300662147987,0.0012840810839168245,0.0011561861873628572,0.0010390635733399922,0.0009320419892874373,0.0008344644725354107,0.0007456915800375142,0.0006651041263851368,0.000592105452195657,0.0005261232485039909,0.00046661096558332896,0.0004130488367101152,0.00036494454881401227,0.000321833592766215,0.00028327932631465704,0.0002488727824319309,0.00021823225516233636,0.00019100269400043688,0.0001668549364661462,0.0001454848069201803,0.0001266121078454779,0.00010997952785820722,9.535148865540905e-05,8.251295099982479e-05,7.126819772580248e-05,6.143960965823934e-05,5.286644829909098e-05,4.540365717798861e-05,3.8920691905111744e-05,3.330038722134886e-05,2.8437867724430062e-05,2.4239507467822026e-05,2.0621942285980086e-05,1.7511137496267175e-05,1.484151256308657e-05,1.2555123379915833e-05,1.0600902024553003e-05,8.933953165118152e-06,7.514905731228913e-06,6.309318007540355e-06,5.287133946269992e-06,4.4221882219414595e-06,3.691757355874439e-06,3.07615411058683e-06,2.5583622862369157e-06,2.123709033927565e-06,1.7595718260636034e-06,1.4551172845298761e-06,1.201069156409864e-06,9.89502838125467e-07,8.136639767400793e-07,6.67808816881241e-07,5.470641090901414e-07,4.473045467824315e-07,3.650458513625739e-07,2.9735177585182936e-07,2.4175344462330095e-07,1.9617958887332185e-07,1.5889637306578206e-07,1.2845563586928627e-07,1.0365048946183535e-07,8.347733314698435e-08,6.710344086051399e-08,5.383937737024386e-08,4.3115584944964865e-08,3.446256126162808e-08,2.7494120685618745e-08,2.1893295210055086e-08,1.7400488729888437e-08,1.3803549432576076e-08,1.092947039713645e-08,8.637468494531652e-09,6.813226852072735e-09,5.364116943879304e-09,4.215243237683974e-09,3.3061766795262608e-09,2.588263518527335e-09,2.0224134214128693e-09,1.5772858287490503e-09,1.227806360768532e-09,9.539560605430312e-10,7.397856091930919e-10,5.726145791055934e-10,4.4238249990446575e-10,3.4112416898393225e-10,2.6254639403594013e-10,2.0168734076189532e-10,1.5464298954037735e-10,1.1834797974775027e-10,9.040042569136566e-11,6.892219771502725e-11,5.244773939763482e-11,3.9835791037478004e-11,3.019945685252453e-11,2.285092755940759e-11,1.7257884174480306e-11,1.300919073631381e-11,9.78795642922915e-12,7.350430719974563e-12,5.509504785918126e-12,4.12184214647964e-12,3.077862126244378e-12,2.2939607481032947e-12,1.7064824185059706e-12,1.267058506445745e-12,9.390106858531164e-13,6.945818250911349e-13,5.128086126200038e-13,3.7789071480190205e-13,2.779432594978851e-13,2.0404459096785738e-13,1.4951096400084174e-13,1.0934527264229083e-13,7.98189474960759e-14,5.815552715394848e-14,4.2291687223976766e-14,3.069714894508218e-14,2.2239247399904158e-14,1.608129970190683e-14,1.160649852083391e-14,8.361040168383787e-15,6.011715424965769e-15,4.314351584445183e-15,3.0903784588168386e-15,2.209463427050302e-15,1.5766706428663075e-15,1.1229855300787754e-15,7.983371775600585e-16,5.664708457720195e-16,4.0118786395418033e-16,2.835939918572568e-16,2.0008995172609005e-16,1.4090699333263027e-16,9.904186998778777e-17,6.948389095064681e-17,4.865510828135583e-17,3.4005704118535194e-17,2.3722153675515045e-17,1.6517163707461437e-17,1.147878301836611e-17,7.962239468810112e-18,5.512563932003084e-18,3.809351603076233e-18,2.627407885859487e-18,1.8087683973327895e-18,1.2428463972411549e-18,8.523756064156155e-19,5.834769200167224e-19,3.9865351227423414e-19,2.7186108560976584e-19,1.8504557986848429e-19,1.257164633467815e-19,8.524932058446172e-20,5.77009808649876e-20,3.8984115132775215e-20,2.6293432050537732e-20,1.770762159139814e-20,1.191382617421813e-20,8.017384932342134e-21,5.410839658161798e-21,3.684097311920276e-21,2.563200910213354e-21,1.869070971415539e-21,1.4903446929010262e-21,1.3664190402214911e-21,1.4782580398603394e-21,1.845648780445607e-21,2.530538292166774e-21,3.646985885256043e-21,5.379248976549052e-21,8.010722778072054e-21,1.1968043011296112e-20,1.788685516413446e-20,2.6708852720678166e-20,3.982410726719249e-20,5.927904288640549e-20,8.807947667550946e-20,1.3063113263430914e-19,1.933786010170846e-19,2.857302088197221e-19,4.2139400114067864e-19,6.203036667324132e-19,9.113893145886621e-19,1.336555683575771e-18,1.9563824492054153e-18,2.858275639085601e-18,4.168100631722877e-18,6.066750294975021e-18,8.813694318178761e-18,1.278038377296451e-17,1.8497539517181902e-17,2.672195961142604e-17,3.853071158276686e-17,5.545366594060624e-17,7.965960009414385e-17,1.1421699619585548e-16,1.6345877033426987e-16,2.33491315519858e-16,3.3290351621650167e-16,4.737522829840903e-16,6.729296643551596e-16,9.54055412394616e-16,1.35009162224594e-15,1.90694757239197e-15,2.688439623384963e-15,3.7831015994267995e-15,5.313516927166262e-15,7.449080122725094e-15,1.0423412091599912e-14,1.455807765713031e-14,2.0294819687055078e-14,2.8239278028888827e-14,3.922016333201938e-14,5.4369184358832304e-14,7.522878513188935e-14,1.0389706868390313e-13,1.4322234050117013e-13,1.9706372128862666e-13,2.706395451754956e-13,3.7099214925986535e-13,5.076066533176438e-13,6.932330398222839e-13,9.44976060997253e-13,1.2857372252707326e-12,1.7461186275898892e-12,2.366931307912016e-12,3.2024932024992627e-12,4.3249561855046776e-12,5.8299714485851856e-12,7.844091635399364e-12,1.0534421874914038e-11,1.4121176564632362e-11,1.8893982446593107e-11,2.523300114508079e-11,3.363623823026007e-11,4.4754776286429535e-11,5.943813520011376e-11,7.879254706121521e-11,1.0425566403795655e-10,1.376921300054067e-10,1.8151558283984558e-10,2.3884406551897057e-10,3.1369757277969184e-10,4.11248621372472e-10,5.381393966541093e-10,7.028823054120001e-10,9.16364785029726e-10,1.192484138384736e-09,1.5489441679448596e-09,2.0082526918452164e-09,2.5989679000810127e-09,3.3572522579036575e-09,4.328805647557343e-09,5.57126508212437e-09,7.157177120870692e-09,9.177671639304356e-09,1.1746992526021666e-08,1.500807296260788e-08,1.9139381078832806e-08,2.4363306979493183e-08,3.0956415572117756e-08,3.926195260659345e-08,4.970506536405157e-08,6.281128618985609e-08,7.922892844854626e-08,9.975616260458299e-08,1.2537367735748503e-07,1.572839896913944e-07,1.9695865120905836e-07,2.4619480935424494e-07,3.0718282450928354e-07,3.8258692119230463e-07,4.756411676555864e-07,5.902634373547955e-07,7.311904125220691e-07,9.041371491629225e-07,1.1159852391252954e-06,1.3750041835208412e-06,1.691111237856005e-06,2.076175707907802e-06,2.544374471732179e-06,3.11260638211058e-06,3.8009741698138567e-06,4.633343525434564e-06,5.637990189753902e-06,6.848347132442591e-06,8.303865248145937e-06,1.005100244831067e-05,1.2144357575701334e-05,1.4647967214032179e-05,1.763678520323056e-05,2.119836649512168e-05,2.5434778886004e-05,3.0464768130204406e-05,3.642620395793387e-05,4.3478836574177146e-05,5.180739528210936e-05,6.16250629303986e-05,7.317736190071296e-05,8.674648929806203e-05,0.00010265614084679769,0.00012127686468962074,0.00014303198779285834,0.0001684041589316764,0.0001979425532137264,0.00023227078374573685,0.00027209556629877857,0.0003182161826262129,0.0003715347873737444,0.00043306760223261125,0.0005039570390636296,0.0005854847911002846,0.0006790859279645416,0.0007863640260411526,0.000909107360701412,0.0010493061808951032,0.0012091710796938715,0.0013911524664320196,0.0015979611371183709,0.0018325899297601583,0.0020983364401315936,0.002398826761326561,0.002738040197161217,0.0031203348851482618,0.0035504742493766414,0.0040336541872301145,0.004575530876513407,0.005182249071281011,0.005860470735553299,0.006617403844231513,0.0074608311599918915,0.008399138773837998,0.00944134417545215,0.010597123597630001,0.011876838357051467,0.013291559891592503,0.01485309317248595,0.016573998148074847,0.018467608854869845,0.020548049811345195,0.022830249290615976,0.025329949050077804,0.02806371007956975,0.031048913914888492,0.034303759050914595,0.03784725197852814,0.041699192362261085,0.045880151871699214,0.05041144617938901,0.05531509964190079,0.060613802189234164,0.06633085796139486,0.07249012525024685,0.0791159473301725,0.08623307379314064,0.09386657204303965,0.10204172865101649,0.11078394032854796,0.12011859433846776,0.13007093823643998,0.14066593891682433,0.1519281310274058,0.16388145491742598,0.17654908439228817,0.18995324466628058,0.20411502103093956,0.21905415889088678,0.23478885596001303,0.2513355475579475,0.26870868609840043,0.28692051601565083,0.3059808455316685,0.3258968168217997,0.34667267628974585,0.36830954681015105,0.3908052039370529,0.4141538582059297,0.4383459457735557,0.46336792974010726,0.4892021145795079,0.5158264761637514,0.5432145099020842,0.5713350995243204,0.600152409016118,0.6296258001615049,0.659709778061666,0.6903539668784554,0.7215031178947007,0.7530971517911262,0.7850712368117615,0.8173559042263739,0.8498772022018062,0.882556888865345,0.9153126649856802,0.94805844631336,0.9807046752172348,1.0131586708301294,1.0453250164815233,1.0771059827519147,1.1084019840396329,1.1391120660912883,1.1691344215188546,1.1983669299158075,1.2267077187978996,1.2540557412382918,1.280311365746659,1.305376973664801,1.3291575591212261,1.351561326409768,1.3725002795362624,1.3918907986158313,1.4096541978043176,1.425717259511967,1.4400127397765896,1.4524798398665244,1.4630646394395577,1.4717204869001896,1.4784083429707884,1.4830970739182652,1.4857636913515921,1.4863935360210143,1.4849804036005334,1.4815266110139687,1.4760430024640991,1.4685488949358718,1.4590719635604168,1.4476480678383234,1.4343210203199668,1.4191422999199221,1.402170712593702,1.3834720026213307,1.3631184182166294,1.3411882356081821,1.3177652461119287,1.2929382110326204,1.2668002894879367,1.2394484444430767,1.2109828323730054,1.1815061820344632,1.15112316783003,1.1199397831841462,1.0880627192277816,1.0555987539076064,1.0226541564013714,0.9893341114373834,0.9557421677886623],\"yaxis\":\"y\",\"type\":\"scatter\"}],                        {\"barmode\":\"overlay\",\"hovermode\":\"closest\",\"legend\":{\"traceorder\":\"reversed\"},\"xaxis\":{\"anchor\":\"y2\",\"domain\":[0.0,1.0],\"zeroline\":false,\"title\":{\"text\":\"Rating\"}},\"yaxis\":{\"anchor\":\"free\",\"domain\":[0.0,1],\"position\":0.0,\"title\":{\"text\":\"Density\"}},\"template\":{\"data\":{\"barpolar\":[{\"marker\":{\"line\":{\"color\":\"white\",\"width\":0.5},\"pattern\":{\"fillmode\":\"overlay\",\"size\":10,\"solidity\":0.2}},\"type\":\"barpolar\"}],\"bar\":[{\"error_x\":{\"color\":\"#2a3f5f\"},\"error_y\":{\"color\":\"#2a3f5f\"},\"marker\":{\"line\":{\"color\":\"white\",\"width\":0.5},\"pattern\":{\"fillmode\":\"overlay\",\"size\":10,\"solidity\":0.2}},\"type\":\"bar\"}],\"carpet\":[{\"aaxis\":{\"endlinecolor\":\"#2a3f5f\",\"gridcolor\":\"#C8D4E3\",\"linecolor\":\"#C8D4E3\",\"minorgridcolor\":\"#C8D4E3\",\"startlinecolor\":\"#2a3f5f\"},\"baxis\":{\"endlinecolor\":\"#2a3f5f\",\"gridcolor\":\"#C8D4E3\",\"linecolor\":\"#C8D4E3\",\"minorgridcolor\":\"#C8D4E3\",\"startlinecolor\":\"#2a3f5f\"},\"type\":\"carpet\"}],\"choropleth\":[{\"colorbar\":{\"outlinewidth\":0,\"ticks\":\"\"},\"type\":\"choropleth\"}],\"contourcarpet\":[{\"colorbar\":{\"outlinewidth\":0,\"ticks\":\"\"},\"type\":\"contourcarpet\"}],\"contour\":[{\"colorbar\":{\"outlinewidth\":0,\"ticks\":\"\"},\"colorscale\":[[0.0,\"#0d0887\"],[0.1111111111111111,\"#46039f\"],[0.2222222222222222,\"#7201a8\"],[0.3333333333333333,\"#9c179e\"],[0.4444444444444444,\"#bd3786\"],[0.5555555555555556,\"#d8576b\"],[0.6666666666666666,\"#ed7953\"],[0.7777777777777778,\"#fb9f3a\"],[0.8888888888888888,\"#fdca26\"],[1.0,\"#f0f921\"]],\"type\":\"contour\"}],\"heatmapgl\":[{\"colorbar\":{\"outlinewidth\":0,\"ticks\":\"\"},\"colorscale\":[[0.0,\"#0d0887\"],[0.1111111111111111,\"#46039f\"],[0.2222222222222222,\"#7201a8\"],[0.3333333333333333,\"#9c179e\"],[0.4444444444444444,\"#bd3786\"],[0.5555555555555556,\"#d8576b\"],[0.6666666666666666,\"#ed7953\"],[0.7777777777777778,\"#fb9f3a\"],[0.8888888888888888,\"#fdca26\"],[1.0,\"#f0f921\"]],\"type\":\"heatmapgl\"}],\"heatmap\":[{\"colorbar\":{\"outlinewidth\":0,\"ticks\":\"\"},\"colorscale\":[[0.0,\"#0d0887\"],[0.1111111111111111,\"#46039f\"],[0.2222222222222222,\"#7201a8\"],[0.3333333333333333,\"#9c179e\"],[0.4444444444444444,\"#bd3786\"],[0.5555555555555556,\"#d8576b\"],[0.6666666666666666,\"#ed7953\"],[0.7777777777777778,\"#fb9f3a\"],[0.8888888888888888,\"#fdca26\"],[1.0,\"#f0f921\"]],\"type\":\"heatmap\"}],\"histogram2dcontour\":[{\"colorbar\":{\"outlinewidth\":0,\"ticks\":\"\"},\"colorscale\":[[0.0,\"#0d0887\"],[0.1111111111111111,\"#46039f\"],[0.2222222222222222,\"#7201a8\"],[0.3333333333333333,\"#9c179e\"],[0.4444444444444444,\"#bd3786\"],[0.5555555555555556,\"#d8576b\"],[0.6666666666666666,\"#ed7953\"],[0.7777777777777778,\"#fb9f3a\"],[0.8888888888888888,\"#fdca26\"],[1.0,\"#f0f921\"]],\"type\":\"histogram2dcontour\"}],\"histogram2d\":[{\"colorbar\":{\"outlinewidth\":0,\"ticks\":\"\"},\"colorscale\":[[0.0,\"#0d0887\"],[0.1111111111111111,\"#46039f\"],[0.2222222222222222,\"#7201a8\"],[0.3333333333333333,\"#9c179e\"],[0.4444444444444444,\"#bd3786\"],[0.5555555555555556,\"#d8576b\"],[0.6666666666666666,\"#ed7953\"],[0.7777777777777778,\"#fb9f3a\"],[0.8888888888888888,\"#fdca26\"],[1.0,\"#f0f921\"]],\"type\":\"histogram2d\"}],\"histogram\":[{\"marker\":{\"pattern\":{\"fillmode\":\"overlay\",\"size\":10,\"solidity\":0.2}},\"type\":\"histogram\"}],\"mesh3d\":[{\"colorbar\":{\"outlinewidth\":0,\"ticks\":\"\"},\"type\":\"mesh3d\"}],\"parcoords\":[{\"line\":{\"colorbar\":{\"outlinewidth\":0,\"ticks\":\"\"}},\"type\":\"parcoords\"}],\"pie\":[{\"automargin\":true,\"type\":\"pie\"}],\"scatter3d\":[{\"line\":{\"colorbar\":{\"outlinewidth\":0,\"ticks\":\"\"}},\"marker\":{\"colorbar\":{\"outlinewidth\":0,\"ticks\":\"\"}},\"type\":\"scatter3d\"}],\"scattercarpet\":[{\"marker\":{\"colorbar\":{\"outlinewidth\":0,\"ticks\":\"\"}},\"type\":\"scattercarpet\"}],\"scattergeo\":[{\"marker\":{\"colorbar\":{\"outlinewidth\":0,\"ticks\":\"\"}},\"type\":\"scattergeo\"}],\"scattergl\":[{\"marker\":{\"colorbar\":{\"outlinewidth\":0,\"ticks\":\"\"}},\"type\":\"scattergl\"}],\"scattermapbox\":[{\"marker\":{\"colorbar\":{\"outlinewidth\":0,\"ticks\":\"\"}},\"type\":\"scattermapbox\"}],\"scatterpolargl\":[{\"marker\":{\"colorbar\":{\"outlinewidth\":0,\"ticks\":\"\"}},\"type\":\"scatterpolargl\"}],\"scatterpolar\":[{\"marker\":{\"colorbar\":{\"outlinewidth\":0,\"ticks\":\"\"}},\"type\":\"scatterpolar\"}],\"scatter\":[{\"fillpattern\":{\"fillmode\":\"overlay\",\"size\":10,\"solidity\":0.2},\"type\":\"scatter\"}],\"scatterternary\":[{\"marker\":{\"colorbar\":{\"outlinewidth\":0,\"ticks\":\"\"}},\"type\":\"scatterternary\"}],\"surface\":[{\"colorbar\":{\"outlinewidth\":0,\"ticks\":\"\"},\"colorscale\":[[0.0,\"#0d0887\"],[0.1111111111111111,\"#46039f\"],[0.2222222222222222,\"#7201a8\"],[0.3333333333333333,\"#9c179e\"],[0.4444444444444444,\"#bd3786\"],[0.5555555555555556,\"#d8576b\"],[0.6666666666666666,\"#ed7953\"],[0.7777777777777778,\"#fb9f3a\"],[0.8888888888888888,\"#fdca26\"],[1.0,\"#f0f921\"]],\"type\":\"surface\"}],\"table\":[{\"cells\":{\"fill\":{\"color\":\"#EBF0F8\"},\"line\":{\"color\":\"white\"}},\"header\":{\"fill\":{\"color\":\"#C8D4E3\"},\"line\":{\"color\":\"white\"}},\"type\":\"table\"}]},\"layout\":{\"annotationdefaults\":{\"arrowcolor\":\"#2a3f5f\",\"arrowhead\":0,\"arrowwidth\":1},\"autotypenumbers\":\"strict\",\"coloraxis\":{\"colorbar\":{\"outlinewidth\":0,\"ticks\":\"\"}},\"colorscale\":{\"diverging\":[[0,\"#8e0152\"],[0.1,\"#c51b7d\"],[0.2,\"#de77ae\"],[0.3,\"#f1b6da\"],[0.4,\"#fde0ef\"],[0.5,\"#f7f7f7\"],[0.6,\"#e6f5d0\"],[0.7,\"#b8e186\"],[0.8,\"#7fbc41\"],[0.9,\"#4d9221\"],[1,\"#276419\"]],\"sequential\":[[0.0,\"#0d0887\"],[0.1111111111111111,\"#46039f\"],[0.2222222222222222,\"#7201a8\"],[0.3333333333333333,\"#9c179e\"],[0.4444444444444444,\"#bd3786\"],[0.5555555555555556,\"#d8576b\"],[0.6666666666666666,\"#ed7953\"],[0.7777777777777778,\"#fb9f3a\"],[0.8888888888888888,\"#fdca26\"],[1.0,\"#f0f921\"]],\"sequentialminus\":[[0.0,\"#0d0887\"],[0.1111111111111111,\"#46039f\"],[0.2222222222222222,\"#7201a8\"],[0.3333333333333333,\"#9c179e\"],[0.4444444444444444,\"#bd3786\"],[0.5555555555555556,\"#d8576b\"],[0.6666666666666666,\"#ed7953\"],[0.7777777777777778,\"#fb9f3a\"],[0.8888888888888888,\"#fdca26\"],[1.0,\"#f0f921\"]]},\"colorway\":[\"#636efa\",\"#EF553B\",\"#00cc96\",\"#ab63fa\",\"#FFA15A\",\"#19d3f3\",\"#FF6692\",\"#B6E880\",\"#FF97FF\",\"#FECB52\"],\"font\":{\"color\":\"#2a3f5f\"},\"geo\":{\"bgcolor\":\"white\",\"lakecolor\":\"white\",\"landcolor\":\"white\",\"showlakes\":true,\"showland\":true,\"subunitcolor\":\"#C8D4E3\"},\"hoverlabel\":{\"align\":\"left\"},\"hovermode\":\"closest\",\"mapbox\":{\"style\":\"light\"},\"paper_bgcolor\":\"white\",\"plot_bgcolor\":\"white\",\"polar\":{\"angularaxis\":{\"gridcolor\":\"#EBF0F8\",\"linecolor\":\"#EBF0F8\",\"ticks\":\"\"},\"bgcolor\":\"white\",\"radialaxis\":{\"gridcolor\":\"#EBF0F8\",\"linecolor\":\"#EBF0F8\",\"ticks\":\"\"}},\"scene\":{\"xaxis\":{\"backgroundcolor\":\"white\",\"gridcolor\":\"#DFE8F3\",\"gridwidth\":2,\"linecolor\":\"#EBF0F8\",\"showbackground\":true,\"ticks\":\"\",\"zerolinecolor\":\"#EBF0F8\"},\"yaxis\":{\"backgroundcolor\":\"white\",\"gridcolor\":\"#DFE8F3\",\"gridwidth\":2,\"linecolor\":\"#EBF0F8\",\"showbackground\":true,\"ticks\":\"\",\"zerolinecolor\":\"#EBF0F8\"},\"zaxis\":{\"backgroundcolor\":\"white\",\"gridcolor\":\"#DFE8F3\",\"gridwidth\":2,\"linecolor\":\"#EBF0F8\",\"showbackground\":true,\"ticks\":\"\",\"zerolinecolor\":\"#EBF0F8\"}},\"shapedefaults\":{\"line\":{\"color\":\"#2a3f5f\"}},\"ternary\":{\"aaxis\":{\"gridcolor\":\"#DFE8F3\",\"linecolor\":\"#A2B1C6\",\"ticks\":\"\"},\"baxis\":{\"gridcolor\":\"#DFE8F3\",\"linecolor\":\"#A2B1C6\",\"ticks\":\"\"},\"bgcolor\":\"white\",\"caxis\":{\"gridcolor\":\"#DFE8F3\",\"linecolor\":\"#A2B1C6\",\"ticks\":\"\"}},\"title\":{\"x\":0.05},\"xaxis\":{\"automargin\":true,\"gridcolor\":\"#EBF0F8\",\"linecolor\":\"#EBF0F8\",\"ticks\":\"\",\"title\":{\"standoff\":15},\"zerolinecolor\":\"#EBF0F8\",\"zerolinewidth\":2},\"yaxis\":{\"automargin\":true,\"gridcolor\":\"#EBF0F8\",\"linecolor\":\"#EBF0F8\",\"ticks\":\"\",\"title\":{\"standoff\":15},\"zerolinecolor\":\"#EBF0F8\",\"zerolinewidth\":2}}},\"title\":{\"text\":\"Primary Data (Amazon) Rating Distribution\"}},                        {\"responsive\": true}                    ).then(function(){\n",
       "                            \n",
       "var gd = document.getElementById('6f97991d-ee49-42b9-b3dd-fabdc4b296fe');\n",
       "var x = new MutationObserver(function (mutations, observer) {{\n",
       "        var display = window.getComputedStyle(gd).display;\n",
       "        if (!display || display === 'none') {{\n",
       "            console.log([gd, 'removed!']);\n",
       "            Plotly.purge(gd);\n",
       "            observer.disconnect();\n",
       "        }}\n",
       "}});\n",
       "\n",
       "// Listen for the removal of the full notebook cells\n",
       "var notebookContainer = gd.closest('#notebook-container');\n",
       "if (notebookContainer) {{\n",
       "    x.observe(notebookContainer, {childList: true});\n",
       "}}\n",
       "\n",
       "// Listen for the clearing of the current output cell\n",
       "var outputEl = gd.closest('.output');\n",
       "if (outputEl) {{\n",
       "    x.observe(outputEl, {childList: true});\n",
       "}}\n",
       "\n",
       "                        })                };                });            </script>        </div>"
      ]
     },
     "metadata": {},
     "output_type": "display_data"
    },
    {
     "data": {
      "application/vnd.plotly.v1+json": {
       "config": {
        "plotlyServerURL": "https://plot.ly"
       },
       "data": [
        {
         "histnorm": "probability density",
         "legendgroup": "Secondary Data (Jarir)",
         "marker": {
          "color": "#a61718"
         },
         "name": "Secondary Data (Jarir)",
         "opacity": 0.7,
         "type": "histogram",
         "x": [
          5,
          4.5,
          4.7,
          5,
          5,
          4.8,
          4.9,
          4.9,
          5,
          4.3,
          5,
          5,
          4.7,
          4.6,
          4.9,
          4.9,
          4.4,
          4.3,
          4.9,
          5,
          5,
          4.4,
          5,
          4.3,
          4.8,
          4.6,
          5,
          5,
          4.5,
          5,
          4.8,
          5,
          5,
          4.7,
          4.9,
          4.2,
          5,
          3.7,
          5,
          5,
          4.7,
          5,
          5,
          4.8,
          5,
          4.7,
          5,
          5,
          5,
          5,
          4,
          3.5,
          5,
          5,
          5,
          5,
          5,
          5,
          5,
          5,
          5,
          5,
          5,
          5,
          4.5,
          4,
          5,
          5,
          4.7,
          5,
          5,
          4.5,
          5,
          5,
          5,
          4.5,
          4.3,
          5,
          4,
          5,
          5,
          4,
          4,
          5,
          5,
          5,
          5,
          5,
          5,
          5,
          5,
          2.3,
          4,
          5,
          5,
          5,
          5,
          5,
          5,
          5,
          5,
          5,
          5,
          5,
          5,
          5,
          5,
          5,
          5,
          5,
          5,
          5,
          5,
          5,
          5,
          5,
          5,
          5,
          4.3,
          5,
          5,
          5,
          4,
          5,
          5,
          5,
          5,
          5,
          5,
          5,
          5,
          5,
          5,
          5,
          5,
          5,
          0,
          0,
          0,
          0,
          0,
          0,
          0,
          0,
          0,
          0,
          0,
          0,
          0,
          0,
          0,
          0,
          5,
          0,
          0,
          0,
          0,
          0,
          0,
          0,
          0,
          0,
          0,
          0,
          0,
          0,
          0,
          0,
          0,
          0,
          0,
          0,
          0,
          0,
          0,
          0,
          0,
          0,
          0,
          0,
          0,
          0,
          0,
          0,
          0,
          0,
          0,
          0,
          0,
          0,
          0,
          0,
          0,
          0,
          0,
          0,
          0,
          0,
          0,
          0,
          0,
          0,
          0,
          0,
          0,
          0,
          0,
          0,
          5,
          0,
          0,
          0,
          0,
          0,
          0,
          0,
          5,
          0,
          0,
          0,
          0,
          0,
          0,
          0,
          5,
          0,
          4.9,
          0,
          0,
          0,
          0,
          0,
          0,
          5,
          0,
          0
         ],
         "xaxis": "x",
         "xbins": {
          "end": 5,
          "size": 0.2,
          "start": 0
         },
         "yaxis": "y"
        },
        {
         "legendgroup": "Secondary Data (Jarir)",
         "marker": {
          "color": "#a61718"
         },
         "mode": "lines",
         "name": "Secondary Data (Jarir)",
         "showlegend": false,
         "type": "scatter",
         "x": [
          0,
          0.01,
          0.02,
          0.03,
          0.04,
          0.05,
          0.06,
          0.07,
          0.08,
          0.09,
          0.1,
          0.11,
          0.12,
          0.13,
          0.14,
          0.15,
          0.16,
          0.17,
          0.18,
          0.19,
          0.2,
          0.21,
          0.22,
          0.23,
          0.24,
          0.25,
          0.26,
          0.27,
          0.28,
          0.29,
          0.3,
          0.31,
          0.32,
          0.33,
          0.34,
          0.35,
          0.36,
          0.37,
          0.38,
          0.39,
          0.4,
          0.41,
          0.42,
          0.43,
          0.44,
          0.45,
          0.46,
          0.47,
          0.48,
          0.49,
          0.5,
          0.51,
          0.52,
          0.53,
          0.54,
          0.55,
          0.56,
          0.57,
          0.58,
          0.59,
          0.6,
          0.61,
          0.62,
          0.63,
          0.64,
          0.65,
          0.66,
          0.67,
          0.68,
          0.69,
          0.7,
          0.71,
          0.72,
          0.73,
          0.74,
          0.75,
          0.76,
          0.77,
          0.78,
          0.79,
          0.8,
          0.81,
          0.82,
          0.83,
          0.84,
          0.85,
          0.86,
          0.87,
          0.88,
          0.89,
          0.9,
          0.91,
          0.92,
          0.93,
          0.94,
          0.95,
          0.96,
          0.97,
          0.98,
          0.99,
          1,
          1.01,
          1.02,
          1.03,
          1.04,
          1.05,
          1.06,
          1.07,
          1.08,
          1.09,
          1.1,
          1.11,
          1.12,
          1.13,
          1.14,
          1.15,
          1.16,
          1.17,
          1.18,
          1.19,
          1.2,
          1.21,
          1.22,
          1.23,
          1.24,
          1.25,
          1.26,
          1.27,
          1.28,
          1.29,
          1.3,
          1.31,
          1.32,
          1.33,
          1.34,
          1.35,
          1.36,
          1.37,
          1.38,
          1.39,
          1.4,
          1.41,
          1.42,
          1.43,
          1.44,
          1.45,
          1.46,
          1.47,
          1.48,
          1.49,
          1.5,
          1.51,
          1.52,
          1.53,
          1.54,
          1.55,
          1.56,
          1.57,
          1.58,
          1.59,
          1.6,
          1.61,
          1.62,
          1.63,
          1.64,
          1.65,
          1.66,
          1.67,
          1.68,
          1.69,
          1.7,
          1.71,
          1.72,
          1.73,
          1.74,
          1.75,
          1.76,
          1.77,
          1.78,
          1.79,
          1.8,
          1.81,
          1.82,
          1.83,
          1.84,
          1.85,
          1.86,
          1.87,
          1.88,
          1.89,
          1.9,
          1.91,
          1.92,
          1.93,
          1.94,
          1.95,
          1.96,
          1.97,
          1.98,
          1.99,
          2,
          2.01,
          2.02,
          2.03,
          2.04,
          2.05,
          2.06,
          2.07,
          2.08,
          2.09,
          2.1,
          2.11,
          2.12,
          2.13,
          2.14,
          2.15,
          2.16,
          2.17,
          2.18,
          2.19,
          2.2,
          2.21,
          2.22,
          2.23,
          2.24,
          2.25,
          2.26,
          2.27,
          2.28,
          2.29,
          2.3,
          2.31,
          2.32,
          2.33,
          2.34,
          2.35,
          2.36,
          2.37,
          2.38,
          2.39,
          2.4,
          2.41,
          2.42,
          2.43,
          2.44,
          2.45,
          2.46,
          2.47,
          2.48,
          2.49,
          2.5,
          2.51,
          2.52,
          2.53,
          2.54,
          2.55,
          2.56,
          2.57,
          2.58,
          2.59,
          2.6,
          2.61,
          2.62,
          2.63,
          2.64,
          2.65,
          2.66,
          2.67,
          2.68,
          2.69,
          2.7,
          2.71,
          2.72,
          2.73,
          2.74,
          2.75,
          2.76,
          2.77,
          2.78,
          2.79,
          2.8,
          2.81,
          2.82,
          2.83,
          2.84,
          2.85,
          2.86,
          2.87,
          2.88,
          2.89,
          2.9,
          2.91,
          2.92,
          2.93,
          2.94,
          2.95,
          2.96,
          2.97,
          2.98,
          2.99,
          3,
          3.01,
          3.02,
          3.03,
          3.04,
          3.05,
          3.06,
          3.07,
          3.08,
          3.09,
          3.1,
          3.11,
          3.12,
          3.13,
          3.14,
          3.15,
          3.16,
          3.17,
          3.18,
          3.19,
          3.2,
          3.21,
          3.22,
          3.23,
          3.24,
          3.25,
          3.26,
          3.27,
          3.28,
          3.29,
          3.3,
          3.31,
          3.32,
          3.33,
          3.34,
          3.35,
          3.36,
          3.37,
          3.38,
          3.39,
          3.4,
          3.41,
          3.42,
          3.43,
          3.44,
          3.45,
          3.46,
          3.47,
          3.48,
          3.49,
          3.5,
          3.51,
          3.52,
          3.53,
          3.54,
          3.55,
          3.56,
          3.57,
          3.58,
          3.59,
          3.6,
          3.61,
          3.62,
          3.63,
          3.64,
          3.65,
          3.66,
          3.67,
          3.68,
          3.69,
          3.7,
          3.71,
          3.72,
          3.73,
          3.74,
          3.75,
          3.76,
          3.77,
          3.78,
          3.79,
          3.8,
          3.81,
          3.82,
          3.83,
          3.84,
          3.85,
          3.86,
          3.87,
          3.88,
          3.89,
          3.9,
          3.91,
          3.92,
          3.93,
          3.94,
          3.95,
          3.96,
          3.97,
          3.98,
          3.99,
          4,
          4.01,
          4.02,
          4.03,
          4.04,
          4.05,
          4.06,
          4.07,
          4.08,
          4.09,
          4.1,
          4.11,
          4.12,
          4.13,
          4.14,
          4.15,
          4.16,
          4.17,
          4.18,
          4.19,
          4.2,
          4.21,
          4.22,
          4.23,
          4.24,
          4.25,
          4.26,
          4.27,
          4.28,
          4.29,
          4.3,
          4.31,
          4.32,
          4.33,
          4.34,
          4.35,
          4.36,
          4.37,
          4.38,
          4.39,
          4.4,
          4.41,
          4.42,
          4.43,
          4.44,
          4.45,
          4.46,
          4.47,
          4.48,
          4.49,
          4.5,
          4.51,
          4.52,
          4.53,
          4.54,
          4.55,
          4.56,
          4.57,
          4.58,
          4.59,
          4.6,
          4.61,
          4.62,
          4.63,
          4.64,
          4.65,
          4.66,
          4.67,
          4.68,
          4.69,
          4.7,
          4.71,
          4.72,
          4.73,
          4.74,
          4.75,
          4.76,
          4.77,
          4.78,
          4.79,
          4.8,
          4.81,
          4.82,
          4.83,
          4.84,
          4.85,
          4.86,
          4.87,
          4.88,
          4.89,
          4.9,
          4.91,
          4.92,
          4.93,
          4.94,
          4.95,
          4.96,
          4.97,
          4.98,
          4.99
         ],
         "xaxis": "x",
         "y": [
          0.1986638035682964,
          0.1986495383080988,
          0.1986042848415478,
          0.1985280660598388,
          0.1984209193990767,
          0.19828289681199368,
          0.19811406472834864,
          0.1979145040040571,
          0.19768430985908939,
          0.19742359180422847,
          0.19713247355675337,
          0.19681109294513285,
          0.1964596018028556,
          0.19607816585148646,
          0.19566696457309796,
          0.19522619107219635,
          0.1947560519273071,
          0.1942567670323706,
          0.1937285694281242,
          0.193171705123648,
          0.19258643290827285,
          0.1919730241540453,
          0.19133176260897028,
          0.19066294418123964,
          0.189966876714693,
          0.18924387975573936,
          0.18849428431198736,
          0.1877184326028451,
          0.18691667780235408,
          0.18608938377451986,
          0.18523692480142623,
          0.18435968530441632,
          0.1834580595586284,
          0.18253245140118785,
          0.1815832739333569,
          0.18061094921694587,
          0.17961590796530766,
          0.1785985892292249,
          0.1775594400780125,
          0.17649891527616499,
          0.175417476955866,
          0.17431559428570076,
          0.17319374313589886,
          0.1720524057404413,
          0.17089207035636877,
          0.16971323092062718,
          0.16851638670478705,
          0.16730204196797385,
          0.16607070560835202,
          0.16482289081348342,
          0.1635591147099158,
          0.16227989801231577,
          0.1609857646724916,
          0.15967724152862828,
          0.15835485795505866,
          0.1570191455129032,
          0.15567063760188832,
          0.15430986911366643,
          0.15293737608694302,
          0.15155369536472485,
          0.15015936425398543,
          0.148754920188048,
          0.14734090039197606,
          0.1459178415512587,
          0.14448627948406725,
          0.14304674881735838,
          0.14159978266709008,
          0.14014591232280776,
          0.13868566693685355,
          0.1372195732184453,
          0.13574815513285604,
          0.13427193360593073,
          0.13279142623415316,
          0.1313071470004835,
          0.12981960599616268,
          0.12832930914868368,
          0.12683675795611615,
          0.125342449227958,
          0.12384687483268905,
          0.12235052145217916,
          0.120853870343109,
          0.11935739710553493,
          0.11786157145873781,
          0.11636685702447708,
          0.11487371111775521,
          0.1133825845452053,
          0.11189392141119515,
          0.11040815893172008,
          0.10892572725617794,
          0.10744704929707834,
          0.10597254056774535,
          0.10450260902806795,
          0.10303765493832133,
          0.10157807072110685,
          0.1001242408314114,
          0.09867654163480954,
          0.09723534129380725,
          0.09580099966231688,
          0.0943738681882501,
          0.0929542898242087,
          0.09154259894623501,
          0.09013912128058525,
          0.08874417383847744,
          0.08735806485875727,
          0.08598109375841996,
          0.08461355109091376,
          0.0832557185121535,
          0.08190786875415196,
          0.08057026560618515,
          0.07924316390338514,
          0.07792680952266327,
          0.07662143938585077,
          0.07532728146994022,
          0.07404455482430415,
          0.0727734695947693,
          0.07151422705441002,
          0.07026701964092445,
          0.06903203100045306,
          0.06780943603769427,
          0.06659940097216475,
          0.06540208340045477,
          0.06421763236431778,
          0.06304618842443485,
          0.06188788373969261,
          0.060742842151806066,
          0.05961117927511828,
          0.05849300259140495,
          0.05738841154951583,
          0.05629749766966967,
          0.05522034465223531,
          0.05415702849081496,
          0.05310761758945587,
          0.05207217288380712,
          0.05105074796604414,
          0.05004338921338241,
          0.049050135919994096,
          0.048071020432156046,
          0.04710606828644118,
          0.04615529835078109,
          0.04521872296821521,
          0.04429634810315533,
          0.043388173489983826,
          0.042494192783814555,
          0.041614393713239835,
          0.040748758234895904,
          0.03989726268967262,
          0.039059877960403645,
          0.03823656963086752,
          0.0374272981459413,
          0.036632018972742424,
          0.035850682762600755,
          0.03508323551370877,
          0.03432961873429417,
          0.0335897696061668,
          0.0328636211484938,
          0.03215110238165996,
          0.03145213849107277,
          0.030766650990776762,
          0.030094557886743232,
          0.02943577383970713,
          0.02879021032742433,
          0.028157775806228042,
          0.02753837587176584,
          0.026931913418801995,
          0.026338288799975254,
          0.025757399983405427,
          0.02518914270904469,
          0.024633410643674615,
          0.024090095534455142,
          0.02355908736093278,
          0.023040274485419943,
          0.02253354380166501,
          0.02203878088172946,
          0.02155587012100048,
          0.021084694881263445,
          0.02062513763176954,
          0.020177080088232203,
          0.019740403349692917,
          0.0193149880332,
          0.01890071440624664,
          0.018497462516919614,
          0.01810511232171276,
          0.017723543810963013,
          0.017352637131870637,
          0.01699227270906801,
          0.016642331362705588,
          0.016302694424025578,
          0.015973243848399567,
          0.015653862325806,
          0.015344433388729086,
          0.015044841517463865,
          0.014754972242812069,
          0.014474712246160088,
          0.014203949456930157,
          0.013942573147400052,
          0.013690474024888813,
          0.013447544321307053,
          0.013213677880075752,
          0.01298877024041712,
          0.012772718719023222,
          0.012565422489112656,
          0.012366782656885001,
          0.012176702335384752,
          0.011995086715790963,
          0.01182184313614639,
          0.011656881147545015,
          0.011500112577796508,
          0.011351451592588347,
          0.01121081475416597,
          0.011078121077555894,
          0.01095329208435432,
          0.010836251854106353,
          0.010726927073301935,
          0.010625247082016027,
          0.010531143918218702,
          0.0104445523597846,
          0.010365409964230722,
          0.010293657106209792,
          0.010229237012791017,
          0.010172095796556575,
          0.010122182486544059,
          0.010079449057065381,
          0.010043850454432549,
          0.010015344621619834,
          0.00999389252089286,
          0.009979458154434588,
          0.009972008582998305,
          0.00997151394261611,
          0.009977947459392764,
          0.009991285462413296,
          0.010011507394792611,
          0.010038595822894803,
          0.010072536443748633,
          0.010113318090686454,
          0.010160932737231464,
          0.010215375499259027,
          0.01027664463545443,
          0.010344741546093427,
          0.010419670770164546,
          0.010501439980857145,
          0.010590059979434418,
          0.010685544687511737,
          0.01078791113775733,
          0.010897179463036102,
          0.011013372884007909,
          0.011136517695201513,
          0.01126664324957273,
          0.011403781941564694,
          0.011547969188678849,
          0.011699243411569799,
          0.011857646012671488,
          0.012023221353365383,
          0.012196016729697279,
          0.012376082346647362,
          0.012563471290961118,
          0.012758239502543782,
          0.012960445744420904,
          0.013170151571266563,
          0.013387421296500404,
          0.013612321957953323,
          0.013844923282098015,
          0.014085297646845072,
          0.014333520042896593,
          0.014589668033657452,
          0.014853821713694182,
          0.015126063665738378,
          0.01540647891622405,
          0.015695154889352435,
          0.015992181359675478,
          0.016297650403185572,
          0.016611656346904077,
          0.01693429571695398,
          0.017265667185107598,
          0.017605871513794648,
          0.017955011499557732,
          0.018313191914944116,
          0.01868051944881515,
          0.01905710264506431,
          0.019443051839724862,
          0.019838479096454625,
          0.020243498140381337,
          0.020658224290297424,
          0.021082774389181498,
          0.021517266733039754,
          0.021961820998047853,
          0.022416558165977585,
          0.022881600447899976,
          0.023357071206142443,
          0.023843094874492685,
          0.02433979687663515,
          0.024847303542805062,
          0.025365742024652235,
          0.025895240208298507,
          0.026435926625586914,
          0.026987930363502374,
          0.02755138097176837,
          0.028126408368601755,
          0.02871314274462797,
          0.029311714464945987,
          0.029922253969347595,
          0.03054489167068231,
          0.031179757851370584,
          0.031826982558070586,
          0.03248669549449788,
          0.033159025912405056,
          0.033844102500726336,
          0.03454205327290615,
          0.035253005452406304,
          0.035977085356424056,
          0.0367144182778234,
          0.03746512836530569,
          0.03822933850183457,
          0.03900717018134861,
          0.03979874338377291,
          0.04060417644837358,
          0.0414235859454753,
          0.04225708654658432,
          0.04310479089294628,
          0.043966809462587006,
          0.044843250435874005,
          0.045734219559647675,
          0.04663982000996793,
          0.04756015225353741,
          0.048495313907845596,
          0.049445399600100956,
          0.050410500825015477,
          0.05139070580149723,
          0.052386099328327614,
          0.05339676263890323,
          0.054422773255097937,
          0.0554642048403471,
          0.056521127052023,
          0.057593605393191506,
          0.058681701063843864,
          0.05978547081169152,
          0.06090496678262909,
          0.06204023637095227,
          0.06319132206945316,
          0.06435826131948288,
          0.06554108636110963,
          0.0667398240834631,
          0.06795449587541758,
          0.06918511747669163,
          0.07043169882953185,
          0.07169424393106932,
          0.07297275068651411,
          0.07426721076328997,
          0.07557760944627043,
          0.07690392549424083,
          0.07824613099772558,
          0.07960419123835523,
          0.08097806454986338,
          0.08236770218093482,
          0.08377304815998568,
          0.08519403916208745,
          0.08663060437815338,
          0.08808266538657095,
          0.08955013602740813,
          0.09103292227940328,
          0.0925309221398426,
          0.09404402550754505,
          0.09557211406908403,
          0.09711506118841254,
          0.09867273180009355,
          0.10024498230625067,
          0.10183166047745677,
          0.10343260535769,
          0.10504764717354988,
          0.10667660724788783,
          0.10831929791802217,
          0.10997552245871238,
          0.11164507501004081,
          0.1133277405103767,
          0.11502329463459475,
          0.11673150373768518,
          0.11845212480392907,
          0.12018490540181,
          0.12192958364477831,
          0.12368588815806418,
          0.1254535380516511,
          0.12723224289958082,
          0.12902170272572355,
          0.1308216079961513,
          0.13263163961824062,
          0.13445146894667445,
          0.13628075779639728,
          0.13811915846273368,
          0.13996631374871177,
          0.14182185699974675,
          0.14368541214578248,
          0.14555659375097157,
          0.1474350070710288,
          0.14932024811830608,
          0.15121190373469612,
          0.1531095516724334,
          0.15501276068286146,
          0.15692109061322618,
          0.15883409251155936,
          0.16075130873969506,
          0.1626722730944521,
          0.16459651093701563,
          0.1665235393305662,
          0.1684528671861375,
          0.17038399541672683,
          0.17231641709966197,
          0.17424961764721186,
          0.17618307498541674,
          0.1781162597411105,
          0.18004863543711544,
          0.18197965869554125,
          0.1839087794491516,
          0.18583544116072584,
          0.18775908105034153,
          0.18967913033049552,
          0.1915950144489889,
          0.1935061533394405,
          0.19541196167934247,
          0.19731184915553526,
          0.19920522073695912,
          0.20109147695456064,
          0.20297001418817964,
          0.2048402249602805,
          0.20670149823634168,
          0.20855321973175328,
          0.2103947722249926,
          0.21222553587692256,
          0.2140448885559703,
          0.21585220616901932,
          0.21764686299773373,
          0.2194282320401298,
          0.22119568535714088,
          0.22294859442390677,
          0.22468633048555267,
          0.226408264917202,
          0.22811376958792148,
          0.22980221722833408,
          0.23147298180161222,
          0.2331254388775721,
          0.23475896600953403,
          0.23637294311367188,
          0.23796675285053104,
          0.23953978100838597,
          0.2410914168881312,
          0.24262105368936138,
          0.24412808889731355,
          0.2456119246703303,
          0.24707196822751756,
          0.24850763223620856,
          0.24991833519894935,
          0.2513035018395962,
          0.25266256348819677,
          0.25399495846430525,
          0.25530013245836153,
          0.2565775389107704,
          0.2578266393883367,
          0.2590469039576887,
          0.2602378115553319,
          0.26139885035396243,
          0.2625295181247257,
          0.2636293225949604,
          0.26469778180123393,
          0.2657344244371555,
          0.26673879019571406,
          0.2677104301057669,
          0.26864890686234094,
          0.2695537951504018,
          0.2704246819617472,
          0.2712611669047434,
          0.27206286250649814,
          0.27282939450725674,
          0.2735604021465908,
          0.27425553844121825,
          0.2749144704539965,
          0.275536879553935,
          0.27612246166689197,
          0.27667092751663264,
          0.27718200285610345,
          0.27765542868854476,
          0.27809096147826484,
          0.2784883733508331,
          0.278847452282445,
          0.2791680022782524,
          0.2794498435394827,
          0.27969281261908197,
          0.27989676256578133,
          0.28006156305639013,
          0.2801871005160881,
          0.28027327822671644,
          0.28032001642274834,
          0.2803272523750189,
          0.2802949404618994,
          0.2802230522280186,
          0.28011157643026635,
          0.2799605190711623,
          0.27976990341943136,
          0.2795397700177786,
          0.2792701766778593,
          0.278961198462368,
          0.2786129276542962,
          0.27822547371337647
         ],
         "yaxis": "y"
        }
       ],
       "layout": {
        "autosize": true,
        "barmode": "overlay",
        "hovermode": "closest",
        "legend": {
         "traceorder": "reversed"
        },
        "template": {
         "data": {
          "bar": [
           {
            "error_x": {
             "color": "#2a3f5f"
            },
            "error_y": {
             "color": "#2a3f5f"
            },
            "marker": {
             "line": {
              "color": "white",
              "width": 0.5
             },
             "pattern": {
              "fillmode": "overlay",
              "size": 10,
              "solidity": 0.2
             }
            },
            "type": "bar"
           }
          ],
          "barpolar": [
           {
            "marker": {
             "line": {
              "color": "white",
              "width": 0.5
             },
             "pattern": {
              "fillmode": "overlay",
              "size": 10,
              "solidity": 0.2
             }
            },
            "type": "barpolar"
           }
          ],
          "carpet": [
           {
            "aaxis": {
             "endlinecolor": "#2a3f5f",
             "gridcolor": "#C8D4E3",
             "linecolor": "#C8D4E3",
             "minorgridcolor": "#C8D4E3",
             "startlinecolor": "#2a3f5f"
            },
            "baxis": {
             "endlinecolor": "#2a3f5f",
             "gridcolor": "#C8D4E3",
             "linecolor": "#C8D4E3",
             "minorgridcolor": "#C8D4E3",
             "startlinecolor": "#2a3f5f"
            },
            "type": "carpet"
           }
          ],
          "choropleth": [
           {
            "colorbar": {
             "outlinewidth": 0,
             "ticks": ""
            },
            "type": "choropleth"
           }
          ],
          "contour": [
           {
            "colorbar": {
             "outlinewidth": 0,
             "ticks": ""
            },
            "colorscale": [
             [
              0,
              "#0d0887"
             ],
             [
              0.1111111111111111,
              "#46039f"
             ],
             [
              0.2222222222222222,
              "#7201a8"
             ],
             [
              0.3333333333333333,
              "#9c179e"
             ],
             [
              0.4444444444444444,
              "#bd3786"
             ],
             [
              0.5555555555555556,
              "#d8576b"
             ],
             [
              0.6666666666666666,
              "#ed7953"
             ],
             [
              0.7777777777777778,
              "#fb9f3a"
             ],
             [
              0.8888888888888888,
              "#fdca26"
             ],
             [
              1,
              "#f0f921"
             ]
            ],
            "type": "contour"
           }
          ],
          "contourcarpet": [
           {
            "colorbar": {
             "outlinewidth": 0,
             "ticks": ""
            },
            "type": "contourcarpet"
           }
          ],
          "heatmap": [
           {
            "colorbar": {
             "outlinewidth": 0,
             "ticks": ""
            },
            "colorscale": [
             [
              0,
              "#0d0887"
             ],
             [
              0.1111111111111111,
              "#46039f"
             ],
             [
              0.2222222222222222,
              "#7201a8"
             ],
             [
              0.3333333333333333,
              "#9c179e"
             ],
             [
              0.4444444444444444,
              "#bd3786"
             ],
             [
              0.5555555555555556,
              "#d8576b"
             ],
             [
              0.6666666666666666,
              "#ed7953"
             ],
             [
              0.7777777777777778,
              "#fb9f3a"
             ],
             [
              0.8888888888888888,
              "#fdca26"
             ],
             [
              1,
              "#f0f921"
             ]
            ],
            "type": "heatmap"
           }
          ],
          "heatmapgl": [
           {
            "colorbar": {
             "outlinewidth": 0,
             "ticks": ""
            },
            "colorscale": [
             [
              0,
              "#0d0887"
             ],
             [
              0.1111111111111111,
              "#46039f"
             ],
             [
              0.2222222222222222,
              "#7201a8"
             ],
             [
              0.3333333333333333,
              "#9c179e"
             ],
             [
              0.4444444444444444,
              "#bd3786"
             ],
             [
              0.5555555555555556,
              "#d8576b"
             ],
             [
              0.6666666666666666,
              "#ed7953"
             ],
             [
              0.7777777777777778,
              "#fb9f3a"
             ],
             [
              0.8888888888888888,
              "#fdca26"
             ],
             [
              1,
              "#f0f921"
             ]
            ],
            "type": "heatmapgl"
           }
          ],
          "histogram": [
           {
            "marker": {
             "pattern": {
              "fillmode": "overlay",
              "size": 10,
              "solidity": 0.2
             }
            },
            "type": "histogram"
           }
          ],
          "histogram2d": [
           {
            "colorbar": {
             "outlinewidth": 0,
             "ticks": ""
            },
            "colorscale": [
             [
              0,
              "#0d0887"
             ],
             [
              0.1111111111111111,
              "#46039f"
             ],
             [
              0.2222222222222222,
              "#7201a8"
             ],
             [
              0.3333333333333333,
              "#9c179e"
             ],
             [
              0.4444444444444444,
              "#bd3786"
             ],
             [
              0.5555555555555556,
              "#d8576b"
             ],
             [
              0.6666666666666666,
              "#ed7953"
             ],
             [
              0.7777777777777778,
              "#fb9f3a"
             ],
             [
              0.8888888888888888,
              "#fdca26"
             ],
             [
              1,
              "#f0f921"
             ]
            ],
            "type": "histogram2d"
           }
          ],
          "histogram2dcontour": [
           {
            "colorbar": {
             "outlinewidth": 0,
             "ticks": ""
            },
            "colorscale": [
             [
              0,
              "#0d0887"
             ],
             [
              0.1111111111111111,
              "#46039f"
             ],
             [
              0.2222222222222222,
              "#7201a8"
             ],
             [
              0.3333333333333333,
              "#9c179e"
             ],
             [
              0.4444444444444444,
              "#bd3786"
             ],
             [
              0.5555555555555556,
              "#d8576b"
             ],
             [
              0.6666666666666666,
              "#ed7953"
             ],
             [
              0.7777777777777778,
              "#fb9f3a"
             ],
             [
              0.8888888888888888,
              "#fdca26"
             ],
             [
              1,
              "#f0f921"
             ]
            ],
            "type": "histogram2dcontour"
           }
          ],
          "mesh3d": [
           {
            "colorbar": {
             "outlinewidth": 0,
             "ticks": ""
            },
            "type": "mesh3d"
           }
          ],
          "parcoords": [
           {
            "line": {
             "colorbar": {
              "outlinewidth": 0,
              "ticks": ""
             }
            },
            "type": "parcoords"
           }
          ],
          "pie": [
           {
            "automargin": true,
            "type": "pie"
           }
          ],
          "scatter": [
           {
            "fillpattern": {
             "fillmode": "overlay",
             "size": 10,
             "solidity": 0.2
            },
            "type": "scatter"
           }
          ],
          "scatter3d": [
           {
            "line": {
             "colorbar": {
              "outlinewidth": 0,
              "ticks": ""
             }
            },
            "marker": {
             "colorbar": {
              "outlinewidth": 0,
              "ticks": ""
             }
            },
            "type": "scatter3d"
           }
          ],
          "scattercarpet": [
           {
            "marker": {
             "colorbar": {
              "outlinewidth": 0,
              "ticks": ""
             }
            },
            "type": "scattercarpet"
           }
          ],
          "scattergeo": [
           {
            "marker": {
             "colorbar": {
              "outlinewidth": 0,
              "ticks": ""
             }
            },
            "type": "scattergeo"
           }
          ],
          "scattergl": [
           {
            "marker": {
             "colorbar": {
              "outlinewidth": 0,
              "ticks": ""
             }
            },
            "type": "scattergl"
           }
          ],
          "scattermapbox": [
           {
            "marker": {
             "colorbar": {
              "outlinewidth": 0,
              "ticks": ""
             }
            },
            "type": "scattermapbox"
           }
          ],
          "scatterpolar": [
           {
            "marker": {
             "colorbar": {
              "outlinewidth": 0,
              "ticks": ""
             }
            },
            "type": "scatterpolar"
           }
          ],
          "scatterpolargl": [
           {
            "marker": {
             "colorbar": {
              "outlinewidth": 0,
              "ticks": ""
             }
            },
            "type": "scatterpolargl"
           }
          ],
          "scatterternary": [
           {
            "marker": {
             "colorbar": {
              "outlinewidth": 0,
              "ticks": ""
             }
            },
            "type": "scatterternary"
           }
          ],
          "surface": [
           {
            "colorbar": {
             "outlinewidth": 0,
             "ticks": ""
            },
            "colorscale": [
             [
              0,
              "#0d0887"
             ],
             [
              0.1111111111111111,
              "#46039f"
             ],
             [
              0.2222222222222222,
              "#7201a8"
             ],
             [
              0.3333333333333333,
              "#9c179e"
             ],
             [
              0.4444444444444444,
              "#bd3786"
             ],
             [
              0.5555555555555556,
              "#d8576b"
             ],
             [
              0.6666666666666666,
              "#ed7953"
             ],
             [
              0.7777777777777778,
              "#fb9f3a"
             ],
             [
              0.8888888888888888,
              "#fdca26"
             ],
             [
              1,
              "#f0f921"
             ]
            ],
            "type": "surface"
           }
          ],
          "table": [
           {
            "cells": {
             "fill": {
              "color": "#EBF0F8"
             },
             "line": {
              "color": "white"
             }
            },
            "header": {
             "fill": {
              "color": "#C8D4E3"
             },
             "line": {
              "color": "white"
             }
            },
            "type": "table"
           }
          ]
         },
         "layout": {
          "annotationdefaults": {
           "arrowcolor": "#2a3f5f",
           "arrowhead": 0,
           "arrowwidth": 1
          },
          "autotypenumbers": "strict",
          "coloraxis": {
           "colorbar": {
            "outlinewidth": 0,
            "ticks": ""
           }
          },
          "colorscale": {
           "diverging": [
            [
             0,
             "#8e0152"
            ],
            [
             0.1,
             "#c51b7d"
            ],
            [
             0.2,
             "#de77ae"
            ],
            [
             0.3,
             "#f1b6da"
            ],
            [
             0.4,
             "#fde0ef"
            ],
            [
             0.5,
             "#f7f7f7"
            ],
            [
             0.6,
             "#e6f5d0"
            ],
            [
             0.7,
             "#b8e186"
            ],
            [
             0.8,
             "#7fbc41"
            ],
            [
             0.9,
             "#4d9221"
            ],
            [
             1,
             "#276419"
            ]
           ],
           "sequential": [
            [
             0,
             "#0d0887"
            ],
            [
             0.1111111111111111,
             "#46039f"
            ],
            [
             0.2222222222222222,
             "#7201a8"
            ],
            [
             0.3333333333333333,
             "#9c179e"
            ],
            [
             0.4444444444444444,
             "#bd3786"
            ],
            [
             0.5555555555555556,
             "#d8576b"
            ],
            [
             0.6666666666666666,
             "#ed7953"
            ],
            [
             0.7777777777777778,
             "#fb9f3a"
            ],
            [
             0.8888888888888888,
             "#fdca26"
            ],
            [
             1,
             "#f0f921"
            ]
           ],
           "sequentialminus": [
            [
             0,
             "#0d0887"
            ],
            [
             0.1111111111111111,
             "#46039f"
            ],
            [
             0.2222222222222222,
             "#7201a8"
            ],
            [
             0.3333333333333333,
             "#9c179e"
            ],
            [
             0.4444444444444444,
             "#bd3786"
            ],
            [
             0.5555555555555556,
             "#d8576b"
            ],
            [
             0.6666666666666666,
             "#ed7953"
            ],
            [
             0.7777777777777778,
             "#fb9f3a"
            ],
            [
             0.8888888888888888,
             "#fdca26"
            ],
            [
             1,
             "#f0f921"
            ]
           ]
          },
          "colorway": [
           "#636efa",
           "#EF553B",
           "#00cc96",
           "#ab63fa",
           "#FFA15A",
           "#19d3f3",
           "#FF6692",
           "#B6E880",
           "#FF97FF",
           "#FECB52"
          ],
          "font": {
           "color": "#2a3f5f"
          },
          "geo": {
           "bgcolor": "white",
           "lakecolor": "white",
           "landcolor": "white",
           "showlakes": true,
           "showland": true,
           "subunitcolor": "#C8D4E3"
          },
          "hoverlabel": {
           "align": "left"
          },
          "hovermode": "closest",
          "mapbox": {
           "style": "light"
          },
          "paper_bgcolor": "white",
          "plot_bgcolor": "white",
          "polar": {
           "angularaxis": {
            "gridcolor": "#EBF0F8",
            "linecolor": "#EBF0F8",
            "ticks": ""
           },
           "bgcolor": "white",
           "radialaxis": {
            "gridcolor": "#EBF0F8",
            "linecolor": "#EBF0F8",
            "ticks": ""
           }
          },
          "scene": {
           "xaxis": {
            "backgroundcolor": "white",
            "gridcolor": "#DFE8F3",
            "gridwidth": 2,
            "linecolor": "#EBF0F8",
            "showbackground": true,
            "ticks": "",
            "zerolinecolor": "#EBF0F8"
           },
           "yaxis": {
            "backgroundcolor": "white",
            "gridcolor": "#DFE8F3",
            "gridwidth": 2,
            "linecolor": "#EBF0F8",
            "showbackground": true,
            "ticks": "",
            "zerolinecolor": "#EBF0F8"
           },
           "zaxis": {
            "backgroundcolor": "white",
            "gridcolor": "#DFE8F3",
            "gridwidth": 2,
            "linecolor": "#EBF0F8",
            "showbackground": true,
            "ticks": "",
            "zerolinecolor": "#EBF0F8"
           }
          },
          "shapedefaults": {
           "line": {
            "color": "#2a3f5f"
           }
          },
          "ternary": {
           "aaxis": {
            "gridcolor": "#DFE8F3",
            "linecolor": "#A2B1C6",
            "ticks": ""
           },
           "baxis": {
            "gridcolor": "#DFE8F3",
            "linecolor": "#A2B1C6",
            "ticks": ""
           },
           "bgcolor": "white",
           "caxis": {
            "gridcolor": "#DFE8F3",
            "linecolor": "#A2B1C6",
            "ticks": ""
           }
          },
          "title": {
           "x": 0.05
          },
          "xaxis": {
           "automargin": true,
           "gridcolor": "#EBF0F8",
           "linecolor": "#EBF0F8",
           "ticks": "",
           "title": {
            "standoff": 15
           },
           "zerolinecolor": "#EBF0F8",
           "zerolinewidth": 2
          },
          "yaxis": {
           "automargin": true,
           "gridcolor": "#EBF0F8",
           "linecolor": "#EBF0F8",
           "ticks": "",
           "title": {
            "standoff": 15
           },
           "zerolinecolor": "#EBF0F8",
           "zerolinewidth": 2
          }
         }
        },
        "title": {
         "text": "Secondary Data (Jarir) Rating Distribution"
        },
        "xaxis": {
         "anchor": "y2",
         "autorange": true,
         "domain": [
          0,
          1
         ],
         "range": [
          0,
          5
         ],
         "title": {
          "text": "Rating"
         },
         "type": "linear",
         "zeroline": false
        },
        "yaxis": {
         "anchor": "free",
         "autorange": true,
         "domain": [
          0,
          1
         ],
         "position": 0,
         "range": [
          -0.18146797711285947,
          3.6473218439966524
         ],
         "title": {
          "text": "Density"
         },
         "type": "linear"
        }
       }
      },
      "image/png": "[encoded data removed]",
      "text/html": [
       "<div>                            <div id=\"02890e85-2c05-4412-92d7-9bbe579c1844\" class=\"plotly-graph-div\" style=\"height:525px; width:100%;\"></div>            <script type=\"text/javascript\">                require([\"plotly\"], function(Plotly) {                    window.PLOTLYENV=window.PLOTLYENV || {};                                    if (document.getElementById(\"02890e85-2c05-4412-92d7-9bbe579c1844\")) {                    Plotly.newPlot(                        \"02890e85-2c05-4412-92d7-9bbe579c1844\",                        [{\"autobinx\":false,\"histnorm\":\"probability density\",\"legendgroup\":\"Secondary Data (Jarir)\",\"marker\":{\"color\":\"#a61718\"},\"name\":\"Secondary Data (Jarir)\",\"opacity\":0.7,\"x\":[5.0,4.5,4.7,5.0,5.0,4.8,4.9,4.9,5.0,4.3,5.0,5.0,4.7,4.6,4.9,4.9,4.4,4.3,4.9,5.0,5.0,4.4,5.0,4.3,4.8,4.6,5.0,5.0,4.5,5.0,4.8,5.0,5.0,4.7,4.9,4.2,5.0,3.7,5.0,5.0,4.7,5.0,5.0,4.8,5.0,4.7,5.0,5.0,5.0,5.0,4.0,3.5,5.0,5.0,5.0,5.0,5.0,5.0,5.0,5.0,5.0,5.0,5.0,5.0,4.5,4.0,5.0,5.0,4.7,5.0,5.0,4.5,5.0,5.0,5.0,4.5,4.3,5.0,4.0,5.0,5.0,4.0,4.0,5.0,5.0,5.0,5.0,5.0,5.0,5.0,5.0,2.3,4.0,5.0,5.0,5.0,5.0,5.0,5.0,5.0,5.0,5.0,5.0,5.0,5.0,5.0,5.0,5.0,5.0,5.0,5.0,5.0,5.0,5.0,5.0,5.0,5.0,5.0,4.3,5.0,5.0,5.0,4.0,5.0,5.0,5.0,5.0,5.0,5.0,5.0,5.0,5.0,5.0,5.0,5.0,5.0,0.0,0.0,0.0,0.0,0.0,0.0,0.0,0.0,0.0,0.0,0.0,0.0,0.0,0.0,0.0,0.0,5.0,0.0,0.0,0.0,0.0,0.0,0.0,0.0,0.0,0.0,0.0,0.0,0.0,0.0,0.0,0.0,0.0,0.0,0.0,0.0,0.0,0.0,0.0,0.0,0.0,0.0,0.0,0.0,0.0,0.0,0.0,0.0,0.0,0.0,0.0,0.0,0.0,0.0,0.0,0.0,0.0,0.0,0.0,0.0,0.0,0.0,0.0,0.0,0.0,0.0,0.0,0.0,0.0,0.0,0.0,0.0,5.0,0.0,0.0,0.0,0.0,0.0,0.0,0.0,5.0,0.0,0.0,0.0,0.0,0.0,0.0,0.0,5.0,0.0,4.9,0.0,0.0,0.0,0.0,0.0,0.0,5.0,0.0,0.0],\"xaxis\":\"x\",\"xbins\":{\"end\":5.0,\"size\":0.2,\"start\":0.0},\"yaxis\":\"y\",\"type\":\"histogram\"},{\"legendgroup\":\"Secondary Data (Jarir)\",\"marker\":{\"color\":\"#a61718\"},\"mode\":\"lines\",\"name\":\"Secondary Data (Jarir)\",\"showlegend\":false,\"x\":[0.0,0.01,0.02,0.03,0.04,0.05,0.06,0.07,0.08,0.09,0.1,0.11,0.12,0.13,0.14,0.15,0.16,0.17,0.18,0.19,0.2,0.21,0.22,0.23,0.24,0.25,0.26,0.27,0.28,0.29,0.3,0.31,0.32,0.33,0.34,0.35,0.36,0.37,0.38,0.39,0.4,0.41,0.42,0.43,0.44,0.45,0.46,0.47,0.48,0.49,0.5,0.51,0.52,0.53,0.54,0.55,0.56,0.57,0.58,0.59,0.6,0.61,0.62,0.63,0.64,0.65,0.66,0.67,0.68,0.69,0.7,0.71,0.72,0.73,0.74,0.75,0.76,0.77,0.78,0.79,0.8,0.81,0.82,0.83,0.84,0.85,0.86,0.87,0.88,0.89,0.9,0.91,0.92,0.93,0.94,0.95,0.96,0.97,0.98,0.99,1.0,1.01,1.02,1.03,1.04,1.05,1.06,1.07,1.08,1.09,1.1,1.11,1.12,1.13,1.14,1.15,1.16,1.17,1.18,1.19,1.2,1.21,1.22,1.23,1.24,1.25,1.26,1.27,1.28,1.29,1.3,1.31,1.32,1.33,1.34,1.35,1.36,1.37,1.38,1.39,1.4,1.41,1.42,1.43,1.44,1.45,1.46,1.47,1.48,1.49,1.5,1.51,1.52,1.53,1.54,1.55,1.56,1.57,1.58,1.59,1.6,1.61,1.62,1.63,1.64,1.65,1.66,1.67,1.68,1.69,1.7,1.71,1.72,1.73,1.74,1.75,1.76,1.77,1.78,1.79,1.8,1.81,1.82,1.83,1.84,1.85,1.86,1.87,1.88,1.89,1.9,1.91,1.92,1.93,1.94,1.95,1.96,1.97,1.98,1.99,2.0,2.01,2.02,2.03,2.04,2.05,2.06,2.07,2.08,2.09,2.1,2.11,2.12,2.13,2.14,2.15,2.16,2.17,2.18,2.19,2.2,2.21,2.22,2.23,2.24,2.25,2.26,2.27,2.28,2.29,2.3,2.31,2.32,2.33,2.34,2.35,2.36,2.37,2.38,2.39,2.4,2.41,2.42,2.43,2.44,2.45,2.46,2.47,2.48,2.49,2.5,2.51,2.52,2.53,2.54,2.55,2.56,2.57,2.58,2.59,2.6,2.61,2.62,2.63,2.64,2.65,2.66,2.67,2.68,2.69,2.7,2.71,2.72,2.73,2.74,2.75,2.76,2.77,2.78,2.79,2.8,2.81,2.82,2.83,2.84,2.85,2.86,2.87,2.88,2.89,2.9,2.91,2.92,2.93,2.94,2.95,2.96,2.97,2.98,2.99,3.0,3.01,3.02,3.03,3.04,3.05,3.06,3.07,3.08,3.09,3.1,3.11,3.12,3.13,3.14,3.15,3.16,3.17,3.18,3.19,3.2,3.21,3.22,3.23,3.24,3.25,3.26,3.27,3.28,3.29,3.3,3.31,3.32,3.33,3.34,3.35,3.36,3.37,3.38,3.39,3.4,3.41,3.42,3.43,3.44,3.45,3.46,3.47,3.48,3.49,3.5,3.51,3.52,3.53,3.54,3.55,3.56,3.57,3.58,3.59,3.6,3.61,3.62,3.63,3.64,3.65,3.66,3.67,3.68,3.69,3.7,3.71,3.72,3.73,3.74,3.75,3.76,3.77,3.78,3.79,3.8,3.81,3.82,3.83,3.84,3.85,3.86,3.87,3.88,3.89,3.9,3.91,3.92,3.93,3.94,3.95,3.96,3.97,3.98,3.99,4.0,4.01,4.02,4.03,4.04,4.05,4.06,4.07,4.08,4.09,4.1,4.11,4.12,4.13,4.14,4.15,4.16,4.17,4.18,4.19,4.2,4.21,4.22,4.23,4.24,4.25,4.26,4.27,4.28,4.29,4.3,4.31,4.32,4.33,4.34,4.35,4.36,4.37,4.38,4.39,4.4,4.41,4.42,4.43,4.44,4.45,4.46,4.47,4.48,4.49,4.5,4.51,4.52,4.53,4.54,4.55,4.56,4.57,4.58,4.59,4.6,4.61,4.62,4.63,4.64,4.65,4.66,4.67,4.68,4.69,4.7,4.71,4.72,4.73,4.74,4.75,4.76,4.77,4.78,4.79,4.8,4.81,4.82,4.83,4.84,4.85,4.86,4.87,4.88,4.89,4.9,4.91,4.92,4.93,4.94,4.95,4.96,4.97,4.98,4.99],\"xaxis\":\"x\",\"y\":[0.1986638035682964,0.1986495383080988,0.1986042848415478,0.1985280660598388,0.1984209193990767,0.19828289681199368,0.19811406472834864,0.1979145040040571,0.19768430985908939,0.19742359180422847,0.19713247355675337,0.19681109294513285,0.1964596018028556,0.19607816585148646,0.19566696457309796,0.19522619107219635,0.1947560519273071,0.1942567670323706,0.1937285694281242,0.193171705123648,0.19258643290827285,0.1919730241540453,0.19133176260897028,0.19066294418123964,0.189966876714693,0.18924387975573936,0.18849428431198736,0.1877184326028451,0.18691667780235408,0.18608938377451986,0.18523692480142623,0.18435968530441632,0.1834580595586284,0.18253245140118785,0.1815832739333569,0.18061094921694587,0.17961590796530766,0.1785985892292249,0.1775594400780125,0.17649891527616499,0.175417476955866,0.17431559428570076,0.17319374313589886,0.1720524057404413,0.17089207035636877,0.16971323092062718,0.16851638670478705,0.16730204196797385,0.16607070560835202,0.16482289081348342,0.1635591147099158,0.16227989801231577,0.1609857646724916,0.15967724152862828,0.15835485795505866,0.1570191455129032,0.15567063760188832,0.15430986911366643,0.15293737608694302,0.15155369536472485,0.15015936425398543,0.148754920188048,0.14734090039197606,0.1459178415512587,0.14448627948406725,0.14304674881735838,0.14159978266709008,0.14014591232280776,0.13868566693685355,0.1372195732184453,0.13574815513285604,0.13427193360593073,0.13279142623415316,0.1313071470004835,0.12981960599616268,0.12832930914868368,0.12683675795611615,0.125342449227958,0.12384687483268905,0.12235052145217916,0.120853870343109,0.11935739710553493,0.11786157145873781,0.11636685702447708,0.11487371111775521,0.1133825845452053,0.11189392141119515,0.11040815893172008,0.10892572725617794,0.10744704929707834,0.10597254056774535,0.10450260902806795,0.10303765493832133,0.10157807072110685,0.1001242408314114,0.09867654163480954,0.09723534129380725,0.09580099966231688,0.0943738681882501,0.0929542898242087,0.09154259894623501,0.09013912128058525,0.08874417383847744,0.08735806485875727,0.08598109375841996,0.08461355109091376,0.0832557185121535,0.08190786875415196,0.08057026560618515,0.07924316390338514,0.07792680952266327,0.07662143938585077,0.07532728146994022,0.07404455482430415,0.0727734695947693,0.07151422705441002,0.07026701964092445,0.06903203100045306,0.06780943603769427,0.06659940097216475,0.06540208340045477,0.06421763236431778,0.06304618842443485,0.06188788373969261,0.060742842151806066,0.05961117927511828,0.05849300259140495,0.05738841154951583,0.05629749766966967,0.05522034465223531,0.05415702849081496,0.05310761758945587,0.05207217288380712,0.05105074796604414,0.05004338921338241,0.049050135919994096,0.048071020432156046,0.04710606828644118,0.04615529835078109,0.04521872296821521,0.04429634810315533,0.043388173489983826,0.042494192783814555,0.041614393713239835,0.040748758234895904,0.03989726268967262,0.039059877960403645,0.03823656963086752,0.0374272981459413,0.036632018972742424,0.035850682762600755,0.03508323551370877,0.03432961873429417,0.0335897696061668,0.0328636211484938,0.03215110238165996,0.03145213849107277,0.030766650990776762,0.030094557886743232,0.02943577383970713,0.02879021032742433,0.028157775806228042,0.02753837587176584,0.026931913418801995,0.026338288799975254,0.025757399983405427,0.02518914270904469,0.024633410643674615,0.024090095534455142,0.02355908736093278,0.023040274485419943,0.02253354380166501,0.02203878088172946,0.02155587012100048,0.021084694881263445,0.02062513763176954,0.020177080088232203,0.019740403349692917,0.0193149880332,0.01890071440624664,0.018497462516919614,0.01810511232171276,0.017723543810963013,0.017352637131870637,0.01699227270906801,0.016642331362705588,0.016302694424025578,0.015973243848399567,0.015653862325806,0.015344433388729086,0.015044841517463865,0.014754972242812069,0.014474712246160088,0.014203949456930157,0.013942573147400052,0.013690474024888813,0.013447544321307053,0.013213677880075752,0.01298877024041712,0.012772718719023222,0.012565422489112656,0.012366782656885001,0.012176702335384752,0.011995086715790963,0.01182184313614639,0.011656881147545015,0.011500112577796508,0.011351451592588347,0.01121081475416597,0.011078121077555894,0.01095329208435432,0.010836251854106353,0.010726927073301935,0.010625247082016027,0.010531143918218702,0.0104445523597846,0.010365409964230722,0.010293657106209792,0.010229237012791017,0.010172095796556575,0.010122182486544059,0.010079449057065381,0.010043850454432549,0.010015344621619834,0.00999389252089286,0.009979458154434588,0.009972008582998305,0.00997151394261611,0.009977947459392764,0.009991285462413296,0.010011507394792611,0.010038595822894803,0.010072536443748633,0.010113318090686454,0.010160932737231464,0.010215375499259027,0.01027664463545443,0.010344741546093427,0.010419670770164546,0.010501439980857145,0.010590059979434418,0.010685544687511737,0.01078791113775733,0.010897179463036102,0.011013372884007909,0.011136517695201513,0.01126664324957273,0.011403781941564694,0.011547969188678849,0.011699243411569799,0.011857646012671488,0.012023221353365383,0.012196016729697279,0.012376082346647362,0.012563471290961118,0.012758239502543782,0.012960445744420904,0.013170151571266563,0.013387421296500404,0.013612321957953323,0.013844923282098015,0.014085297646845072,0.014333520042896593,0.014589668033657452,0.014853821713694182,0.015126063665738378,0.01540647891622405,0.015695154889352435,0.015992181359675478,0.016297650403185572,0.016611656346904077,0.01693429571695398,0.017265667185107598,0.017605871513794648,0.017955011499557732,0.018313191914944116,0.01868051944881515,0.01905710264506431,0.019443051839724862,0.019838479096454625,0.020243498140381337,0.020658224290297424,0.021082774389181498,0.021517266733039754,0.021961820998047853,0.022416558165977585,0.022881600447899976,0.023357071206142443,0.023843094874492685,0.02433979687663515,0.024847303542805062,0.025365742024652235,0.025895240208298507,0.026435926625586914,0.026987930363502374,0.02755138097176837,0.028126408368601755,0.02871314274462797,0.029311714464945987,0.029922253969347595,0.03054489167068231,0.031179757851370584,0.031826982558070586,0.03248669549449788,0.033159025912405056,0.033844102500726336,0.03454205327290615,0.035253005452406304,0.035977085356424056,0.0367144182778234,0.03746512836530569,0.03822933850183457,0.03900717018134861,0.03979874338377291,0.04060417644837358,0.0414235859454753,0.04225708654658432,0.04310479089294628,0.043966809462587006,0.044843250435874005,0.045734219559647675,0.04663982000996793,0.04756015225353741,0.048495313907845596,0.049445399600100956,0.050410500825015477,0.05139070580149723,0.052386099328327614,0.05339676263890323,0.054422773255097937,0.0554642048403471,0.056521127052023,0.057593605393191506,0.058681701063843864,0.05978547081169152,0.06090496678262909,0.06204023637095227,0.06319132206945316,0.06435826131948288,0.06554108636110963,0.0667398240834631,0.06795449587541758,0.06918511747669163,0.07043169882953185,0.07169424393106932,0.07297275068651411,0.07426721076328997,0.07557760944627043,0.07690392549424083,0.07824613099772558,0.07960419123835523,0.08097806454986338,0.08236770218093482,0.08377304815998568,0.08519403916208745,0.08663060437815338,0.08808266538657095,0.08955013602740813,0.09103292227940328,0.0925309221398426,0.09404402550754505,0.09557211406908403,0.09711506118841254,0.09867273180009355,0.10024498230625067,0.10183166047745677,0.10343260535769,0.10504764717354988,0.10667660724788783,0.10831929791802217,0.10997552245871238,0.11164507501004081,0.1133277405103767,0.11502329463459475,0.11673150373768518,0.11845212480392907,0.12018490540181,0.12192958364477831,0.12368588815806418,0.1254535380516511,0.12723224289958082,0.12902170272572355,0.1308216079961513,0.13263163961824062,0.13445146894667445,0.13628075779639728,0.13811915846273368,0.13996631374871177,0.14182185699974675,0.14368541214578248,0.14555659375097157,0.1474350070710288,0.14932024811830608,0.15121190373469612,0.1531095516724334,0.15501276068286146,0.15692109061322618,0.15883409251155936,0.16075130873969506,0.1626722730944521,0.16459651093701563,0.1665235393305662,0.1684528671861375,0.17038399541672683,0.17231641709966197,0.17424961764721186,0.17618307498541674,0.1781162597411105,0.18004863543711544,0.18197965869554125,0.1839087794491516,0.18583544116072584,0.18775908105034153,0.18967913033049552,0.1915950144489889,0.1935061533394405,0.19541196167934247,0.19731184915553526,0.19920522073695912,0.20109147695456064,0.20297001418817964,0.2048402249602805,0.20670149823634168,0.20855321973175328,0.2103947722249926,0.21222553587692256,0.2140448885559703,0.21585220616901932,0.21764686299773373,0.2194282320401298,0.22119568535714088,0.22294859442390677,0.22468633048555267,0.226408264917202,0.22811376958792148,0.22980221722833408,0.23147298180161222,0.2331254388775721,0.23475896600953403,0.23637294311367188,0.23796675285053104,0.23953978100838597,0.2410914168881312,0.24262105368936138,0.24412808889731355,0.2456119246703303,0.24707196822751756,0.24850763223620856,0.24991833519894935,0.2513035018395962,0.25266256348819677,0.25399495846430525,0.25530013245836153,0.2565775389107704,0.2578266393883367,0.2590469039576887,0.2602378115553319,0.26139885035396243,0.2625295181247257,0.2636293225949604,0.26469778180123393,0.2657344244371555,0.26673879019571406,0.2677104301057669,0.26864890686234094,0.2695537951504018,0.2704246819617472,0.2712611669047434,0.27206286250649814,0.27282939450725674,0.2735604021465908,0.27425553844121825,0.2749144704539965,0.275536879553935,0.27612246166689197,0.27667092751663264,0.27718200285610345,0.27765542868854476,0.27809096147826484,0.2784883733508331,0.278847452282445,0.2791680022782524,0.2794498435394827,0.27969281261908197,0.27989676256578133,0.28006156305639013,0.2801871005160881,0.28027327822671644,0.28032001642274834,0.2803272523750189,0.2802949404618994,0.2802230522280186,0.28011157643026635,0.2799605190711623,0.27976990341943136,0.2795397700177786,0.2792701766778593,0.278961198462368,0.2786129276542962,0.27822547371337647],\"yaxis\":\"y\",\"type\":\"scatter\"}],                        {\"barmode\":\"overlay\",\"hovermode\":\"closest\",\"legend\":{\"traceorder\":\"reversed\"},\"xaxis\":{\"anchor\":\"y2\",\"domain\":[0.0,1.0],\"zeroline\":false,\"title\":{\"text\":\"Rating\"}},\"yaxis\":{\"anchor\":\"free\",\"domain\":[0.0,1],\"position\":0.0,\"title\":{\"text\":\"Density\"}},\"template\":{\"data\":{\"barpolar\":[{\"marker\":{\"line\":{\"color\":\"white\",\"width\":0.5},\"pattern\":{\"fillmode\":\"overlay\",\"size\":10,\"solidity\":0.2}},\"type\":\"barpolar\"}],\"bar\":[{\"error_x\":{\"color\":\"#2a3f5f\"},\"error_y\":{\"color\":\"#2a3f5f\"},\"marker\":{\"line\":{\"color\":\"white\",\"width\":0.5},\"pattern\":{\"fillmode\":\"overlay\",\"size\":10,\"solidity\":0.2}},\"type\":\"bar\"}],\"carpet\":[{\"aaxis\":{\"endlinecolor\":\"#2a3f5f\",\"gridcolor\":\"#C8D4E3\",\"linecolor\":\"#C8D4E3\",\"minorgridcolor\":\"#C8D4E3\",\"startlinecolor\":\"#2a3f5f\"},\"baxis\":{\"endlinecolor\":\"#2a3f5f\",\"gridcolor\":\"#C8D4E3\",\"linecolor\":\"#C8D4E3\",\"minorgridcolor\":\"#C8D4E3\",\"startlinecolor\":\"#2a3f5f\"},\"type\":\"carpet\"}],\"choropleth\":[{\"colorbar\":{\"outlinewidth\":0,\"ticks\":\"\"},\"type\":\"choropleth\"}],\"contourcarpet\":[{\"colorbar\":{\"outlinewidth\":0,\"ticks\":\"\"},\"type\":\"contourcarpet\"}],\"contour\":[{\"colorbar\":{\"outlinewidth\":0,\"ticks\":\"\"},\"colorscale\":[[0.0,\"#0d0887\"],[0.1111111111111111,\"#46039f\"],[0.2222222222222222,\"#7201a8\"],[0.3333333333333333,\"#9c179e\"],[0.4444444444444444,\"#bd3786\"],[0.5555555555555556,\"#d8576b\"],[0.6666666666666666,\"#ed7953\"],[0.7777777777777778,\"#fb9f3a\"],[0.8888888888888888,\"#fdca26\"],[1.0,\"#f0f921\"]],\"type\":\"contour\"}],\"heatmapgl\":[{\"colorbar\":{\"outlinewidth\":0,\"ticks\":\"\"},\"colorscale\":[[0.0,\"#0d0887\"],[0.1111111111111111,\"#46039f\"],[0.2222222222222222,\"#7201a8\"],[0.3333333333333333,\"#9c179e\"],[0.4444444444444444,\"#bd3786\"],[0.5555555555555556,\"#d8576b\"],[0.6666666666666666,\"#ed7953\"],[0.7777777777777778,\"#fb9f3a\"],[0.8888888888888888,\"#fdca26\"],[1.0,\"#f0f921\"]],\"type\":\"heatmapgl\"}],\"heatmap\":[{\"colorbar\":{\"outlinewidth\":0,\"ticks\":\"\"},\"colorscale\":[[0.0,\"#0d0887\"],[0.1111111111111111,\"#46039f\"],[0.2222222222222222,\"#7201a8\"],[0.3333333333333333,\"#9c179e\"],[0.4444444444444444,\"#bd3786\"],[0.5555555555555556,\"#d8576b\"],[0.6666666666666666,\"#ed7953\"],[0.7777777777777778,\"#fb9f3a\"],[0.8888888888888888,\"#fdca26\"],[1.0,\"#f0f921\"]],\"type\":\"heatmap\"}],\"histogram2dcontour\":[{\"colorbar\":{\"outlinewidth\":0,\"ticks\":\"\"},\"colorscale\":[[0.0,\"#0d0887\"],[0.1111111111111111,\"#46039f\"],[0.2222222222222222,\"#7201a8\"],[0.3333333333333333,\"#9c179e\"],[0.4444444444444444,\"#bd3786\"],[0.5555555555555556,\"#d8576b\"],[0.6666666666666666,\"#ed7953\"],[0.7777777777777778,\"#fb9f3a\"],[0.8888888888888888,\"#fdca26\"],[1.0,\"#f0f921\"]],\"type\":\"histogram2dcontour\"}],\"histogram2d\":[{\"colorbar\":{\"outlinewidth\":0,\"ticks\":\"\"},\"colorscale\":[[0.0,\"#0d0887\"],[0.1111111111111111,\"#46039f\"],[0.2222222222222222,\"#7201a8\"],[0.3333333333333333,\"#9c179e\"],[0.4444444444444444,\"#bd3786\"],[0.5555555555555556,\"#d8576b\"],[0.6666666666666666,\"#ed7953\"],[0.7777777777777778,\"#fb9f3a\"],[0.8888888888888888,\"#fdca26\"],[1.0,\"#f0f921\"]],\"type\":\"histogram2d\"}],\"histogram\":[{\"marker\":{\"pattern\":{\"fillmode\":\"overlay\",\"size\":10,\"solidity\":0.2}},\"type\":\"histogram\"}],\"mesh3d\":[{\"colorbar\":{\"outlinewidth\":0,\"ticks\":\"\"},\"type\":\"mesh3d\"}],\"parcoords\":[{\"line\":{\"colorbar\":{\"outlinewidth\":0,\"ticks\":\"\"}},\"type\":\"parcoords\"}],\"pie\":[{\"automargin\":true,\"type\":\"pie\"}],\"scatter3d\":[{\"line\":{\"colorbar\":{\"outlinewidth\":0,\"ticks\":\"\"}},\"marker\":{\"colorbar\":{\"outlinewidth\":0,\"ticks\":\"\"}},\"type\":\"scatter3d\"}],\"scattercarpet\":[{\"marker\":{\"colorbar\":{\"outlinewidth\":0,\"ticks\":\"\"}},\"type\":\"scattercarpet\"}],\"scattergeo\":[{\"marker\":{\"colorbar\":{\"outlinewidth\":0,\"ticks\":\"\"}},\"type\":\"scattergeo\"}],\"scattergl\":[{\"marker\":{\"colorbar\":{\"outlinewidth\":0,\"ticks\":\"\"}},\"type\":\"scattergl\"}],\"scattermapbox\":[{\"marker\":{\"colorbar\":{\"outlinewidth\":0,\"ticks\":\"\"}},\"type\":\"scattermapbox\"}],\"scatterpolargl\":[{\"marker\":{\"colorbar\":{\"outlinewidth\":0,\"ticks\":\"\"}},\"type\":\"scatterpolargl\"}],\"scatterpolar\":[{\"marker\":{\"colorbar\":{\"outlinewidth\":0,\"ticks\":\"\"}},\"type\":\"scatterpolar\"}],\"scatter\":[{\"fillpattern\":{\"fillmode\":\"overlay\",\"size\":10,\"solidity\":0.2},\"type\":\"scatter\"}],\"scatterternary\":[{\"marker\":{\"colorbar\":{\"outlinewidth\":0,\"ticks\":\"\"}},\"type\":\"scatterternary\"}],\"surface\":[{\"colorbar\":{\"outlinewidth\":0,\"ticks\":\"\"},\"colorscale\":[[0.0,\"#0d0887\"],[0.1111111111111111,\"#46039f\"],[0.2222222222222222,\"#7201a8\"],[0.3333333333333333,\"#9c179e\"],[0.4444444444444444,\"#bd3786\"],[0.5555555555555556,\"#d8576b\"],[0.6666666666666666,\"#ed7953\"],[0.7777777777777778,\"#fb9f3a\"],[0.8888888888888888,\"#fdca26\"],[1.0,\"#f0f921\"]],\"type\":\"surface\"}],\"table\":[{\"cells\":{\"fill\":{\"color\":\"#EBF0F8\"},\"line\":{\"color\":\"white\"}},\"header\":{\"fill\":{\"color\":\"#C8D4E3\"},\"line\":{\"color\":\"white\"}},\"type\":\"table\"}]},\"layout\":{\"annotationdefaults\":{\"arrowcolor\":\"#2a3f5f\",\"arrowhead\":0,\"arrowwidth\":1},\"autotypenumbers\":\"strict\",\"coloraxis\":{\"colorbar\":{\"outlinewidth\":0,\"ticks\":\"\"}},\"colorscale\":{\"diverging\":[[0,\"#8e0152\"],[0.1,\"#c51b7d\"],[0.2,\"#de77ae\"],[0.3,\"#f1b6da\"],[0.4,\"#fde0ef\"],[0.5,\"#f7f7f7\"],[0.6,\"#e6f5d0\"],[0.7,\"#b8e186\"],[0.8,\"#7fbc41\"],[0.9,\"#4d9221\"],[1,\"#276419\"]],\"sequential\":[[0.0,\"#0d0887\"],[0.1111111111111111,\"#46039f\"],[0.2222222222222222,\"#7201a8\"],[0.3333333333333333,\"#9c179e\"],[0.4444444444444444,\"#bd3786\"],[0.5555555555555556,\"#d8576b\"],[0.6666666666666666,\"#ed7953\"],[0.7777777777777778,\"#fb9f3a\"],[0.8888888888888888,\"#fdca26\"],[1.0,\"#f0f921\"]],\"sequentialminus\":[[0.0,\"#0d0887\"],[0.1111111111111111,\"#46039f\"],[0.2222222222222222,\"#7201a8\"],[0.3333333333333333,\"#9c179e\"],[0.4444444444444444,\"#bd3786\"],[0.5555555555555556,\"#d8576b\"],[0.6666666666666666,\"#ed7953\"],[0.7777777777777778,\"#fb9f3a\"],[0.8888888888888888,\"#fdca26\"],[1.0,\"#f0f921\"]]},\"colorway\":[\"#636efa\",\"#EF553B\",\"#00cc96\",\"#ab63fa\",\"#FFA15A\",\"#19d3f3\",\"#FF6692\",\"#B6E880\",\"#FF97FF\",\"#FECB52\"],\"font\":{\"color\":\"#2a3f5f\"},\"geo\":{\"bgcolor\":\"white\",\"lakecolor\":\"white\",\"landcolor\":\"white\",\"showlakes\":true,\"showland\":true,\"subunitcolor\":\"#C8D4E3\"},\"hoverlabel\":{\"align\":\"left\"},\"hovermode\":\"closest\",\"mapbox\":{\"style\":\"light\"},\"paper_bgcolor\":\"white\",\"plot_bgcolor\":\"white\",\"polar\":{\"angularaxis\":{\"gridcolor\":\"#EBF0F8\",\"linecolor\":\"#EBF0F8\",\"ticks\":\"\"},\"bgcolor\":\"white\",\"radialaxis\":{\"gridcolor\":\"#EBF0F8\",\"linecolor\":\"#EBF0F8\",\"ticks\":\"\"}},\"scene\":{\"xaxis\":{\"backgroundcolor\":\"white\",\"gridcolor\":\"#DFE8F3\",\"gridwidth\":2,\"linecolor\":\"#EBF0F8\",\"showbackground\":true,\"ticks\":\"\",\"zerolinecolor\":\"#EBF0F8\"},\"yaxis\":{\"backgroundcolor\":\"white\",\"gridcolor\":\"#DFE8F3\",\"gridwidth\":2,\"linecolor\":\"#EBF0F8\",\"showbackground\":true,\"ticks\":\"\",\"zerolinecolor\":\"#EBF0F8\"},\"zaxis\":{\"backgroundcolor\":\"white\",\"gridcolor\":\"#DFE8F3\",\"gridwidth\":2,\"linecolor\":\"#EBF0F8\",\"showbackground\":true,\"ticks\":\"\",\"zerolinecolor\":\"#EBF0F8\"}},\"shapedefaults\":{\"line\":{\"color\":\"#2a3f5f\"}},\"ternary\":{\"aaxis\":{\"gridcolor\":\"#DFE8F3\",\"linecolor\":\"#A2B1C6\",\"ticks\":\"\"},\"baxis\":{\"gridcolor\":\"#DFE8F3\",\"linecolor\":\"#A2B1C6\",\"ticks\":\"\"},\"bgcolor\":\"white\",\"caxis\":{\"gridcolor\":\"#DFE8F3\",\"linecolor\":\"#A2B1C6\",\"ticks\":\"\"}},\"title\":{\"x\":0.05},\"xaxis\":{\"automargin\":true,\"gridcolor\":\"#EBF0F8\",\"linecolor\":\"#EBF0F8\",\"ticks\":\"\",\"title\":{\"standoff\":15},\"zerolinecolor\":\"#EBF0F8\",\"zerolinewidth\":2},\"yaxis\":{\"automargin\":true,\"gridcolor\":\"#EBF0F8\",\"linecolor\":\"#EBF0F8\",\"ticks\":\"\",\"title\":{\"standoff\":15},\"zerolinecolor\":\"#EBF0F8\",\"zerolinewidth\":2}}},\"title\":{\"text\":\"Secondary Data (Jarir) Rating Distribution\"}},                        {\"responsive\": true}                    ).then(function(){\n",
       "                            \n",
       "var gd = document.getElementById('02890e85-2c05-4412-92d7-9bbe579c1844');\n",
       "var x = new MutationObserver(function (mutations, observer) {{\n",
       "        var display = window.getComputedStyle(gd).display;\n",
       "        if (!display || display === 'none') {{\n",
       "            console.log([gd, 'removed!']);\n",
       "            Plotly.purge(gd);\n",
       "            observer.disconnect();\n",
       "        }}\n",
       "}});\n",
       "\n",
       "// Listen for the removal of the full notebook cells\n",
       "var notebookContainer = gd.closest('#notebook-container');\n",
       "if (notebookContainer) {{\n",
       "    x.observe(notebookContainer, {childList: true});\n",
       "}}\n",
       "\n",
       "// Listen for the clearing of the current output cell\n",
       "var outputEl = gd.closest('.output');\n",
       "if (outputEl) {{\n",
       "    x.observe(outputEl, {childList: true});\n",
       "}}\n",
       "\n",
       "                        })                };                });            </script>        </div>"
      ]
     },
     "metadata": {},
     "output_type": "display_data"
    }
   ],
   "source": [
    "import plotly.figure_factory as ff\n",
    "import numpy as np\n",
    "import pandas as pd\n",
    "\n",
    "# Sample Data (Replace with actual dataset)\n",
    "np.random.seed(42)\n",
    "primary_ratings = np.random.uniform(0, 4.9, 300)\n",
    "secondary_ratings = np.random.uniform(0, 5, 300)\n",
    "\n",
    "# Create separate plots\n",
    "fig_primary = ff.create_distplot([prior_processed_amazon['Rating']], [\"Primary Data (Amazon)\"], \n",
    "                                 bin_size=0.2, show_hist=True, show_rug=False, colors=['#27308a'])\n",
    "\n",
    "fig_secondary = ff.create_distplot([prior_processed_jarir['Rating']], [\"Secondary Data (Jarir)\"], \n",
    "                                   bin_size=0.2, show_hist=True, show_rug=False, colors=['#a61718'])\n",
    "\n",
    "# Update layout for primary\n",
    "fig_primary.update_layout(title=\"Primary Data (Amazon) Rating Distribution\",\n",
    "                          xaxis_title=\"Rating\", yaxis_title=\"Density\", template=\"plotly_white\")\n",
    "\n",
    "# Update layout for secondary\n",
    "fig_secondary.update_layout(title=\"Secondary Data (Jarir) Rating Distribution\",\n",
    "                            xaxis_title=\"Rating\", yaxis_title=\"Density\", template=\"plotly_white\")\n",
    "\n",
    "# Show figures separately\n",
    "fig_primary.show()\n",
    "fig_secondary.show()\n"
   ]
  },
  {
   "cell_type": "markdown",
   "metadata": {},
   "source": [
    "### Primary Data (Amazon) - Rating Insights\n",
    "- The majority of books have high ratings (close to 5).\n",
    "- The distribution is right-skewed, with a strong peak near 5.\n",
    "- Very few books have ratings below 4.\n",
    "\n",
    "### Secondary Data (Jarir)  - Rating Insights\n",
    "- A large proportion of books have ratings near 0.\n",
    "- Ratings are spread out across the spectrum, but the majority are either very low or very high.\n",
    "- The pattern suggests either a lack of user engagement in rating books or a difference in rating culture.\n",
    "\n",
    "### Comparison of Key Metrics:\n",
    "- Amazon (Primary Data): Ratings are highly concentrated around 4.5-5, with very few low ratings.\n",
    "- Jarir (Secondary Data): Ratings are bimodal, with a large portion around 0 and some around 4-5.\n",
    "- Key Difference: Amazon books generally receive higher and more consistent ratings, while Jarir books show a mix of very low and very high ratings.\n",
    "### Contextualize Findings\n",
    "**Validation of Primary Data:**\n",
    "- The Amazon dataset suggests that most books are well-rated, which aligns with general trends on large e-commerce platforms where customers tend to leave positive reviews.\n",
    "High ratings could indicate popular and well-reviewed books with a strong reviewing culture among Amazon users.\n",
    "\n",
    "**Contradictions & Possible Explanations:**\n",
    "- The presence of many 0-rated books in Jarir suggests a difference in customer engagement—perhaps users on Jarir do not frequently rate books.\n",
    "- Jarir’s lack of engagement in reviews could lead to books either having no ratings (defaulting to 0).\n",
    "- Possible factors: Depend on external Rating, regional behavior, or platform mechanisms for leaving reviews.\n"
   ]
  },
  {
   "cell_type": "markdown",
   "metadata": {},
   "source": [
    "###  **Categorical Attributes**\n",
    "###  Lollipop plot (Auther)"
   ]
  },
  {
   "cell_type": "code",
   "execution_count": 606,
   "metadata": {},
   "outputs": [
    {
     "data": {
      "image/png": "[encoded data removed]",
      "text/plain": [
       "<Figure size 1600x600 with 2 Axes>"
      ]
     },
     "metadata": {},
     "output_type": "display_data"
    }
   ],
   "source": [
    "import matplotlib.pyplot as plt\n",
    "import numpy as np\n",
    "\n",
    "# Count the top 15 most frequent authors\n",
    "top_authors_amazon = prior_processed_amazon[\"Author\"].value_counts().nlargest(15)\n",
    "top_authors_jarir = prior_processed_jarir[\"Author\"].value_counts().nlargest(15)\n",
    "\n",
    "# Define figure\n",
    "fig, axes = plt.subplots(1, 2, figsize=(16, 6), sharex=True)\n",
    "\n",
    "# Amazon Lollipop Chart\n",
    "axes[0].stem(top_authors_amazon.values, linefmt=\"b-\", markerfmt=\"bo\", basefmt=\" \")\n",
    "axes[0].set_xticks(np.arange(len(top_authors_amazon)))\n",
    "axes[0].set_xticklabels(top_authors_amazon.index, rotation=90)\n",
    "axes[0].set_title(\"Top 15 Authors (Amazon)\", fontsize=22)\n",
    "axes[0].set_ylabel(\"Book Count\")\n",
    "\n",
    "# Jarir Lollipop Chart\n",
    "axes[1].stem(top_authors_jarir.values, linefmt=\"r-\", markerfmt=\"ro\", basefmt=\" \")\n",
    "axes[1].set_xticks(np.arange(len(top_authors_jarir)))\n",
    "axes[1].set_xticklabels(top_authors_jarir.index, rotation=90)\n",
    "axes[1].set_title(\"Top 15 Authors (Jarir)\", fontsize=22)\n",
    "\n",
    "plt.tight_layout()\n",
    "plt.show()\n"
   ]
  },
  {
   "cell_type": "markdown",
   "metadata": {},
   "source": [
    "**Note:** We do not unify the scale since excessive white space would be annoying and make interpretation difficult. Always keep in mind that the primary dataset (Amazon) is smaller in size than the secondary dataset (Jarir)."
   ]
  },
  {
   "cell_type": "markdown",
   "metadata": {},
   "source": [
    "### Primary Data (Amazon) - Author Insights\n",
    "**Most Frequent Authors:**\n",
    "1. Greer’s Library (translated from Arabic, actually Jarir Bookstore) and Agatha Christie have the highest number of books (~5 each).\n",
    "2. Most other authors have only 1-2 books, indicating a broad diversity of authors with relatively small individual contributions.\n",
    "**Interpretation**\n",
    "Amazon’s catalog seems to contain a mix of well-known and niche authors, providing a wider selection.\n",
    "\n",
    "### Secondary Data (Jarir) - Author Insights\n",
    "**Most Frequent Authors:**\n",
    "1. Greer’s Library (Jarir Bookstore) is the dominant author, with ~25 books.\n",
    "2. Agatha Christie also has a stronger presence (~15 books).\n",
    "3. Other authors have a gradual drop in count.\n",
    "4. Seeing Unknown as one of the top-ranked authors is unusual and suggests potential data issues or an interesting pattern.\n",
    "\n",
    "### Comparison of Key Metrics\n",
    "| **Metric**               | **Amazon (Primary)**      | **Jarir (Secondary)**  |\n",
    "|-------------------------|------------------------|----------------------|\n",
    "| **Most Common Author**   | Greer’s Library (5 books) | Greer’s Library (25 books) |\n",
    "| **Second Most Common**   | Agatha Christie (5 books) | Agatha Christie (15 books) |\n",
    "| **Average Books per Author** | ~1.5 | ~3.2 |\n",
    "\n",
    "### Contextualize Findings\n",
    "\n",
    "**Validation of Primary Data:**\n",
    "\n",
    "- The pattern of Greer’s Library and Agatha Christie being top authors exists in both datasets, confirming that these authors are genuinely popular.\n",
    "- This suggests that the primary data is reliable in identifying key authors. \n",
    "\n",
    "\n",
    "**.\r\n",
    "Contradictions & Possible Explanatio**ns:\n",
    "- The book count per author is much higher in Jarir, which is mostly due **Jarir having a wider dataset**. \n",
    "  \n",
    "\n",
    "### Findings\n",
    "-  **Jarir has a higher concentration** of books from top authors compared to Amazon.\n",
    "-  **Amazon has a more diverse author distribution**, with a wider range of unique authors but fewer books per author.\n",
    "-   The dominance of *Greer’s Library (Jarir)* is much **stronger in Jarir’s dataset** than in Amazon’s.\n",
    "-  Since **Jarir is a well-established bookstore**, its published and distributed books dominate bestsellers.\n",
    "- **\"Unknown\"** appears in the top three in both datasets, which is unusual and suggests either data issues or an interesting market trend.\n",
    "  ##### Possible Explanations\n",
    "   - Data Entry Issues or Missing Information.\n",
    "   - Books Popular for Their Content, Not the Author.\n",
    "   - Possible Dominance of Anonymous or Collective Works: Some books may be written by multiple authors, institutions.\n",
    "\n",
    "- **Merging** \"Greer Library\" and \"Greer Library Issues\"."
   ]
  },
  {
   "cell_type": "markdown",
   "metadata": {},
   "source": [
    "### 2. Barplot (Genre)"
   ]
  },
  {
   "cell_type": "code",
   "execution_count": 608,
   "metadata": {},
   "outputs": [
    {
     "name": "stderr",
     "output_type": "stream",
     "text": [
      "C:\\Users\\Fahad\\AppData\\Local\\Temp\\ipykernel_25004\\2160773682.py:11: FutureWarning: \n",
      "\n",
      "Passing `palette` without assigning `hue` is deprecated and will be removed in v0.14.0. Assign the `y` variable to `hue` and set `legend=False` for the same effect.\n",
      "\n",
      "  sns.barplot(y=genre_counts_amazon.index, x=genre_counts_amazon.values, ax=axes[0], palette=\"Blues_r\")\n",
      "C:\\Users\\Fahad\\AppData\\Local\\Temp\\ipykernel_25004\\2160773682.py:16: FutureWarning: \n",
      "\n",
      "Passing `palette` without assigning `hue` is deprecated and will be removed in v0.14.0. Assign the `y` variable to `hue` and set `legend=False` for the same effect.\n",
      "\n",
      "  sns.barplot(y=genre_counts_jarir.index, x=genre_counts_jarir.values, ax=axes[1], palette=\"Reds_r\")\n"
     ]
    },
    {
     "data": {
      "image/png": "[encoded data removed]",
      "text/plain": [
       "<Figure size 1600x600 with 2 Axes>"
      ]
     },
     "metadata": {},
     "output_type": "display_data"
    }
   ],
   "source": [
    "import matplotlib.pyplot as plt\n",
    "import seaborn as sns\n",
    "\n",
    "# Count the occurrences of each genre\n",
    "genre_counts_amazon = prior_processed_amazon[\"Genre\"].value_counts()\n",
    "genre_counts_jarir = prior_processed_jarir[\"Genre\"].value_counts()\n",
    "\n",
    "# Plot side-by-side bar charts\n",
    "fig, axes = plt.subplots(1, 2, figsize=(16, 6), sharey=True)\n",
    "\n",
    "sns.barplot(y=genre_counts_amazon.index, x=genre_counts_amazon.values, ax=axes[0], palette=\"Blues_r\")\n",
    "axes[0].set_title(\"Primary Data (Amazon) - Genre Distribution\", fontsize=22)\n",
    "axes[0].set_xlabel(\"Count\")\n",
    "axes[0].set_ylabel(\"Genre\")\n",
    "\n",
    "sns.barplot(y=genre_counts_jarir.index, x=genre_counts_jarir.values, ax=axes[1], palette=\"Reds_r\")\n",
    "axes[1].set_title(\"Secondary Dat (Jarir) - Genre Distribution\", fontsize=22)\n",
    "axes[1].set_xlabel(\"Count\")\n",
    "axes[1].set_ylabel(\"\")\n",
    "\n",
    "plt.show()\n"
   ]
  },
  {
   "cell_type": "markdown",
   "metadata": {},
   "source": [
    "**Note:** We do not unify the scale since excessive white space would be annoying and make interpretation difficult. Always keep in mind that the primary dataset (Amazon) is smaller in size than the secondary dataset (Jarir)."
   ]
  },
  {
   "cell_type": "markdown",
   "metadata": {},
   "source": [
    "### Primary Data (Amazon) - Genre Insights\n",
    "\n",
    "- **Prominent Genres:** The \"Children & Young Adults\" genre dominates with the highest count, followed by \"Fiction Genres,\" \"Self-Help & Personal Development,\" and other categories such as \"Arts, Crafts, & Hobbies\" and \"Psychology & Philosophy.\" \n",
    "- The count distribution in Amazon data is fairly wide across genres, with a noticeable peak for the top genres (especially \"Children & Young Adults\"), tapering off as the genres become more niche. \n",
    "   \n",
    "### Secondary Data (Jarir) - Genre Insights\n",
    "- **Prominent Genres:** The \"Children & Young Adults\" genre leads in the Jarir dataset, but there is a much steeper drop-off in counts for genres after the initial leading genre.\n",
    "- The rest of the genres, including \"Fiction Genres\" and \"Self-Help & Personal Development,\" have a relatively lower count. This suggests that Jarir focuses more heavily on a specific set of genres, with “Children & Young Adults” standing out far more prominently in comparison to Amazon.\n",
    "\n",
    "### Comparison Key Metrics\n",
    "\n",
    "\n",
    "| Metric               | **Primary Data (Amazon)**         | **Secondary Data (Jarir)**       |\n",
    "|----------------------|-----------------------------------|----------------------------------|\n",
    "| **Most Frequent Genre**  | \"Children & Young Adults\"         | \"Children & Young Adults\"        |\n",
    "| **Top 3 Genres (Count)** | \"Children & Young Adults,\" \"Fiction Genres,\" \"Self-Help & Personal Development\" | \"Children & Young Adults,\" \"Fiction Genres,\" \"Self-Help & Personal Development\" |\n",
    "| **Average Count**     | Varied (around 5-10 counts per genre) | Very skewed towards \"Children & Young Adults\" |\n",
    "\n",
    "From the table above, it is clear that both datasets share common genres but differ significantly in the spread of counts.\n",
    "\n",
    "\n",
    "### Contextualize Findings\n",
    "\n",
    "**Validation of Primary Data:**\n",
    "- Consistency in Popular Genres: \"Children & Young Adults\" dominanate in both datasets, confirming the validity of the primary data in reflecting general trends in the market.\n",
    "\n",
    "**Comparison and Contradictions**:\n",
    "\n",
    "   - The contrast between the broad range of genres in Amazon and the more niche focus in Jarir raises questions about the **sampling and market differences**. Amazon's wider genre distribution might point to a global reach, with diversified customer interests, whereas Jarir could be serving a specific market where children’s literature is a priority."
   ]
  },
  {
   "cell_type": "markdown",
   "metadata": {},
   "source": [
    "### 4 - Graphical , Multivariate"
   ]
  },
  {
   "cell_type": "code",
   "execution_count": null,
   "metadata": {},
   "outputs": [],
   "source": []
  },
  {
   "cell_type": "markdown",
   "metadata": {},
   "source": [
    "# 5. Data Preprocessing (After EDA)"
   ]
  },
  {
   "cell_type": "markdown",
   "metadata": {},
   "source": [
    "Here we start process the dataset of all primary and secondary after integration "
   ]
  },
  {
   "cell_type": "markdown",
   "metadata": {},
   "source": [
    "## Processe Integreted Dataset"
   ]
  },
  {
   "cell_type": "markdown",
   "metadata": {},
   "source": [
    "### Handling Duplicate Rows and Data Aggregation\n",
    "In this section, we normalized the 'Title' column by converting text to lowercase and removing extra spaces to standardize comparisons. Duplicate rows were identified based on the cleaned title and author columns. We then aggregated the duplicates by calculating the mean for numeric columns, summing 'Num Of Reviews', and concatenating unique values in text columns like 'Book Type' and 'Genre'. Finally, the results were displayed in a formatted table using the `tabulate()` library for clear and structured visualization."
   ]
  },
  {
   "cell_type": "code",
   "execution_count": null,
   "metadata": {},
   "outputs": [],
   "source": [
    "import pandas as pd\n",
    "from tabulate import tabulate\n",
    "\n",
    "\n",
    "# Clean and normalize text in the 'Title' column (convert to lowercase and remove extra spaces)\n",
    "rawBooks_df['Title Clean'] = rawBooks_df['Title'].str.lower().str.strip()\n",
    "\n",
    "# Identify duplicate rows based on the cleaned 'Title' and 'Author' columns\n",
    "potential_duplicates = rawBooks_df[rawBooks_df.duplicated(subset=['Title Clean', 'Author'], keep=False)]\n",
    "\n",
    "# Print duplicate rows to verify\n",
    "print(\"Duplicate rows before processing:\")\n",
    "print(potential_duplicates)\n",
    "\n",
    "# Aggregate duplicate rows by calculating average and sum for numeric columns, and merging unique values for text columns\n",
    "aggregated_duplicates = potential_duplicates.groupby(\n",
    "    ['Title Clean', 'Author']\n",
    ").agg({\n",
    "    'Price': 'mean',\n",
    "    'Rating': 'mean',\n",
    "    'Num Of Reviews': 'sum',\n",
    "    'Book Type': lambda x: ', '.join(x.unique()),\n",
    "    'Genre': lambda x: ', '.join(x.unique())\n",
    "}).reset_index()\n",
    "\n",
    "# Formatting the numeric columns\n",
    "aggregated_duplicates['Price'] = aggregated_duplicates['Price'].astype(int)  # Remove decimals\n",
    "aggregated_duplicates['Rating'] = aggregated_duplicates['Rating'].round(1)   # Keep one decimal place\n",
    "\n",
    "# Rename the cleaned title column back to 'Title'\n",
    "aggregated_duplicates.rename(columns={'Title Clean': 'Title'}, inplace=True)\n",
    "\n",
    "# Add a cover image link to the aggregated duplicates\n",
    "aggregated_duplicates['Cover Image'] = 'https://images-eu.ssl-images-amazon.com/images/I/81E3hDPr3eL._AC_UL300_SR300,200_.jpg'\n",
    "\n",
    "# Remove duplicate rows from the original DataFrame\n",
    "rawBooks_df.drop_duplicates(subset=['Title Clean', 'Author'], keep=False, inplace=True)\n",
    "\n",
    "# Drop the 'Title Clean' column\n",
    "rawBooks_df.drop(columns='Title Clean', inplace=True)\n",
    "\n",
    "# Merge the aggregated duplicates back into the original DataFrame\n",
    "rawBooks_df = pd.concat([rawBooks_df, aggregated_duplicates], ignore_index=True)\n",
    "\n",
    "# Print the processed rows\n",
    "print(\"\\nProcessed aggregated rows:\")\n",
    "print(tabulate(aggregated_duplicates, headers='keys', tablefmt='grid', showindex=False))"
   ]
  },
  {
   "cell_type": "markdown",
   "metadata": {},
   "source": [
    "###  Normalization\n",
    "- We will use normalization for the 'Num Of Reviews' column because the values vary widely, and we need to simplify them. We chose the Min-Max scaling method because it is the most suitable for this case. By normalizing the data to a scale from 0 to 5, we can align it with the 'Rating' column, which also has values ranging from 0 to 5. This ensures that both columns are on a similar scale and can be more easily compared.\n",
    "We used MinMaxScalerc class provided by the sklearn.preprocessing module, which is part of the scikit-learn library to do normalization"
   ]
  },
  {
   "cell_type": "code",
   "execution_count": null,
   "metadata": {},
   "outputs": [],
   "source": [
    "from sklearn.preprocessing import MinMaxScaler\n",
    "\n",
    "scaler = MinMaxScaler(feature_range=(0, 5))\n",
    "\n",
    "# Normalize the\"Num of Reviews\" columns\n",
    "rawBooks_df[['Num Of Reviews']] = scaler.fit_transform(rawBooks_df[['Num Of Reviews']])\n",
    "rawBooks_df"
   ]
  },
  {
   "cell_type": "markdown",
   "metadata": {},
   "source": [
    "### Discretization and Encoding \n",
    "\n",
    "- We noticed that the 'Price' column contains continuous values, which need to be processed in a way that makes them simpler to handle. We decided to first perform discretization by dividing the values into five labels using bins. The labels range from 'Very Low' to 'Very High'. After discretization, we applied encoding and mapped these labels ordinally from 0 to 4 to simplify feature processing.\n",
    "\n"
   ]
  },
  {
   "cell_type": "code",
   "execution_count": null,
   "metadata": {},
   "outputs": [],
   "source": [
    "# Get the min and max of the Price column to understand the range\n",
    "min_price = rawBooks_df['Price'].min()\n",
    "max_price = rawBooks_df['Price'].max()\n",
    "\n",
    "print(f\"Min Price: {min_price}, Max Price: {max_price}\")\n",
    "\n",
    "# Define bin edges using quantiles (5 bins based on price distribution)\n",
    "bin_edges = [min_price,\n",
    "             rawBooks_df['Price'].quantile(0.2),\n",
    "             rawBooks_df['Price'].quantile(0.4),\n",
    "             rawBooks_df['Price'].quantile(0.6),\n",
    "             rawBooks_df['Price'].quantile(0.8),\n",
    "             max_price]\n",
    "\n",
    "# Define labels for each bin\n",
    "bin_labels = ['Very Low', 'Low', 'Medium', 'High', 'Very High']\n",
    "\n",
    "# Apply discretization using pd.cut()\n",
    "rawBooks_df['Price'] = pd.cut(rawBooks_df['Price'], bins=bin_edges, labels=bin_labels, right=False)\n",
    "\n",
    "\n",
    "\n",
    "rawBooks_df"
   ]
  },
  {
   "cell_type": "code",
   "execution_count": null,
   "metadata": {},
   "outputs": [],
   "source": [
    "# Encode labels to integers\n",
    "label_encoding = {'Very Low': 0, 'Low': 1, 'Medium': 2, 'High': 3, 'Very High': 4}\n",
    "rawBooks_df['Price'] = rawBooks_df['Price'].map(label_encoding)\n",
    "rawBooks_df"
   ]
  },
  {
   "cell_type": "markdown",
   "metadata": {},
   "source": [
    "## References"
   ]
  },
  {
   "cell_type": "markdown",
   "metadata": {},
   "source": [
    "1. A. Alharbi, \"Exploring Factors Influencing the Amazon Best-Selling Books Selection Process from 2009 to 2019,\" ResearchGate, 2024. [Online]. Available: https://www.researchgate.net/publication/382998978_Exploring_Factors_Influencing_the_Amazon_Best-Selling_Books_Selection_Process_from_2009_to_2019.\n",
    "\n",
    "2. J. Smith and J. Doe, \"Using Full-Text Content to Characterize and Identify Best Seller Books,\" PLOS ONE, May 11, 2023. [Online]. Available: https://journals.plos.org/plosone/article?id=10.1371/journal.pone.0302070.\n",
    "\n",
    "3. L. Johnson and K. Brown, \"Analyzing Social Book Reading Behavior on Goodreads and How It Predicts Amazon Best Sellers,\" ResearchGate, 2018. [Online]. Available: https://www.researchgate.net/publication/327789907_Analyzing_Social_Book_Reading_Behavior_on_Goodreads_and_how_it_predicts_Amazon_Best_Sellers.\n",
    "4. Hurix Digital, \"Knowing the Psychology of Book Cover Design,\" Hurix Blogs, 2023. [Online]. Available: [https://www.hurix.com/blogs/knowing-the-psychology-of-book-cover-design](https://www.hurix.com/blogs/knowing-the-psychology-of-book-cover-design)."
   ]
  },
  {
   "cell_type": "code",
   "execution_count": null,
   "metadata": {},
   "outputs": [],
   "source": []
  }
 ],
 "metadata": {
  "kernelspec": {
   "display_name": "Python 3 (ipykernel)",
   "language": "python",
   "name": "python3"
  },
  "language_info": {
   "codemirror_mode": {
    "name": "ipython",
    "version": 3
   },
   "file_extension": ".py",
   "mimetype": "text/x-python",
   "name": "python",
   "nbconvert_exporter": "python",
   "pygments_lexer": "ipython3",
   "version": "3.12.4"
  }
 },
 "nbformat": 4,
 "nbformat_minor": 4
}
